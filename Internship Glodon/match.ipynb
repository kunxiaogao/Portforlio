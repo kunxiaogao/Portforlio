{
 "cells": [
  {
   "cell_type": "code",
   "execution_count": 1,
   "id": "7dd4403f-dd8b-4b1f-9c82-d9aafb7d01db",
   "metadata": {},
   "outputs": [],
   "source": [
    "from sklearn.model_selection import cross_val_score, StratifiedKFold, StratifiedShuffleSplit, train_test_split, RandomizedSearchCV, PredefinedSplit\n",
    "from sklearn.metrics import log_loss, matthews_corrcoef, roc_auc_score\n",
    "from sklearn.metrics import accuracy_score\n",
    "import xgboost as xgb\n",
    "from xgboost import XGBClassifier\n",
    "from sklearn import metrics\n",
    "from sklearn.metrics import plot_confusion_matrix\n",
    "from sklearn.metrics import roc_curve, RocCurveDisplay,auc\n",
    "from sklearn.metrics import precision_recall_curve, PrecisionRecallDisplay"
   ]
  },
  {
   "cell_type": "code",
   "execution_count": 2,
   "id": "1119b6e0-2374-42c7-a307-129e01821579",
   "metadata": {},
   "outputs": [],
   "source": [
    "import requests\n",
    "import numpy as np\n",
    "import pandas as pd\n",
    "import time\n",
    "import os\n",
    "from pyspark.sql.window import Window\n",
    "from math import ceil\n",
    "from datetime import datetime\n",
    "from pyspark.sql import SparkSession\n",
    "from pyspark.sql import functions as F\n",
    "from datetime import timedelta, datetime\n",
    "from sqlalchemy import create_engine\n",
    "from urllib import parse\n",
    "from pyspark.sql.functions import regexp_replace, regexp_extract\n",
    "from pyspark.sql.functions import *"
   ]
  },
  {
   "cell_type": "code",
   "execution_count": 3,
   "id": "76b83c9b-7e8f-4927-933d-aeff91a443ba",
   "metadata": {},
   "outputs": [],
   "source": [
    "import sys\n",
    "sys.path.append('/data/gtair/tools/DWH')\n",
    "from GlodonSparkSession3 import GlodonSparkSession\n",
    "import os\n",
    "from pyspark.sql import functions as F"
   ]
  },
  {
   "cell_type": "code",
   "execution_count": 4,
   "id": "6d474170-c7a9-4586-b650-595e28d740ce",
   "metadata": {
    "tags": []
   },
   "outputs": [
    {
     "name": "stdout",
     "output_type": "stream",
     "text": [
      "===============>app_name: gaokx_low_114076101\n",
      "=====================>resource_lev: low\n"
     ]
    },
    {
     "name": "stderr",
     "output_type": "stream",
     "text": [
      "Warning: Ignoring non-Spark config property: yarn.executor.num\n",
      "Warning: Ignoring non-Spark config property: yarn.executor.cores\n",
      "23/08/04 01:10:09 WARN util.NativeCodeLoader: Unable to load native-hadoop library for your platform... using builtin-java classes where applicable\n",
      "Setting default log level to \"WARN\".\n",
      "To adjust logging level use sc.setLogLevel(newLevel). For SparkR, use setLogLevel(newLevel).\n",
      "23/08/04 01:10:10 WARN util.Utils: Service 'SparkUI' could not bind on port 4040. Attempting port 4041.\n",
      "23/08/04 01:10:10 WARN util.Utils: Service 'SparkUI' could not bind on port 4041. Attempting port 4042.\n",
      "23/08/04 01:10:10 WARN util.Utils: Service 'SparkUI' could not bind on port 4042. Attempting port 4043.\n",
      "23/08/04 01:10:11 WARN shortcircuit.DomainSocketFactory: The short-circuit local reads feature cannot be used because libhadoop cannot be loaded.\n",
      "23/08/04 01:10:12 WARN yarn.Client: Neither spark.yarn.jars nor spark.yarn.archive is set, falling back to uploading libraries under SPARK_HOME.\n",
      "23/08/04 01:10:20 WARN spark.ExecutorAllocationManager: Dynamic allocation without a shuffle service is an experimental feature.\n",
      "23/08/04 01:10:20 WARN cluster.YarnSchedulerBackend$YarnSchedulerEndpoint: Attempted to request executors before the AM has registered!\n"
     ]
    }
   ],
   "source": [
    "spark = GlodonSparkSession().getSparkSession()"
   ]
  },
  {
   "cell_type": "code",
   "execution_count": 7,
   "id": "3f6acd56-32b3-40b1-a9f0-ba049020fae6",
   "metadata": {
    "tags": []
   },
   "outputs": [
    {
     "name": "stderr",
     "output_type": "stream",
     "text": [
      "23/07/31 01:08:46 ERROR net.ScriptBasedMapping: Script /usr/hdp/3.1.4.0-315/hadoop/conf/topology_script.py returned 1 values when 3 were expected.\n",
      "                                                                                \r"
     ]
    }
   ],
   "source": [
    "base_data=spark.read.option(\"header\",\"true\").csv(\"/tmp/lig-u/ods_jst_success_bid_company.csv\")"
   ]
  },
  {
   "cell_type": "code",
   "execution_count": 8,
   "id": "ba9046dc-1a29-4daa-b43e-66fe6132628f",
   "metadata": {},
   "outputs": [],
   "source": [
    "base_data = base_data.dropDuplicates(subset=[c for c in base_data.columns if c in [\"company_name\"]])"
   ]
  },
  {
   "cell_type": "code",
   "execution_count": 9,
   "id": "d27e7ba0-fc42-4a5d-9a53-61c2c446cfa6",
   "metadata": {},
   "outputs": [],
   "source": [
    "base_data=base_data.select('company_name','province')"
   ]
  },
  {
   "cell_type": "code",
   "execution_count": 10,
   "id": "ee884758-8963-4525-8a83-5116d9fd86ea",
   "metadata": {
    "collapsed": true,
    "jupyter": {
     "outputs_hidden": true
    },
    "tags": []
   },
   "outputs": [
    {
     "name": "stderr",
     "output_type": "stream",
     "text": [
      "23/07/31 01:08:48 ERROR net.ScriptBasedMapping: Script /usr/hdp/3.1.4.0-315/hadoop/conf/topology_script.py returned 1 values when 18 were expected.\n",
      "[Stage 4:=======================================>                   (4 + 2) / 6]\r"
     ]
    },
    {
     "name": "stdout",
     "output_type": "stream",
     "text": [
      "+-------------------+-----+\n",
      "|           province|count|\n",
      "+-------------------+-----+\n",
      "|               江苏|48451|\n",
      "|               山东|45045|\n",
      "|               广东|37439|\n",
      "|               浙江|31084|\n",
      "|               河南|30437|\n",
      "|               四川|30003|\n",
      "|               安徽|27138|\n",
      "|               陕西|25441|\n",
      "|               湖北|24409|\n",
      "|               河北|23235|\n",
      "|               山西|18770|\n",
      "|               甘肃|15921|\n",
      "|             内蒙古|15920|\n",
      "|               福建|15702|\n",
      "|             黑龙江|14487|\n",
      "|               江西|13414|\n",
      "|               辽宁|13140|\n",
      "|               北京|12730|\n",
      "|               湖南|12469|\n",
      "|                 无|11956|\n",
      "|               云南|11428|\n",
      "|               上海|10248|\n",
      "|               新疆| 9814|\n",
      "|               贵州| 9584|\n",
      "|               广西| 9114|\n",
      "|               吉林| 8829|\n",
      "|               null| 8768|\n",
      "|               天津| 7932|\n",
      "|               重庆| 7641|\n",
      "|               青海| 4825|\n",
      "|               宁夏| 4076|\n",
      "|               海南| 3009|\n",
      "|               西藏| 2839|\n",
      "|               全国|   48|\n",
      "|               null|    5|\n",
      "|               清远|    4|\n",
      "|               辖区|    4|\n",
      "|插入式电磁流量计等\"|    2|\n",
      "|         新疆维吾尔|    1|\n",
      "|               郑州|    1|\n",
      "+-------------------+-----+\n",
      "only showing top 40 rows\n",
      "\n"
     ]
    },
    {
     "name": "stderr",
     "output_type": "stream",
     "text": [
      "                                                                                \r"
     ]
    }
   ],
   "source": [
    "base_data = base_data.withColumn('province', regexp_replace('province',\n",
    "                                                             '省|市|自治区', ''))\n",
    "base_data.groupBy('province').count().orderBy(desc('count')).show(40)"
   ]
  },
  {
   "cell_type": "code",
   "execution_count": 11,
   "id": "0554cf2f-5b10-428b-a8bb-c889974557e7",
   "metadata": {},
   "outputs": [],
   "source": [
    "base_data.createOrReplaceTempView(\"base_data\")"
   ]
  },
  {
   "cell_type": "code",
   "execution_count": 50,
   "id": "1eefdeb4-efe5-4c3c-b4f0-29b12d621395",
   "metadata": {
    "tags": []
   },
   "outputs": [],
   "source": [
    "base_customer=spark.read.option(\"header\",\"true\").csv(\"/tmp/lig-u/st02_data/customer_dim.csv/\")"
   ]
  },
  {
   "cell_type": "code",
   "execution_count": 51,
   "id": "cfabc1c0-ac40-4cc6-a324-d6e3021e5c03",
   "metadata": {},
   "outputs": [],
   "source": [
    "base_customer = base_customer.dropDuplicates(subset=[c for c in base_customer.columns if c in [\"accnt_name\"]])"
   ]
  },
  {
   "cell_type": "code",
   "execution_count": 52,
   "id": "28cf37f6-afb8-472a-b487-8414dfc11f3f",
   "metadata": {},
   "outputs": [
    {
     "name": "stderr",
     "output_type": "stream",
     "text": [
      "23/08/02 02:58:22 ERROR net.ScriptBasedMapping: Script /usr/hdp/3.1.4.0-315/hadoop/conf/topology_script.py returned 1 values when 7 were expected.\n",
      "[Stage 586:===============================================>         (5 + 1) / 6]\r"
     ]
    },
    {
     "name": "stdout",
     "output_type": "stream",
     "text": [
      "+------------+------------+----------+--------------------------------------+--------------+------------------+--------------+------------+------------+---------+------------+--------------+--------+---------------------+----------------+------+------------+--------------------+\n",
      "|customer_wid|account_code|  accnt_id|                            accnt_name|      province| social_credit_num|regist_capital|  unit_level|act_category|act_alias|ent_category|     ent_level|industry|           accnt_type|            kq1j|branch|  management|             created|\n",
      "+------------+------------+----------+--------------------------------------+--------------+------------------+--------------+------------+------------+---------+------------+--------------+--------+---------------------+----------------+------+------------+--------------------+\n",
      "|    23285582|      638390| 1-5CS-539|            &nbsp;辽宁林业职业技术学院|        辽宁省|              null|          null|      公司级|        null|     null|  中小型用户|      基建甲方|    房建|其他甲方-部队医院学校|设计与成本客户群|  沈阳|营销管理二部|2011-01-08T18:48:...|\n",
      "|    35030867|   1-2ACI5EX| 1-2ACI5EX|      (TB)陶思英（鲁园建设）<已隐藏...|        陕西省|              null|          null|        个人|        null|     null|    普通客户|          null|    房建|                 个人|设计与成本客户群|  陕西|营销管理二部|2018-04-20T17:35:...|\n",
      "|    23442612|       38495|1-5AM-3162|   (不打印)河北省定兴县建筑安装工程...|          null|              null|          null|        个人|        null|     null|    普通客户|          null|    土建|             其他甲方|设计与成本客户群|石家庄|营销管理三部|2011-01-08T18:48:...|\n",
      "|    23374676|       40015|1-5AM-4521|   (不打印)涿州市康隆建筑安装工程公...|          null|              null|          null|        个人|        null|     null|    普通客户|          null|    土建|             其他甲方|设计与成本客户群|石家庄|营销管理三部|2011-01-08T18:48:...|\n",
      "|    23358058|       35408| 1-5AM-428|              (丢失)哈尔滨中诚建筑公司|          null|              null|          null|        个人|        null|     null|  中小型用户|          null|    房建|               造价站|            null|哈尔滨|营销管理二部|2011-01-08T18:48:...|\n",
      "|    23562854|       91937|1-5BD-3331|   (丢失)昆明金宇房地产评估有限责任...|        云南省|              null|          null|集团/总部/局|        null|     null|    普通客户|          null|    电力|           房地产甲方|设计与成本客户群|  云南|营销管理三部|2011-01-08T18:48:...|\n",
      "|    23142092|    1-MOR3PV|  1-MOR3PV|                   (丢失-不做业务)冷强|      黑龙江省|              null|          null|        个人|        null|     null|    普通客户|          null|    房建|     个人（翻样客户）|            null|哈尔滨|营销管理二部|2014-05-29T08:54:...|\n",
      "|    23442079|    1-QEN5NS|  1-QEN5NS|    (丢失-不做业务)华能集中供热有限...|      黑龙江省|              null|          null|   分/子公司|        null|     null|  中小型用户|          null|    房建|             施工散户|            null|哈尔滨|营销管理二部|2014-09-25T08:48:...|\n",
      "|    23182623|    1-MP8C5Z|  1-MP8C5Z|                   (丢失-不做业务)吕鹏|      黑龙江省|              null|          null|        个人|        null|     null|    普通客户|          null|    房建|     个人（翻样客户）|            null|哈尔滨|营销管理二部|2014-05-29T17:27:...|\n",
      "|    23267777|       37142|1-5AM-1937|    (丢失-没有业务)哈尔滨运华房地产...|      黑龙江省|912301007184553890| 10000.0000000|集团/总部/局|        null|     null|  中小型用户|民营中小型甲方|    房建|           房地产甲方|            null|哈尔滨|营销管理二部|2011-01-08T18:48:...|\n",
      "|    23341370|    1-OYRNPB|  1-OYRNPB|    (丢失-联系不上)中国建筑第七工程...|      黑龙江省|              null|          null|      项目部|        null|     null|    普通客户|          null|    房建|             施工散户|            null|哈尔滨|营销管理二部|2014-08-15T16:29:...|\n",
      "|    23446497|    1-MQ3J85|  1-MQ3J85|     (丢失-联系不上)呼兰宝亨建筑经济部|      黑龙江省|              null|          null|   分/子公司|        null|     null|    普通客户|          null|    房建|             施工散户|            null|哈尔滨|营销管理二部|2014-05-29T17:27:...|\n",
      "|    23597489|      628460|1-5CP-4054|                 (丢失-联系不上)马延民|      黑龙江省|              null|          null|        个人|        null|     null|  中小型用户|          其他|    房建|                 个人|            null|哈尔滨|营销管理二部|2011-01-08T18:48:...|\n",
      "|    23394449|       32887|1-5AJ-3185|            (删除)大庆北星电力建筑公司|          null|              null|          null|        个人|        null|     null|  中小型用户|          null|    安装|             其他甲方|设计与成本客户群|哈尔滨|营销管理二部|2011-01-08T18:48:...|\n",
      "|    23207457|       34225|1-5AJ-4362|    (删除)大庆市石油管理局定额造价中心|          null|              null|          null|        个人|        null|     null|  中小型用户|          null|    电力|             施工散户|设计与成本客户群|哈尔滨|营销管理二部|2011-01-08T18:48:...|\n",
      "|    23979696|   1-1H59NH4| 1-1H59NH4|   (失效)广西世纪长和贸易有限公司预...|广西壮族自治区|              null|          null|   分/子公司|        null|     null|    普通客户|          null|    其他|             其他甲方|设计与成本客户群|  广西|营销管理三部|2016-08-17T15:09:...|\n",
      "|    23816863|   1-19VBAPL| 1-19VBAPL|   (失效)广西启盛建设有限公司预算部...|广西壮族自治区|              null|          null|   分/子公司|        null|     null|    普通客户|          null|    房建|             施工散户|设计与成本客户群|  广西|营销管理三部|2016-04-06T17:17:...|\n",
      "|    23964786|       93762|1-5BD-4817|(放弃)云南建安水电工程建设监理有限公司|        云南省|              null|          null|集团/总部/局|        null|     null|    普通客户|          null|    电力|                 中介|设计与成本客户群|  云南|营销管理三部|2011-01-08T18:48:...|\n",
      "|    23218180|       80339|1-5B7-3371|    (放弃)昆明南发滇池开发有限公司<...|        云南省|              null|          null|集团/总部/局|        null|     null|    普通客户|          null|    土建|           房地产甲方|设计与成本客户群|  云南|营销管理三部|2011-01-08T18:48:...|\n",
      "|    23356593|       89166| 1-5BD-929|          (放弃)昆明市万德科技有限公司|        云南省|91530100727295399T|          null|集团/总部/局|        null|     null|  中小型用户|          null|    电力|             其他甲方|设计与成本客户群|  云南|营销管理三部|2011-01-08T18:48:...|\n",
      "+------------+------------+----------+--------------------------------------+--------------+------------------+--------------+------------+------------+---------+------------+--------------+--------+---------------------+----------------+------+------------+--------------------+\n",
      "only showing top 20 rows\n",
      "\n"
     ]
    },
    {
     "name": "stderr",
     "output_type": "stream",
     "text": [
      "                                                                                \r"
     ]
    }
   ],
   "source": [
    "base_customer.show()"
   ]
  },
  {
   "cell_type": "code",
   "execution_count": 14,
   "id": "e3b56f35-7561-4427-84b1-700dfd11e9a8",
   "metadata": {},
   "outputs": [],
   "source": [
    "base_customer = base_customer.select('customer_wid','accnt_name','province')"
   ]
  },
  {
   "cell_type": "code",
   "execution_count": 15,
   "id": "c8141509-acdd-4281-8860-90793840c590",
   "metadata": {
    "tags": []
   },
   "outputs": [],
   "source": [
    "base_customer = base_customer.withColumn('province', regexp_replace('province',\n",
    "                                                             '省|市|自治区|壮族|回族', ''))\n",
    "#base_customer.groupBy('province').count().orderBy(desc('count')).show(40)"
   ]
  },
  {
   "cell_type": "code",
   "execution_count": 16,
   "id": "1d6ca15e-924c-4820-a88a-39b5abcafae6",
   "metadata": {},
   "outputs": [],
   "source": [
    "base_customer.createOrReplaceTempView(\"base_customer\")"
   ]
  },
  {
   "cell_type": "code",
   "execution_count": 17,
   "id": "937a76e8-4548-4688-b3f5-f5f63d62ff27",
   "metadata": {},
   "outputs": [],
   "source": [
    "#base_data.filter(F.length(base_data.company_name)<7).count() ###去掉6个"
   ]
  },
  {
   "cell_type": "code",
   "execution_count": 18,
   "id": "a2a5b3f8-9a1f-4099-bd0b-ad6c8fae322f",
   "metadata": {},
   "outputs": [],
   "source": [
    "base_customer2 = base_customer.filter(F.length(base_customer['accnt_name']) >= 7)"
   ]
  },
  {
   "cell_type": "code",
   "execution_count": 19,
   "id": "d06f42b3-698d-4c93-991b-75fdb9b8b948",
   "metadata": {},
   "outputs": [
    {
     "name": "stderr",
     "output_type": "stream",
     "text": [
      "23/07/31 01:09:56 ERROR net.ScriptBasedMapping: Script /usr/hdp/3.1.4.0-315/hadoop/conf/topology_script.py returned 1 values when 14 were expected.\n",
      "                                                                                \r"
     ]
    },
    {
     "data": {
      "text/plain": [
       "790816"
      ]
     },
     "execution_count": 19,
     "metadata": {},
     "output_type": "execute_result"
    }
   ],
   "source": [
    "base_customer2.count()"
   ]
  },
  {
   "cell_type": "code",
   "execution_count": 20,
   "id": "d69790a5-5358-470b-a0e3-0c5e70686472",
   "metadata": {},
   "outputs": [],
   "source": [
    "df1 = base_data.join(base_customer2,base_data.company_name==base_customer2.accnt_name,'inner') ## 2817543/3580515=0.7869099836196748"
   ]
  },
  {
   "cell_type": "code",
   "execution_count": 21,
   "id": "1daaf5ae-45ff-4249-bd90-647d2735afdb",
   "metadata": {},
   "outputs": [
    {
     "name": "stderr",
     "output_type": "stream",
     "text": [
      "23/07/31 01:10:40 ERROR net.ScriptBasedMapping: Script /usr/hdp/3.1.4.0-315/hadoop/conf/topology_script.py returned 1 values when 18 were expected.\n",
      "23/07/31 01:10:40 ERROR net.ScriptBasedMapping: Script /usr/hdp/3.1.4.0-315/hadoop/conf/topology_script.py returned 1 values when 14 were expected.\n",
      "                                                                                \r"
     ]
    },
    {
     "data": {
      "text/plain": [
       "64146"
      ]
     },
     "execution_count": 21,
     "metadata": {},
     "output_type": "execute_result"
    }
   ],
   "source": [
    "df1.count()"
   ]
  },
  {
   "cell_type": "code",
   "execution_count": 22,
   "id": "b40b08e0-5571-4108-b35b-c0cc16228593",
   "metadata": {},
   "outputs": [
    {
     "name": "stderr",
     "output_type": "stream",
     "text": [
      "23/07/31 01:11:18 ERROR net.ScriptBasedMapping: Script /usr/hdp/3.1.4.0-315/hadoop/conf/topology_script.py returned 1 values when 18 were expected.\n",
      "23/07/31 01:11:18 ERROR net.ScriptBasedMapping: Script /usr/hdp/3.1.4.0-315/hadoop/conf/topology_script.py returned 1 values when 14 were expected.\n",
      "                                                                                \r"
     ]
    }
   ],
   "source": [
    "customer_list = [row['accnt_name'] for row in df1.select('accnt_name').collect()]"
   ]
  },
  {
   "cell_type": "code",
   "execution_count": 23,
   "id": "72573fc3-820e-47b8-a6f5-2b19efb20001",
   "metadata": {},
   "outputs": [],
   "source": [
    "base_customer_rest = base_customer2.filter(base_customer2['accnt_name'].isin(customer_list)==False)"
   ]
  },
  {
   "cell_type": "code",
   "execution_count": 24,
   "id": "bfdea605-f613-488d-a905-8daf102bee06",
   "metadata": {},
   "outputs": [],
   "source": [
    "base_data_rest = base_data.filter(base_data['company_name'].isin(customer_list)==False)"
   ]
  },
  {
   "cell_type": "code",
   "execution_count": 25,
   "id": "be03acfd-e0b1-489d-a32a-017427bc4341",
   "metadata": {},
   "outputs": [],
   "source": [
    "#base_data_rest[base_data_rest['company_name'].like('%)%')].show(5)"
   ]
  },
  {
   "cell_type": "code",
   "execution_count": 26,
   "id": "e4c800e8-82da-4e88-b112-bedd11b5a8dc",
   "metadata": {},
   "outputs": [],
   "source": [
    "base_data_rest = base_data_rest.withColumn('company_name_new', regexp_replace('company_name',\n",
    "                                                             '[`~!@#$%^&*()_\\-+=<>?:\"{}|,.\\/;\\'\\[\\]]', ''))\n",
    "base_customer_rest = base_customer_rest.withColumn('accnt_name_new', regexp_replace('accnt_name',\n",
    "                                                             '[`~!@#$%^&*()_\\-+=<>?:\"{}|,.\\/;\\'\\[\\]]', ''))"
   ]
  },
  {
   "cell_type": "code",
   "execution_count": 27,
   "id": "91ddaf82-30a0-430e-8758-868f3ba4ca95",
   "metadata": {},
   "outputs": [
    {
     "name": "stderr",
     "output_type": "stream",
     "text": [
      "23/07/31 01:16:15 ERROR net.ScriptBasedMapping: Script /usr/hdp/3.1.4.0-315/hadoop/conf/topology_script.py returned 1 values when 18 were expected.\n",
      "23/07/31 01:16:32 WARN scheduler.DAGScheduler: Broadcasting large task binary with size 3.2 MiB\n",
      "                                                                                \r"
     ]
    }
   ],
   "source": [
    "pandas_base = base_data_rest.toPandas()"
   ]
  },
  {
   "cell_type": "code",
   "execution_count": 28,
   "id": "a5055d10-35ea-47b0-a003-44f1fa32a708",
   "metadata": {},
   "outputs": [
    {
     "name": "stderr",
     "output_type": "stream",
     "text": [
      "23/07/31 01:16:47 ERROR net.ScriptBasedMapping: Script /usr/hdp/3.1.4.0-315/hadoop/conf/topology_script.py returned 1 values when 12 were expected.\n",
      "23/07/31 01:16:53 WARN scheduler.DAGScheduler: Broadcasting large task binary with size 3.2 MiB\n",
      "                                                                                \r"
     ]
    }
   ],
   "source": [
    "pandas_customer = base_customer_rest.toPandas()"
   ]
  },
  {
   "cell_type": "code",
   "execution_count": 22,
   "id": "92475e0d-5614-47e6-893e-f090e01ee54c",
   "metadata": {},
   "outputs": [
    {
     "name": "stderr",
     "output_type": "stream",
     "text": [
      "Building prefix dict from the default dictionary ...\n",
      "Loading model from cache /tmp/jieba.cache\n",
      "Loading model cost 0.747 seconds.\n",
      "Prefix dict has been built successfully.\n"
     ]
    }
   ],
   "source": [
    "# -*- coding: utf-8 -*-\n",
    "import jieba\n",
    "s=pandas_base['company_name_new'].to_list()+pandas_customer['accnt_name_new'].to_list()\n",
    "counts = {}\n",
    "for i in s:\n",
    "    token = jieba.lcut(i)\n",
    "    for word in token:\n",
    "        if len(word)==1:\n",
    "            continue\n",
    "        else:\n",
    "            counts[word] = counts.get(word, 0) + 1\n",
    "items = list(counts.items())\n",
    "items.sort(key=lambda x: x[1], reverse=True) "
   ]
  },
  {
   "cell_type": "code",
   "execution_count": 23,
   "id": "f8b246ca-f28d-4d35-be09-4b97fb6252ee",
   "metadata": {},
   "outputs": [
    {
     "data": {
      "text/html": [
       "<div>\n",
       "<style scoped>\n",
       "    .dataframe tbody tr th:only-of-type {\n",
       "        vertical-align: middle;\n",
       "    }\n",
       "\n",
       "    .dataframe tbody tr th {\n",
       "        vertical-align: top;\n",
       "    }\n",
       "\n",
       "    .dataframe thead th {\n",
       "        text-align: right;\n",
       "    }\n",
       "</style>\n",
       "<table border=\"1\" class=\"dataframe\">\n",
       "  <thead>\n",
       "    <tr style=\"text-align: right;\">\n",
       "      <th></th>\n",
       "      <th>word</th>\n",
       "      <th>num</th>\n",
       "    </tr>\n",
       "  </thead>\n",
       "  <tbody>\n",
       "    <tr>\n",
       "      <th>0</th>\n",
       "      <td>有限公司</td>\n",
       "      <td>963650</td>\n",
       "    </tr>\n",
       "    <tr>\n",
       "      <th>1</th>\n",
       "      <td>隐藏</td>\n",
       "      <td>266753</td>\n",
       "    </tr>\n",
       "    <tr>\n",
       "      <th>2</th>\n",
       "      <td>工程</td>\n",
       "      <td>171125</td>\n",
       "    </tr>\n",
       "    <tr>\n",
       "      <th>3</th>\n",
       "      <td>2021922</td>\n",
       "      <td>147846</td>\n",
       "    </tr>\n",
       "    <tr>\n",
       "      <th>4</th>\n",
       "      <td>公司</td>\n",
       "      <td>117446</td>\n",
       "    </tr>\n",
       "  </tbody>\n",
       "</table>\n",
       "</div>"
      ],
      "text/plain": [
       "      word     num\n",
       "0     有限公司  963650\n",
       "1       隐藏  266753\n",
       "2       工程  171125\n",
       "3  2021922  147846\n",
       "4       公司  117446"
      ]
     },
     "execution_count": 23,
     "metadata": {},
     "output_type": "execute_result"
    }
   ],
   "source": [
    "df_word = pd.DataFrame(index=list(range(0,len(items))),columns=['word','num'])\n",
    "for i in range(len(items)):\n",
    "    df_word.iloc[i]=[items[i][0],items[i][1]]\n",
    "df_word.head()"
   ]
  },
  {
   "cell_type": "code",
   "execution_count": 24,
   "id": "a6990022-e451-4653-9b6f-ff940a66ab67",
   "metadata": {},
   "outputs": [],
   "source": [
    "df_word.to_csv('word.csv')"
   ]
  },
  {
   "cell_type": "code",
   "execution_count": 29,
   "id": "65a424cd-9d7f-41b3-ad26-cdc02b57a2e9",
   "metadata": {},
   "outputs": [],
   "source": [
    "delete = ['有限公司','隐藏','工程','2021922','公司','预算','建筑工程','分公司','集团','科技','建筑','有限责任','项目部','部已','开发',\n",
    "         '设计','发展','置业','投资','项目','项目管理','建筑安装','20200619','20200316','安装','2020924','建工','工程部','造价','SG','实业','股份','技术',\n",
    "          '中建','设备','工程造价', '农业','中铁','广告', '建设', '建设工程'\n",
    "         '服务','经营部','环保','20200227','商贸','中心','研究院','智能','成本','技术部','20200228','国际','信息技术',\n",
    "          '机电设备','工程建设','20200218',\n",
    "         '建筑设计','环境','工程局','文化','广告','电子科技','电梯','集团股份','监理','事务所','路桥','工程技术','电气','勘察',\n",
    "          '绿化','工程设计','交通',\n",
    "         '电子','建材','20220822','20201022','丢失','2020928','2020930','科技股份','招标','建安','承建','工业','贸易','地产',\n",
    "          '合作社','个人','世纪','工程项目',\n",
    "         '专业','钢结构','办事处','规划','环境工程','旅游','规划设计','2020927','广场','经济','20201014','生态','检测','城建']\n",
    "delete.sort(reverse=True)"
   ]
  },
  {
   "cell_type": "code",
   "execution_count": 30,
   "id": "b311eb5c-3a65-400a-b37c-69cfae3ed6d0",
   "metadata": {
    "tags": []
   },
   "outputs": [
    {
     "data": {
      "text/plain": [
       "'预算|项目部|项目管理|项目|集团股份|集团|隐藏|钢结构|部已|造价|路桥|贸易|设计|设备|规划设计|规划|股份|置业|绿化|经营部|经济|科技股份|科技|研究院|监理|电气|电梯|电子科技|电子|生态|环境工程|环境|环保|检测|机电设备|有限责任|有限公司|智能|旅游|文化|招标|投资|技术部|技术|承建|成本|开发|建设工程服务|建设|建筑设计|建筑工程|建筑安装|建筑|建材|建工|建安|广场|广告|广告|工程项目|工程部|工程造价|工程设计|工程技术|工程建设|工程局|工程|工业|实业|安装|城建|地产|国际|商贸|合作社|发展|勘察|办事处|分公司|农业|公司|信息技术|交通|事务所|中铁|中心|中建|个人|丢失|世纪|专业|SG|20220822|2021922|2020930|2020928|2020927|2020924|20201022|20201014|20200619|20200316|20200228|20200227|20200218'"
      ]
     },
     "execution_count": 30,
     "metadata": {},
     "output_type": "execute_result"
    }
   ],
   "source": [
    "delete_string = ''\n",
    "for i in range(len(delete)):\n",
    "    if i==len(delete)-1:\n",
    "        delete_string = delete_string+delete[i]\n",
    "    else:\n",
    "        delete_string = delete_string+delete[i]+'|'\n",
    "delete_string"
   ]
  },
  {
   "cell_type": "code",
   "execution_count": 31,
   "id": "5d5fd076-1a3c-40bc-913d-4fcb13116faa",
   "metadata": {},
   "outputs": [],
   "source": [
    "base_data_rest = base_data_rest.withColumn('company_name_del', regexp_replace('company_name_new',\n",
    "                                                             delete_string, ''))\n",
    "base_customer_rest = base_customer_rest.withColumn('accnt_name_del', regexp_replace('accnt_name_new',\n",
    "                                                             delete_string, ''))"
   ]
  },
  {
   "cell_type": "code",
   "execution_count": 65,
   "id": "fb816ebf-2514-4772-9836-4ad59929ce8e",
   "metadata": {},
   "outputs": [],
   "source": [
    "base_data_rest = base_data_rest.withColumn('company_name_del', regexp_replace('company_name_del',\n",
    "                                                             '[0-9]+', ''))\n",
    "base_customer_rest = base_customer_rest.withColumn('accnt_name_del', regexp_replace('accnt_name_del',\n",
    "                                                             '[0-9]+', ''))"
   ]
  },
  {
   "cell_type": "code",
   "execution_count": 4,
   "id": "9ea8b280-b049-4d23-acc5-d5d5e4d98b5e",
   "metadata": {},
   "outputs": [],
   "source": [
    "from pyspark.sql.functions import desc"
   ]
  },
  {
   "cell_type": "code",
   "execution_count": 34,
   "id": "b07f0ffc-7110-4d6a-a110-68a87013d9b2",
   "metadata": {},
   "outputs": [],
   "source": [
    "count = base_data_dropna.groupby('company_name_del').count().orderBy(desc(\"count\"))\n",
    "count = count.filter(count['count'] == 1).select('company_name_del')"
   ]
  },
  {
   "cell_type": "code",
   "execution_count": 5,
   "id": "36e74d1f-e83a-4e7b-b70f-aa6bf545d4f0",
   "metadata": {
    "tags": []
   },
   "outputs": [],
   "source": [
    "from pyspark.sql.types import *\n",
    "#schema = StructType([\n",
    "#        StructField(\"accnt_name\", StringType(), True),\n",
    "#        StructField(\"accnt_name_del\", StringType(), True),\n",
    "#        StructField(\"company_name\", StringType(), True)])\n",
    "#df = spark.createDataFrame(spark.sparkContext.emptyRDD(), schema)"
   ]
  },
  {
   "cell_type": "code",
   "execution_count": 67,
   "id": "343d2439-4e3e-4d45-91cc-06cbaf384770",
   "metadata": {},
   "outputs": [],
   "source": [
    "base = base_data_rest.filter(base_data_rest['company_name_del'] != '').withColumnRenamed('province','province_base')\n",
    "customer = base_customer_rest.filter(base_customer_rest['accnt_name_del'] != '').withColumnRenamed('province','province_customer')\n",
    "def func(base, customer, area, area_del):\n",
    "    string_del = '('\n",
    "    for j in range(len(area_del)):\n",
    "        if j != len(area_del)-1:\n",
    "            string_del = string_del+area_del[j]+'|'\n",
    "        else:\n",
    "            string_del = string_del+area_del[j]+')'\n",
    "    if area_del != []:\n",
    "        base = base.withColumn('class',regexp_extract(F.col(\"company_name\"), string_del , 0))\n",
    "        base = base.filter(F.col('class')=='')\n",
    "        customer = customer.withColumn('class',regexp_extract(F.col(\"accnt_name\"), string_del , 0))\n",
    "        customer = customer.filter(F.col('class')=='')\n",
    "        \n",
    "    schema = StructType([\n",
    "        StructField(\"accnt_name\", StringType(), True),\n",
    "        StructField(\"accnt_name_del\", StringType(), True),\n",
    "        StructField(\"company_name\", StringType(), True),\n",
    "        StructField(\"class\", StringType(), True)])\n",
    "    df = spark.createDataFrame(spark.sparkContext.emptyRDD(), schema)\n",
    "    \n",
    "    for i in range(len(area)):\n",
    "        string = '%'+area[i]+'%'\n",
    "        base_data_build = base.filter(base['company_name'].like(string))\n",
    "        base_customer_build = customer.filter(customer['accnt_name'].like(string))\n",
    "        df_del_build = base_data_build.join(base_customer_build,(base_data_build.company_name_del==base_customer_build.accnt_name_del)\n",
    "                               &(base_data_build.province_base==base_customer_build.province_customer),'inner').select('accnt_name','accnt_name_del','company_name',\n",
    "                                                                                                                       'province_base','province_customer')\n",
    "        df_f_build = df_del_build.join(count,df_del_build.accnt_name_del==count.company_name_del,'inner').dropDuplicates(subset=['accnt_name_del'])\\\n",
    "                        .withColumn('class',F.lit(area[i])).select('accnt_name','accnt_name_del','company_name','class')\n",
    "        df = df.union(df_f_build)\n",
    "        base = base.filter(~F.col('company_name').like(string))\n",
    "        customer = customer.filter(~F.col('accnt_name').like(string))\n",
    "    return df"
   ]
  },
  {
   "cell_type": "code",
   "execution_count": 79,
   "id": "bc9b0e96-bfd8-44be-a717-eca20fb8e85c",
   "metadata": {
    "tags": []
   },
   "outputs": [],
   "source": [
    "area = ['建筑工程','建设工程','科技','装饰','房地产','咨询','设计',\n",
    "        '投资','劳务','项目管理','安装','造价','环保','电力','园林绿化','市政工程','商贸','智能','信息','电力工程','机电设备','工程建设','建筑设计','园林','环境']"
   ]
  },
  {
   "cell_type": "code",
   "execution_count": 77,
   "id": "7011cacf-72f5-4bce-a355-0ba29f8444db",
   "metadata": {},
   "outputs": [],
   "source": [
    "area = ['机电设备','工程建设','建筑设计','园林','环境']\n",
    "area_del = ['建筑工程','建设工程','科技','装饰','房地产','咨询','设计',\n",
    "        '投资','劳务','项目管理','安装','造价','环保','电力','园林绿化','市政工程','商贸','智能','信息','电力工程']"
   ]
  },
  {
   "cell_type": "code",
   "execution_count": 70,
   "id": "7625a082-1833-4ceb-9634-c7fa1b396a37",
   "metadata": {
    "collapsed": true,
    "jupyter": {
     "outputs_hidden": true
    },
    "tags": []
   },
   "outputs": [
    {
     "name": "stderr",
     "output_type": "stream",
     "text": [
      "23/07/31 02:17:27 ERROR net.ScriptBasedMapping: Script /usr/hdp/3.1.4.0-315/hadoop/conf/topology_script.py returned 1 values when 12 were expected.\n",
      "23/07/31 02:17:27 ERROR net.ScriptBasedMapping: Script /usr/hdp/3.1.4.0-315/hadoop/conf/topology_script.py returned 1 values when 14 were expected.\n",
      "23/07/31 02:17:27 WARN scheduler.DAGScheduler: Broadcasting large task binary with size 5.9 MiB\n",
      "23/07/31 02:17:27 ERROR net.ScriptBasedMapping: Script /usr/hdp/3.1.4.0-315/hadoop/conf/topology_script.py returned 1 values when 14 were expected.\n",
      "23/07/31 02:17:36 WARN scheduler.DAGScheduler: Broadcasting large task binary with size 3.2 MiB\n",
      "23/07/31 02:17:36 WARN scheduler.DAGScheduler: Broadcasting large task binary with size 3.2 MiB\n",
      "23/07/31 02:17:36 WARN scheduler.DAGScheduler: Broadcasting large task binary with size 3.2 MiB\n",
      "23/07/31 02:17:36 WARN scheduler.DAGScheduler: Broadcasting large task binary with size 3.2 MiB\n",
      "23/07/31 02:17:36 WARN scheduler.DAGScheduler: Broadcasting large task binary with size 3.2 MiB\n",
      "23/07/31 02:17:37 WARN scheduler.DAGScheduler: Broadcasting large task binary with size 5.6 MiB\n",
      "23/07/31 02:17:39 WARN scheduler.DAGScheduler: Broadcasting large task binary with size 3.2 MiB\n",
      "23/07/31 02:17:39 WARN scheduler.DAGScheduler: Broadcasting large task binary with size 3.2 MiB\n",
      "23/07/31 02:17:39 WARN scheduler.DAGScheduler: Broadcasting large task binary with size 3.2 MiB\n",
      "23/07/31 02:17:39 WARN scheduler.DAGScheduler: Broadcasting large task binary with size 3.2 MiB\n",
      "23/07/31 02:17:39 WARN scheduler.DAGScheduler: Broadcasting large task binary with size 3.2 MiB\n",
      "23/07/31 02:17:42 WARN scheduler.DAGScheduler: Broadcasting large task binary with size 6.3 MiB\n",
      "23/07/31 02:17:45 WARN scheduler.DAGScheduler: Broadcasting large task binary with size 6.3 MiB\n",
      "23/07/31 02:17:48 WARN scheduler.DAGScheduler: Broadcasting large task binary with size 6.3 MiB\n",
      "23/07/31 02:17:52 WARN scheduler.DAGScheduler: Broadcasting large task binary with size 6.3 MiB\n",
      "23/07/31 02:17:56 WARN scheduler.DAGScheduler: Broadcasting large task binary with size 6.3 MiB\n",
      "23/07/31 02:17:58 WARN scheduler.DAGScheduler: Broadcasting large task binary with size 11.6 MiB\n",
      "                                                                                \r"
     ]
    }
   ],
   "source": [
    "dfa = func(base,customer,area,area_del)\n",
    "dfa.cache()\n",
    "dfa.repartition(40).write.mode('overwrite').option(\"header\",\"true\").csv(\"/tmp/lig-u/gkx_fuzzy_match_a.csv\")"
   ]
  },
  {
   "cell_type": "code",
   "execution_count": 72,
   "id": "0dcf4c4a-1997-4afb-b185-0248b0b738bf",
   "metadata": {
    "collapsed": true,
    "jupyter": {
     "outputs_hidden": true
    },
    "tags": []
   },
   "outputs": [
    {
     "name": "stderr",
     "output_type": "stream",
     "text": [
      "23/07/31 02:21:22 ERROR net.ScriptBasedMapping: Script /usr/hdp/3.1.4.0-315/hadoop/conf/topology_script.py returned 1 values when 12 were expected.\n",
      "23/07/31 02:21:22 ERROR net.ScriptBasedMapping: Script /usr/hdp/3.1.4.0-315/hadoop/conf/topology_script.py returned 1 values when 14 were expected.\n",
      "23/07/31 02:21:22 WARN scheduler.DAGScheduler: Broadcasting large task binary with size 5.9 MiB\n",
      "23/07/31 02:21:22 ERROR net.ScriptBasedMapping: Script /usr/hdp/3.1.4.0-315/hadoop/conf/topology_script.py returned 1 values when 14 were expected.\n",
      "23/07/31 02:21:30 WARN scheduler.DAGScheduler: Broadcasting large task binary with size 3.2 MiB\n",
      "23/07/31 02:21:30 WARN scheduler.DAGScheduler: Broadcasting large task binary with size 3.2 MiB\n",
      "23/07/31 02:21:30 WARN scheduler.DAGScheduler: Broadcasting large task binary with size 3.2 MiB\n",
      "23/07/31 02:21:30 WARN scheduler.DAGScheduler: Broadcasting large task binary with size 3.2 MiB\n",
      "23/07/31 02:21:30 WARN scheduler.DAGScheduler: Broadcasting large task binary with size 3.2 MiB\n",
      "23/07/31 02:21:30 WARN scheduler.DAGScheduler: Broadcasting large task binary with size 3.2 MiB\n",
      "23/07/31 02:21:30 WARN scheduler.DAGScheduler: Broadcasting large task binary with size 3.2 MiB\n",
      "23/07/31 02:21:30 WARN scheduler.DAGScheduler: Broadcasting large task binary with size 3.2 MiB\n",
      "23/07/31 02:21:30 WARN scheduler.DAGScheduler: Broadcasting large task binary with size 3.2 MiB\n",
      "23/07/31 02:21:30 WARN scheduler.DAGScheduler: Broadcasting large task binary with size 3.2 MiB\n",
      "23/07/31 02:21:34 WARN scheduler.DAGScheduler: Broadcasting large task binary with size 5.6 MiB\n",
      "23/07/31 02:21:38 WARN scheduler.DAGScheduler: Broadcasting large task binary with size 6.3 MiB\n",
      "23/07/31 02:21:41 WARN scheduler.DAGScheduler: Broadcasting large task binary with size 6.3 MiB\n",
      "23/07/31 02:21:45 WARN scheduler.DAGScheduler: Broadcasting large task binary with size 6.3 MiB\n",
      "23/07/31 02:21:49 WARN scheduler.DAGScheduler: Broadcasting large task binary with size 6.3 MiB\n",
      "23/07/31 02:21:52 WARN scheduler.DAGScheduler: Broadcasting large task binary with size 6.3 MiB\n",
      "23/07/31 02:21:54 WARN scheduler.DAGScheduler: Broadcasting large task binary with size 11.6 MiB\n",
      "                                                                                \r"
     ]
    }
   ],
   "source": [
    "dfb = func(base,customer,area,area_del)\n",
    "dfb.cache()\n",
    "dfb.repartition(40).write.mode('overwrite').option(\"header\",\"true\").csv(\"/tmp/lig-u/gkx_fuzzy_match_b.csv\")"
   ]
  },
  {
   "cell_type": "code",
   "execution_count": 74,
   "id": "50de423c-cca8-4fa8-b6a9-2bad2941ca97",
   "metadata": {
    "collapsed": true,
    "jupyter": {
     "outputs_hidden": true
    },
    "tags": []
   },
   "outputs": [
    {
     "name": "stderr",
     "output_type": "stream",
     "text": [
      "23/07/31 02:25:27 ERROR net.ScriptBasedMapping: Script /usr/hdp/3.1.4.0-315/hadoop/conf/topology_script.py returned 1 values when 12 were expected.\n",
      "23/07/31 02:25:27 ERROR net.ScriptBasedMapping: Script /usr/hdp/3.1.4.0-315/hadoop/conf/topology_script.py returned 1 values when 14 were expected.\n",
      "23/07/31 02:25:27 WARN scheduler.DAGScheduler: Broadcasting large task binary with size 5.9 MiB\n",
      "23/07/31 02:25:27 ERROR net.ScriptBasedMapping: Script /usr/hdp/3.1.4.0-315/hadoop/conf/topology_script.py returned 1 values when 14 were expected.\n",
      "23/07/31 02:26:32 WARN scheduler.DAGScheduler: Broadcasting large task binary with size 3.2 MiB\n",
      "23/07/31 02:26:32 WARN scheduler.DAGScheduler: Broadcasting large task binary with size 3.2 MiB\n",
      "23/07/31 02:26:32 WARN scheduler.DAGScheduler: Broadcasting large task binary with size 3.2 MiB\n",
      "23/07/31 02:26:32 WARN scheduler.DAGScheduler: Broadcasting large task binary with size 3.2 MiB\n",
      "23/07/31 02:26:32 WARN scheduler.DAGScheduler: Broadcasting large task binary with size 3.2 MiB\n",
      "23/07/31 02:26:36 WARN scheduler.DAGScheduler: Broadcasting large task binary with size 5.6 MiB\n",
      "23/07/31 02:26:39 WARN scheduler.DAGScheduler: Broadcasting large task binary with size 3.2 MiB\n",
      "23/07/31 02:26:39 WARN scheduler.DAGScheduler: Broadcasting large task binary with size 3.2 MiB\n",
      "23/07/31 02:26:39 WARN scheduler.DAGScheduler: Broadcasting large task binary with size 3.2 MiB\n",
      "23/07/31 02:26:39 WARN scheduler.DAGScheduler: Broadcasting large task binary with size 3.2 MiB\n",
      "23/07/31 02:26:39 WARN scheduler.DAGScheduler: Broadcasting large task binary with size 3.2 MiB\n",
      "23/07/31 02:26:41 WARN scheduler.DAGScheduler: Broadcasting large task binary with size 6.3 MiB\n",
      "23/07/31 02:26:43 WARN scheduler.DAGScheduler: Broadcasting large task binary with size 6.3 MiB\n",
      "23/07/31 02:26:45 WARN scheduler.DAGScheduler: Broadcasting large task binary with size 6.3 MiB\n",
      "23/07/31 02:26:49 WARN scheduler.DAGScheduler: Broadcasting large task binary with size 6.3 MiB\n",
      "23/07/31 02:26:52 WARN scheduler.DAGScheduler: Broadcasting large task binary with size 6.3 MiB\n",
      "23/07/31 02:26:54 WARN scheduler.DAGScheduler: Broadcasting large task binary with size 11.6 MiB\n",
      "                                                                                \r"
     ]
    }
   ],
   "source": [
    "dfc = func(base,customer,area,area_del)\n",
    "dfc.cache()\n",
    "dfc.repartition(40).write.mode('overwrite').option(\"header\",\"true\").csv(\"/tmp/lig-u/gkx_fuzzy_match_c.csv\")"
   ]
  },
  {
   "cell_type": "code",
   "execution_count": 76,
   "id": "4c6b5537-8725-4c40-8541-f993552a8061",
   "metadata": {
    "collapsed": true,
    "jupyter": {
     "outputs_hidden": true
    },
    "tags": []
   },
   "outputs": [
    {
     "name": "stderr",
     "output_type": "stream",
     "text": [
      "23/07/31 02:30:58 ERROR net.ScriptBasedMapping: Script /usr/hdp/3.1.4.0-315/hadoop/conf/topology_script.py returned 1 values when 14 were expected.\n",
      "23/07/31 02:30:59 ERROR net.ScriptBasedMapping: Script /usr/hdp/3.1.4.0-315/hadoop/conf/topology_script.py returned 1 values when 12 were expected.\n",
      "23/07/31 02:30:59 WARN scheduler.DAGScheduler: Broadcasting large task binary with size 5.9 MiB\n",
      "23/07/31 02:30:59 ERROR net.ScriptBasedMapping: Script /usr/hdp/3.1.4.0-315/hadoop/conf/topology_script.py returned 1 values when 14 were expected.\n",
      "23/07/31 02:31:05 WARN scheduler.DAGScheduler: Broadcasting large task binary with size 3.2 MiB\n",
      "23/07/31 02:31:05 WARN scheduler.DAGScheduler: Broadcasting large task binary with size 3.2 MiB\n",
      "23/07/31 02:31:05 WARN scheduler.DAGScheduler: Broadcasting large task binary with size 3.2 MiB\n",
      "23/07/31 02:31:05 WARN scheduler.DAGScheduler: Broadcasting large task binary with size 3.2 MiB\n",
      "23/07/31 02:31:05 WARN scheduler.DAGScheduler: Broadcasting large task binary with size 3.2 MiB\n",
      "23/07/31 02:31:07 WARN scheduler.DAGScheduler: Broadcasting large task binary with size 3.2 MiB\n",
      "23/07/31 02:31:07 WARN scheduler.DAGScheduler: Broadcasting large task binary with size 3.2 MiB\n",
      "23/07/31 02:31:07 WARN scheduler.DAGScheduler: Broadcasting large task binary with size 3.2 MiB\n",
      "23/07/31 02:31:07 WARN scheduler.DAGScheduler: Broadcasting large task binary with size 3.2 MiB\n",
      "23/07/31 02:31:07 WARN scheduler.DAGScheduler: Broadcasting large task binary with size 3.2 MiB\n",
      "23/07/31 02:31:12 WARN scheduler.DAGScheduler: Broadcasting large task binary with size 6.3 MiB\n",
      "23/07/31 02:31:16 WARN scheduler.DAGScheduler: Broadcasting large task binary with size 6.3 MiB\n",
      "23/07/31 02:31:19 WARN scheduler.DAGScheduler: Broadcasting large task binary with size 5.6 MiB\n",
      "23/07/31 02:31:21 WARN scheduler.DAGScheduler: Broadcasting large task binary with size 6.3 MiB\n",
      "23/07/31 02:31:25 WARN scheduler.DAGScheduler: Broadcasting large task binary with size 6.3 MiB\n",
      "23/07/31 02:31:29 WARN scheduler.DAGScheduler: Broadcasting large task binary with size 6.3 MiB\n",
      "23/07/31 02:31:31 WARN scheduler.DAGScheduler: Broadcasting large task binary with size 11.6 MiB\n",
      "                                                                                \r"
     ]
    }
   ],
   "source": [
    "dfd = func(base,customer,area,area_del)\n",
    "dfd.cache()\n",
    "dfd.repartition(40).write.mode('overwrite').option(\"header\",\"true\").csv(\"/tmp/lig-u/gkx_fuzzy_match_d.csv\")"
   ]
  },
  {
   "cell_type": "code",
   "execution_count": 78,
   "id": "7d2cf5c7-6cbe-41d1-a345-ec9e7299293e",
   "metadata": {
    "collapsed": true,
    "jupyter": {
     "outputs_hidden": true
    },
    "tags": []
   },
   "outputs": [
    {
     "name": "stderr",
     "output_type": "stream",
     "text": [
      "23/07/31 02:35:18 ERROR net.ScriptBasedMapping: Script /usr/hdp/3.1.4.0-315/hadoop/conf/topology_script.py returned 1 values when 12 were expected.\n",
      "23/07/31 02:35:18 ERROR net.ScriptBasedMapping: Script /usr/hdp/3.1.4.0-315/hadoop/conf/topology_script.py returned 1 values when 14 were expected.\n",
      "23/07/31 02:35:18 WARN scheduler.DAGScheduler: Broadcasting large task binary with size 5.9 MiB\n",
      "23/07/31 02:35:18 ERROR net.ScriptBasedMapping: Script /usr/hdp/3.1.4.0-315/hadoop/conf/topology_script.py returned 1 values when 14 were expected.\n",
      "23/07/31 02:35:24 WARN scheduler.DAGScheduler: Broadcasting large task binary with size 3.2 MiB\n",
      "23/07/31 02:35:24 WARN scheduler.DAGScheduler: Broadcasting large task binary with size 3.2 MiB\n",
      "23/07/31 02:35:24 WARN scheduler.DAGScheduler: Broadcasting large task binary with size 3.2 MiB\n",
      "23/07/31 02:35:24 WARN scheduler.DAGScheduler: Broadcasting large task binary with size 3.2 MiB\n",
      "23/07/31 02:35:24 WARN scheduler.DAGScheduler: Broadcasting large task binary with size 3.2 MiB\n",
      "23/07/31 02:35:27 WARN scheduler.DAGScheduler: Broadcasting large task binary with size 3.2 MiB\n",
      "23/07/31 02:35:28 WARN scheduler.DAGScheduler: Broadcasting large task binary with size 3.2 MiB\n",
      "23/07/31 02:35:28 WARN scheduler.DAGScheduler: Broadcasting large task binary with size 3.2 MiB\n",
      "23/07/31 02:35:28 WARN scheduler.DAGScheduler: Broadcasting large task binary with size 3.2 MiB\n",
      "23/07/31 02:35:28 WARN scheduler.DAGScheduler: Broadcasting large task binary with size 3.2 MiB\n",
      "23/07/31 02:35:31 WARN scheduler.DAGScheduler: Broadcasting large task binary with size 6.3 MiB\n",
      "23/07/31 02:35:35 WARN scheduler.DAGScheduler: Broadcasting large task binary with size 6.3 MiB\n",
      "23/07/31 02:35:39 WARN scheduler.DAGScheduler: Broadcasting large task binary with size 5.6 MiB\n",
      "23/07/31 02:35:42 WARN scheduler.DAGScheduler: Broadcasting large task binary with size 6.3 MiB\n",
      "23/07/31 02:35:46 WARN scheduler.DAGScheduler: Broadcasting large task binary with size 6.3 MiB\n",
      "23/07/31 02:35:48 WARN scheduler.DAGScheduler: Broadcasting large task binary with size 6.3 MiB\n",
      "23/07/31 02:35:50 WARN scheduler.DAGScheduler: Broadcasting large task binary with size 11.6 MiB\n",
      "                                                                                \r"
     ]
    }
   ],
   "source": [
    "dfe = func(base,customer,area,area_del)\n",
    "dfe.cache()\n",
    "dfe.repartition(40).write.mode('overwrite').option(\"header\",\"true\").csv(\"/tmp/lig-u/gkx_fuzzy_match_e.csv\")"
   ]
  },
  {
   "cell_type": "code",
   "execution_count": 83,
   "id": "ac72c444-a3b1-45f5-864f-73a6699c3002",
   "metadata": {},
   "outputs": [],
   "source": [
    "dfa = spark.read.option(\"header\",\"true\").csv(\"/tmp/lig-u/gkx_fuzzy_match_a.csv\")"
   ]
  },
  {
   "cell_type": "code",
   "execution_count": 84,
   "id": "6567deb5-d34d-4265-b8df-b2107b7f9a6d",
   "metadata": {},
   "outputs": [],
   "source": [
    "dfb = spark.read.option(\"header\",\"true\").csv(\"/tmp/lig-u/gkx_fuzzy_match_b.csv\")"
   ]
  },
  {
   "cell_type": "code",
   "execution_count": 85,
   "id": "637831fb-852c-46e0-82ab-8cb9a6219cd9",
   "metadata": {},
   "outputs": [],
   "source": [
    "dfc = spark.read.option(\"header\",\"true\").csv(\"/tmp/lig-u/gkx_fuzzy_match_c.csv\")"
   ]
  },
  {
   "cell_type": "code",
   "execution_count": 86,
   "id": "4608c21f-9117-4811-8d9b-1e92e1396bb0",
   "metadata": {},
   "outputs": [],
   "source": [
    "dfd = spark.read.option(\"header\",\"true\").csv(\"/tmp/lig-u/gkx_fuzzy_match_d.csv\")"
   ]
  },
  {
   "cell_type": "code",
   "execution_count": 87,
   "id": "84133d00-150e-4c69-b5ef-0de2f4eae06a",
   "metadata": {
    "tags": []
   },
   "outputs": [],
   "source": [
    "dfe = spark.read.option(\"header\",\"true\").csv(\"/tmp/lig-u/gkx_fuzzy_match_e.csv\")"
   ]
  },
  {
   "cell_type": "code",
   "execution_count": 88,
   "id": "6a7def28-b76c-489f-9dc8-c8d09eed3093",
   "metadata": {},
   "outputs": [],
   "source": [
    "df_last = spark.read.option(\"header\",\"true\").csv(\"/tmp/lig-u/gkx_fuzzy_match_last2.csv\")"
   ]
  },
  {
   "cell_type": "code",
   "execution_count": 91,
   "id": "1ece55f8-28b2-4fd3-8511-5936c1b9a081",
   "metadata": {},
   "outputs": [
    {
     "name": "stderr",
     "output_type": "stream",
     "text": [
      "23/07/31 02:40:07 ERROR net.ScriptBasedMapping: Script /usr/hdp/3.1.4.0-315/hadoop/conf/topology_script.py returned 1 values when 4 were expected.\n"
     ]
    },
    {
     "data": {
      "text/plain": [
       "1794"
      ]
     },
     "execution_count": 91,
     "metadata": {},
     "output_type": "execute_result"
    }
   ],
   "source": [
    "df_last.count()"
   ]
  },
  {
   "cell_type": "code",
   "execution_count": 89,
   "id": "36da9871-a4a5-4a01-a478-f68dedf9f60c",
   "metadata": {
    "tags": []
   },
   "outputs": [],
   "source": [
    "dff = dfa.union(dfb).union(dfc).union(dfd).union(dfe).union(df_last)"
   ]
  },
  {
   "cell_type": "code",
   "execution_count": 94,
   "id": "033f0fc7-5458-40ea-9647-3a9c2d034d03",
   "metadata": {
    "tags": []
   },
   "outputs": [],
   "source": [
    "df1=df1.select('company_name','accnt_name')\n",
    "dff=dff.select('company_name','accnt_name')"
   ]
  },
  {
   "cell_type": "code",
   "execution_count": 95,
   "id": "3512caf0-a174-497a-9f10-90d978233540",
   "metadata": {},
   "outputs": [],
   "source": [
    "df_match = df1.union(dff)"
   ]
  },
  {
   "cell_type": "code",
   "execution_count": 103,
   "id": "924c968f-e192-40b6-a4fc-6dd0bb562bab",
   "metadata": {
    "tags": []
   },
   "outputs": [
    {
     "name": "stderr",
     "output_type": "stream",
     "text": [
      "23/07/31 02:49:53 ERROR net.ScriptBasedMapping: Script /usr/hdp/3.1.4.0-315/hadoop/conf/topology_script.py returned 1 values when 12 were expected.\n",
      "23/07/31 02:49:53 ERROR net.ScriptBasedMapping: Script /usr/hdp/3.1.4.0-315/hadoop/conf/topology_script.py returned 1 values when 8 were expected.\n",
      "23/07/31 02:50:59 ERROR net.ScriptBasedMapping: Script /usr/hdp/3.1.4.0-315/hadoop/conf/topology_script.py returned 1 values when 12 were expected.\n",
      "                                                                                \r"
     ]
    }
   ],
   "source": [
    "df_match.write.option(\"header\",\"true\").csv(\"/tmp/lig-u/gkx_fuzzy_match_all.csv\")"
   ]
  },
  {
   "cell_type": "code",
   "execution_count": 29,
   "id": "1ca0f3c8-6369-4967-abdf-d0b818401871",
   "metadata": {
    "tags": []
   },
   "outputs": [
    {
     "name": "stderr",
     "output_type": "stream",
     "text": [
      "23/08/04 01:31:11 ERROR net.ScriptBasedMapping: Script /usr/hdp/3.1.4.0-315/hadoop/conf/topology_script.py returned 1 values when 3 were expected.\n",
      "                                                                                \r"
     ]
    }
   ],
   "source": [
    "df_match=spark.read.option('header','true').csv('/tmp/lig-u/gkx_fuzzy_match_all.csv')"
   ]
  },
  {
   "cell_type": "code",
   "execution_count": 53,
   "id": "53e62329-a8c9-4d86-97ac-87afd5de5863",
   "metadata": {},
   "outputs": [
    {
     "name": "stdout",
     "output_type": "stream",
     "text": [
      "root\n",
      " |-- company_name: string (nullable = true)\n",
      " |-- accnt_name: string (nullable = true)\n",
      "\n"
     ]
    }
   ],
   "source": [
    "df_match.printSchema()"
   ]
  },
  {
   "cell_type": "markdown",
   "id": "fdef15d0-eb57-4948-a7ac-26e7cfc8fae3",
   "metadata": {},
   "source": [
    "22222222222222222222222222"
   ]
  },
  {
   "cell_type": "code",
   "execution_count": 27,
   "id": "df87a6bc-7b5b-481c-b255-9722ffe8d2d7",
   "metadata": {},
   "outputs": [
    {
     "name": "stderr",
     "output_type": "stream",
     "text": [
      "23/08/04 01:30:50 ERROR net.ScriptBasedMapping: Script /usr/hdp/3.1.4.0-315/hadoop/conf/topology_script.py returned 1 values when 2 were expected.\n",
      "23/08/04 01:30:54 ERROR net.ScriptBasedMapping: Script /usr/hdp/3.1.4.0-315/hadoop/conf/topology_script.py returned 1 values when 2 were expected.\n",
      "                                                                                \r"
     ]
    }
   ],
   "source": [
    "base=spark.read.option(\"header\",\"true\").csv(\"/tmp/lig-u/ods_jst_success_bid_company.csv\")\\\n",
    "            .select('company_name','bid_win_date','amount','project_name','project_type','province').withColumn('province', regexp_replace('province',\n",
    "                                                             '省|市|自治区', ''))\n",
    "customer=spark.read.option(\"header\",\"true\").csv(\"/tmp/lig-u/st02_data/customer_dim.csv/\").select('customer_wid','accnt_name','province')\\\n",
    "                .withColumn('province', regexp_replace('province',\n",
    "                            '省|市|自治区|壮族|回族', ''))"
   ]
  },
  {
   "cell_type": "code",
   "execution_count": 28,
   "id": "23fd3d0f-6716-45f4-941c-1131a47b97fb",
   "metadata": {},
   "outputs": [],
   "source": [
    "base=base.withColumn('amount',F.col('amount').cast('int')).withColumn('date',F.col('bid_win_date').cast(DateType())).drop('bid_win_date')"
   ]
  },
  {
   "cell_type": "code",
   "execution_count": 78,
   "id": "2074218f-21f9-469b-b802-4ed0af90943d",
   "metadata": {},
   "outputs": [],
   "source": [
    "join = base.join(df_match,'company_name','inner')"
   ]
  },
  {
   "cell_type": "code",
   "execution_count": 79,
   "id": "5662191c-8dd7-4c59-98d1-d7e4b89a4225",
   "metadata": {},
   "outputs": [],
   "source": [
    "join=join.withColumn('project_type', regexp_replace('project_type', 'null', '无'))\n",
    "join=join.withColumn('project_type', regexp_replace('project_type', '\"', '')).fillna({'project_type':'无'}).filter(F.col('amount')>=5000000)"
   ]
  },
  {
   "cell_type": "code",
   "execution_count": 80,
   "id": "aa204055-a957-4ef3-bb58-3da5ff83af58",
   "metadata": {},
   "outputs": [],
   "source": [
    "join=join.join(customer,on=['accnt_name','province'],how='inner').drop('company_name','accnt_name','province')"
   ]
  },
  {
   "cell_type": "code",
   "execution_count": null,
   "id": "b593099b-36bc-44f3-90f8-2c0d45ca0993",
   "metadata": {},
   "outputs": [],
   "source": [
    "#pivotedDF = Exploded.groupBy(\"company_name\").pivot(\"split_values\").agg(count(\"split_values\")).fillna(0)\n",
    "#a = pivotedDF.summary('mean').toPandas()\n",
    "\n",
    "#a = a.iloc[:,2:]\n",
    "\n",
    "#a = a.astype('float')\n",
    "#a['Row_sum'] = a.apply(lambda x: x.sum(), axis=1)\n",
    "\n",
    "#a.loc['Col_sum'] = a.apply(lambda x: x.sum()/20.472514)\n",
    "\n",
    "#a = a.transpose()\n",
    "#b = a[a['Col_sum']>=0.005]"
   ]
  },
  {
   "cell_type": "code",
   "execution_count": 33,
   "id": "59266428-bc2c-4f72-8648-1b50555a3ff2",
   "metadata": {},
   "outputs": [],
   "source": [
    "#keep = b.index.to_list()[:-1]\n",
    "#keep\n",
    "keep = ['公路',\n",
    " '勘察设计',\n",
    " '园林绿化',\n",
    " '市政',\n",
    " '弱电',\n",
    " '房建',\n",
    " '无',\n",
    " '机电',\n",
    " '水利',\n",
    " '水利水电',\n",
    " '消防',\n",
    " '环保',\n",
    " '电力',\n",
    " '装修装饰',\n",
    " '通信']"
   ]
  },
  {
   "cell_type": "code",
   "execution_count": 77,
   "id": "4b028be9-ad55-4713-9df3-ed088c852cc4",
   "metadata": {},
   "outputs": [],
   "source": [
    "#Exploded = join.withColumn(\"split_values\", split(\"project_type\", \",\")).withColumn(\"split_values\", explode(\"split_values\"))"
   ]
  },
  {
   "cell_type": "code",
   "execution_count": 78,
   "id": "e74e4c46-874b-4994-b6ab-946970f97f1e",
   "metadata": {},
   "outputs": [],
   "source": [
    "#Exploded=Exploded.withColumn('split_values', when(Exploded.split_values.isin(keep), Exploded.split_values).otherwise('其他'))"
   ]
  },
  {
   "cell_type": "code",
   "execution_count": 80,
   "id": "4f6aefe8-08d9-4299-bacb-e3475d0ef47e",
   "metadata": {
    "collapsed": true,
    "jupyter": {
     "outputs_hidden": true
    },
    "tags": []
   },
   "outputs": [
    {
     "name": "stderr",
     "output_type": "stream",
     "text": [
      "23/08/02 07:00:32 ERROR net.ScriptBasedMapping: Script /usr/hdp/3.1.4.0-315/hadoop/conf/topology_script.py returned 1 values when 5 were expected.\n",
      "23/08/02 07:01:42 ERROR net.ScriptBasedMapping: Script /usr/hdp/3.1.4.0-315/hadoop/conf/topology_script.py returned 1 values when 3 were expected.\n",
      "23/08/02 07:01:48 ERROR net.ScriptBasedMapping: Script /usr/hdp/3.1.4.0-315/hadoop/conf/topology_script.py returned 1 values when 5 were expected.\n",
      "[Stage 639:============================================>            (7 + 2) / 9]\r"
     ]
    },
    {
     "name": "stdout",
     "output_type": "stream",
     "text": [
      "+------------+----------+----+----+--------+--------+----+----+----+---+----+----+--------+----+----+----+--------+----+\n",
      "|customer_wid|      date|公路|其他|勘察设计|园林绿化|市政|弱电|房建| 无|机电|水利|水利水电|消防|环保|电力|装修装饰|通信|\n",
      "+------------+----------+----+----+--------+--------+----+----+----+---+----+----+--------+----+----+----+--------+----+\n",
      "|    23469173|2023-04-11|   0|   0|       0|       0|   0|   0|   1|  0|   0|   0|       0|   0|   0|   0|       0|   0|\n",
      "|    48696313|2021-12-21|   0|   0|       0|       0|   0|   0|   0|  1|   0|   0|       0|   0|   0|   0|       0|   0|\n",
      "|   649667999|2022-02-17|   0|   0|       0|       0|   0|   0|   0|  1|   0|   0|       0|   0|   0|   0|       0|   0|\n",
      "|    45681464|2021-08-09|   0|   0|       0|       0|   0|   0|   0|  1|   0|   0|       0|   0|   0|   0|       0|   0|\n",
      "|    23180057|2021-05-31|   0|   0|       0|       0|   0|   0|   0|  1|   0|   0|       0|   0|   0|   0|       0|   0|\n",
      "|    23180057|2021-10-19|   0|   0|       0|       0|   0|   0|   0|  2|   0|   0|       0|   0|   0|   0|       0|   0|\n",
      "|   649665637|2023-04-25|   0|   0|       0|       0|   0|   1|   0|  0|   0|   0|       0|   0|   0|   0|       0|   0|\n",
      "|   649671111|2023-04-14|   0|   0|       0|       0|   0|   0|   1|  0|   0|   0|       0|   0|   0|   0|       0|   0|\n",
      "|   649671111|2021-12-16|   0|   0|       0|       0|   0|   0|   0|  1|   0|   0|       0|   0|   0|   0|       0|   0|\n",
      "|    23109360|2021-05-08|   0|   0|       0|       0|   0|   0|   0|  1|   0|   0|       0|   0|   0|   0|       0|   0|\n",
      "|   470439783|2023-05-27|   0|   0|       0|       0|   0|   0|   0|  0|   0|   0|       0|   0|   0|   1|       0|   0|\n",
      "|   649652279|2023-06-13|   1|   0|       0|       0|   0|   0|   0|  0|   0|   0|       0|   0|   0|   0|       0|   0|\n",
      "|    23946501|2022-10-17|   0|   0|       0|       0|   1|   0|   0|  0|   0|   0|       0|   0|   0|   0|       0|   0|\n",
      "|    23946104|2021-09-07|   0|   0|       0|       0|   0|   0|   0|  1|   0|   0|       0|   0|   0|   0|       0|   0|\n",
      "|   649661351|2021-09-07|   0|   0|       0|       0|   0|   0|   0|  1|   0|   0|       0|   0|   0|   0|       0|   0|\n",
      "|    23134558|2022-10-12|   0|   0|       0|       0|   1|   0|   0|  0|   0|   0|       0|   0|   0|   0|       0|   0|\n",
      "|    44359101|2023-05-22|   0|   0|       0|       0|   1|   0|   1|  0|   0|   0|       0|   0|   0|   0|       0|   0|\n",
      "|    24190555|2022-04-28|   0|   0|       0|       0|   0|   0|   1|  0|   0|   0|       0|   0|   0|   0|       0|   0|\n",
      "|    23198855|2022-07-21|   1|   0|       0|       0|   0|   0|   0|  0|   0|   0|       0|   0|   0|   0|       0|   0|\n",
      "|   580571189|2023-06-05|   0|   0|       0|       0|   1|   0|   0|  1|   0|   0|       0|   0|   0|   0|       0|   0|\n",
      "+------------+----------+----+----+--------+--------+----+----+----+---+----+----+--------+----+----+----+--------+----+\n",
      "only showing top 20 rows\n",
      "\n"
     ]
    },
    {
     "name": "stderr",
     "output_type": "stream",
     "text": [
      "                                                                                \r"
     ]
    }
   ],
   "source": [
    "#pivotedDF = Exploded.groupBy(\"customer_wid\",\"date\").pivot(\"split_values\").agg(count(\"project_name\")).fillna(0)\n",
    "#pivotedDF.show()"
   ]
  },
  {
   "cell_type": "code",
   "execution_count": 15,
   "id": "d99cd626-000b-4ac1-a2a0-17c66a2bad69",
   "metadata": {},
   "outputs": [],
   "source": [
    "from datetime import *"
   ]
  },
  {
   "cell_type": "code",
   "execution_count": 35,
   "id": "128d9d2b-add1-4823-83ba-b72729453bcb",
   "metadata": {},
   "outputs": [],
   "source": [
    "def func2(df,df_date):\n",
    "    df = df.join(df_date,'customer_wid','inner').withColumn('date_diff',F.datediff(F.col('date_end'),F.col('date')))\n",
    "    ## Time intervals be setted\n",
    "    time = [(0,15),(15,30),(30,60),(60,120)]\n",
    "    for i in range(len(time)):\n",
    "        ## time interval settings\n",
    "        #end = date+timedelta(days=-time[i][0])\n",
    "        #start = date+timedelta(days=-time[i][1])\n",
    "    \n",
    "        ## Split project type\n",
    "        Exploded = df.withColumn(\"split_values\", split(\"project_type\", \",\")).withColumn(\"split_values\", explode(\"split_values\"))\\\n",
    "                    .filter((F.col('date_diff')>=time[i][0])&(F.col('date_diff')<=time[i][1]))\n",
    "        ## Keep the key values and mark the rest as 其他 (Keep在函数外)\n",
    "        Exploded = Exploded.withColumn('split_values', when(Exploded.split_values.isin(keep), Exploded.split_values).otherwise('其他'))\n",
    "        ## Get the pivot table of project type\n",
    "        pivotedDF = Exploded.groupBy(\"customer_wid\",\"date_end\").pivot(\"split_values\").agg(count(\"split_values\")).fillna(0)\n",
    "    \n",
    "        ## Get aggregated values of col amount, project name and total project type in the time intervals\n",
    "        tmp = df.filter((F.col('date_diff')>=time[i][0])&(F.col('date_diff')<=time[i][1]))\n",
    "        tmp = tmp.groupBy('customer_wid',\"date_end\").agg(F.sum('amount').alias('sum_amont'),\n",
    "                                F.count('project_name').alias('工程数'),\n",
    "                                F.countDistinct('project_name').alias('去重工程数'),\n",
    "                                F.countDistinct('project_type').alias('工程种类')).join(pivotedDF,on=['customer_wid','date_end'],how='inner') ## Join with pivot table\n",
    "    \n",
    "        ## Rename cols\n",
    "        col = tmp.columns[2:]\n",
    "        col_date = []\n",
    "        for j in range(len(col)):\n",
    "            a = [col[j]+'_'+str(time[i][1])]\n",
    "            col_date = col_date+a\n",
    "    \n",
    "        mapping = dict(zip(col, col_date)) ## Mapping original col name with new name\n",
    "        tmp = tmp.select([F.col(c).alias(mapping.get(c, c)) for c in tmp.columns])\n",
    "             \n",
    "        ## The pivot table of amount\n",
    "        pivotedDF2 = Exploded.groupBy(\"customer_wid\",\"date_end\").pivot(\"split_values\").agg(sum(\"amount\")).fillna(0)\n",
    "        ## Join with pivot table\n",
    "        tmp = tmp.join(pivotedDF2,on=['customer_wid','date_end'],how='inner')\n",
    "        ## Rename cols\n",
    "        col_amount = []\n",
    "        for j in range(len(col)):\n",
    "            a = [col[j]+'_'+str(time[i][1])+'_amount']\n",
    "            col_amount = col_amount+a\n",
    "        mapping = dict(zip(col, col_amount)) ## Mapping original col name with new name\n",
    "        tmp = tmp.select([F.col(c).alias(mapping.get(c, c)) for c in tmp.columns])\n",
    "        \n",
    "        ## The pivot table of project name of each tyoe\n",
    "        pivotedDF3 = Exploded.groupBy(\"customer_wid\",\"date_end\").pivot(\"split_values\").agg(count(\"project_name\")).fillna(0)\n",
    "        ## Join with pivot table\n",
    "        tmp = tmp.join(pivotedDF3,on=['customer_wid','date_end'],how='inner')\n",
    "        ## Rename cols\n",
    "        col_amount = []\n",
    "        for j in range(len(col)):\n",
    "            a = [col[j]+'_'+str(time[i][1])+'_工程数']\n",
    "            col_amount = col_amount+a\n",
    "        mapping = dict(zip(col, col_amount)) ## Mapping original col name with new name\n",
    "        tmp = tmp.select([F.col(c).alias(mapping.get(c, c)) for c in tmp.columns])\n",
    "        \n",
    "        ## The pivot table of project name of each distinct type\n",
    "        pivotedDF4 = Exploded.groupBy(\"customer_wid\",\"date_end\").pivot(\"split_values\").agg(F.countDistinct(\"project_name\")).fillna(0)\n",
    "        ## Join with pivot table\n",
    "        tmp = tmp.join(pivotedDF4,on=['customer_wid','date_end'],how='inner')\n",
    "        ## Rename cols\n",
    "        col_amount = []\n",
    "        for j in range(len(col)):\n",
    "            a = [col[j]+'_'+str(time[i][1])+'_去重工程数']\n",
    "            col_amount = col_amount+a\n",
    "        mapping = dict(zip(col, col_amount)) ## Mapping original col name with new name\n",
    "        tmp = tmp.select([F.col(c).alias(mapping.get(c, c)) for c in tmp.columns])\n",
    "        \n",
    "        ## Union tables\n",
    "        if i == 0:\n",
    "            union_df = tmp\n",
    "        else:\n",
    "            union_df = union_df.join(tmp,on=['customer_wid',\"date_end\"],how='outer')\n",
    "    return union_df"
   ]
  },
  {
   "cell_type": "markdown",
   "id": "76c1d8f3-da8b-4f8d-9c6e-5df29740405b",
   "metadata": {},
   "source": [
    "#####333333333333333333"
   ]
  },
  {
   "cell_type": "code",
   "execution_count": 36,
   "id": "65f05391-dad0-4797-8c14-c87ee03f094e",
   "metadata": {},
   "outputs": [
    {
     "name": "stderr",
     "output_type": "stream",
     "text": [
      "23/08/04 01:32:09 ERROR net.ScriptBasedMapping: Script /usr/hdp/3.1.4.0-315/hadoop/conf/topology_script.py returned 1 values when 2 were expected.\n",
      "                                                                                \r"
     ]
    }
   ],
   "source": [
    "df = spark.read.option('header','true').csv(\"/tmp/base_ad20230724.csv\")"
   ]
  },
  {
   "cell_type": "code",
   "execution_count": 37,
   "id": "a12f2153-59a1-4bd2-add7-3e021b305d44",
   "metadata": {},
   "outputs": [],
   "source": [
    "train = df.filter((F.col('class')=='test')&(F.col('date_wid')>='2023-01-01')&(F.col('date_wid')<'2023-04-01')).withColumnRenamed('flag','target')\n",
    "\n",
    "df_reflect = train.select('customer_wid','date_wid').distinct().withColumnRenamed('date_wid','date_end')"
   ]
  },
  {
   "cell_type": "code",
   "execution_count": 43,
   "id": "4a7fdbd1-b4e2-4d01-8f5a-97dc765b6255",
   "metadata": {
    "collapsed": true,
    "jupyter": {
     "outputs_hidden": true
    },
    "tags": []
   },
   "outputs": [
    {
     "name": "stderr",
     "output_type": "stream",
     "text": [
      "23/08/04 01:36:42 ERROR net.ScriptBasedMapping: Script /usr/hdp/3.1.4.0-315/hadoop/conf/topology_script.py returned 1 values when 11 were expected.\n",
      "23/08/04 01:36:42 ERROR net.ScriptBasedMapping: Script /usr/hdp/3.1.4.0-315/hadoop/conf/topology_script.py returned 1 values when 8 were expected.\n",
      "23/08/04 01:36:42 ERROR net.ScriptBasedMapping: Script /usr/hdp/3.1.4.0-315/hadoop/conf/topology_script.py returned 1 values when 17 were expected.\n",
      "23/08/04 01:36:43 ERROR net.ScriptBasedMapping: Script /usr/hdp/3.1.4.0-315/hadoop/conf/topology_script.py returned 1 values when 17 were expected.\n",
      "23/08/04 01:36:52 ERROR net.ScriptBasedMapping: Script /usr/hdp/3.1.4.0-315/hadoop/conf/topology_script.py returned 1 values when 11 were expected.\n",
      "23/08/04 01:36:52 ERROR net.ScriptBasedMapping: Script /usr/hdp/3.1.4.0-315/hadoop/conf/topology_script.py returned 1 values when 8 were expected.\n",
      "23/08/04 01:36:52 ERROR net.ScriptBasedMapping: Script /usr/hdp/3.1.4.0-315/hadoop/conf/topology_script.py returned 1 values when 17 were expected.\n",
      "23/08/04 01:36:52 ERROR net.ScriptBasedMapping: Script /usr/hdp/3.1.4.0-315/hadoop/conf/topology_script.py returned 1 values when 17 were expected.\n",
      "23/08/04 01:37:02 ERROR net.ScriptBasedMapping: Script /usr/hdp/3.1.4.0-315/hadoop/conf/topology_script.py returned 1 values when 11 were expected.\n",
      "23/08/04 01:37:02 ERROR net.ScriptBasedMapping: Script /usr/hdp/3.1.4.0-315/hadoop/conf/topology_script.py returned 1 values when 8 were expected.\n",
      "23/08/04 01:37:02 ERROR net.ScriptBasedMapping: Script /usr/hdp/3.1.4.0-315/hadoop/conf/topology_script.py returned 1 values when 17 were expected.\n",
      "23/08/04 01:37:03 ERROR net.ScriptBasedMapping: Script /usr/hdp/3.1.4.0-315/hadoop/conf/topology_script.py returned 1 values when 17 were expected.\n",
      "23/08/04 01:37:12 ERROR net.ScriptBasedMapping: Script /usr/hdp/3.1.4.0-315/hadoop/conf/topology_script.py returned 1 values when 11 were expected.\n",
      "23/08/04 01:37:12 ERROR net.ScriptBasedMapping: Script /usr/hdp/3.1.4.0-315/hadoop/conf/topology_script.py returned 1 values when 8 were expected.\n",
      "23/08/04 01:37:12 ERROR net.ScriptBasedMapping: Script /usr/hdp/3.1.4.0-315/hadoop/conf/topology_script.py returned 1 values when 17 were expected.\n",
      "23/08/04 01:37:12 ERROR net.ScriptBasedMapping: Script /usr/hdp/3.1.4.0-315/hadoop/conf/topology_script.py returned 1 values when 17 were expected.\n",
      "23/08/04 01:37:22 ERROR net.ScriptBasedMapping: Script /usr/hdp/3.1.4.0-315/hadoop/conf/topology_script.py returned 1 values when 11 were expected.\n",
      "23/08/04 01:37:22 ERROR net.ScriptBasedMapping: Script /usr/hdp/3.1.4.0-315/hadoop/conf/topology_script.py returned 1 values when 8 were expected.\n",
      "23/08/04 01:37:22 ERROR net.ScriptBasedMapping: Script /usr/hdp/3.1.4.0-315/hadoop/conf/topology_script.py returned 1 values when 17 were expected.\n",
      "23/08/04 01:37:23 ERROR net.ScriptBasedMapping: Script /usr/hdp/3.1.4.0-315/hadoop/conf/topology_script.py returned 1 values when 17 were expected.\n",
      "23/08/04 01:37:33 ERROR net.ScriptBasedMapping: Script /usr/hdp/3.1.4.0-315/hadoop/conf/topology_script.py returned 1 values when 11 were expected.\n",
      "23/08/04 01:37:33 ERROR net.ScriptBasedMapping: Script /usr/hdp/3.1.4.0-315/hadoop/conf/topology_script.py returned 1 values when 8 were expected.\n",
      "23/08/04 01:37:33 ERROR net.ScriptBasedMapping: Script /usr/hdp/3.1.4.0-315/hadoop/conf/topology_script.py returned 1 values when 17 were expected.\n",
      "23/08/04 01:37:34 ERROR net.ScriptBasedMapping: Script /usr/hdp/3.1.4.0-315/hadoop/conf/topology_script.py returned 1 values when 17 were expected.\n",
      "23/08/04 01:37:43 ERROR net.ScriptBasedMapping: Script /usr/hdp/3.1.4.0-315/hadoop/conf/topology_script.py returned 1 values when 11 were expected.\n",
      "23/08/04 01:37:43 ERROR net.ScriptBasedMapping: Script /usr/hdp/3.1.4.0-315/hadoop/conf/topology_script.py returned 1 values when 8 were expected.\n",
      "23/08/04 01:37:43 ERROR net.ScriptBasedMapping: Script /usr/hdp/3.1.4.0-315/hadoop/conf/topology_script.py returned 1 values when 17 were expected.\n",
      "23/08/04 01:37:43 ERROR net.ScriptBasedMapping: Script /usr/hdp/3.1.4.0-315/hadoop/conf/topology_script.py returned 1 values when 17 were expected.\n",
      "23/08/04 01:37:53 ERROR net.ScriptBasedMapping: Script /usr/hdp/3.1.4.0-315/hadoop/conf/topology_script.py returned 1 values when 11 were expected.\n",
      "23/08/04 01:37:53 ERROR net.ScriptBasedMapping: Script /usr/hdp/3.1.4.0-315/hadoop/conf/topology_script.py returned 1 values when 8 were expected.\n",
      "23/08/04 01:37:53 ERROR net.ScriptBasedMapping: Script /usr/hdp/3.1.4.0-315/hadoop/conf/topology_script.py returned 1 values when 17 were expected.\n",
      "23/08/04 01:37:54 ERROR net.ScriptBasedMapping: Script /usr/hdp/3.1.4.0-315/hadoop/conf/topology_script.py returned 1 values when 17 were expected.\n",
      "23/08/04 01:38:04 ERROR net.ScriptBasedMapping: Script /usr/hdp/3.1.4.0-315/hadoop/conf/topology_script.py returned 1 values when 11 were expected.\n",
      "23/08/04 01:38:04 ERROR net.ScriptBasedMapping: Script /usr/hdp/3.1.4.0-315/hadoop/conf/topology_script.py returned 1 values when 8 were expected.\n",
      "23/08/04 01:38:04 ERROR net.ScriptBasedMapping: Script /usr/hdp/3.1.4.0-315/hadoop/conf/topology_script.py returned 1 values when 17 were expected.\n",
      "23/08/04 01:38:04 ERROR net.ScriptBasedMapping: Script /usr/hdp/3.1.4.0-315/hadoop/conf/topology_script.py returned 1 values when 17 were expected.\n",
      "23/08/04 01:38:15 ERROR net.ScriptBasedMapping: Script /usr/hdp/3.1.4.0-315/hadoop/conf/topology_script.py returned 1 values when 11 were expected.\n",
      "23/08/04 01:38:15 ERROR net.ScriptBasedMapping: Script /usr/hdp/3.1.4.0-315/hadoop/conf/topology_script.py returned 1 values when 8 were expected.\n",
      "23/08/04 01:38:15 ERROR net.ScriptBasedMapping: Script /usr/hdp/3.1.4.0-315/hadoop/conf/topology_script.py returned 1 values when 17 were expected.\n",
      "23/08/04 01:38:16 ERROR net.ScriptBasedMapping: Script /usr/hdp/3.1.4.0-315/hadoop/conf/topology_script.py returned 1 values when 17 were expected.\n",
      "23/08/04 01:38:25 ERROR net.ScriptBasedMapping: Script /usr/hdp/3.1.4.0-315/hadoop/conf/topology_script.py returned 1 values when 11 were expected.\n",
      "23/08/04 01:38:26 ERROR net.ScriptBasedMapping: Script /usr/hdp/3.1.4.0-315/hadoop/conf/topology_script.py returned 1 values when 8 were expected.\n",
      "23/08/04 01:38:26 ERROR net.ScriptBasedMapping: Script /usr/hdp/3.1.4.0-315/hadoop/conf/topology_script.py returned 1 values when 17 were expected.\n",
      "23/08/04 01:38:26 ERROR net.ScriptBasedMapping: Script /usr/hdp/3.1.4.0-315/hadoop/conf/topology_script.py returned 1 values when 17 were expected.\n",
      "23/08/04 01:38:36 ERROR net.ScriptBasedMapping: Script /usr/hdp/3.1.4.0-315/hadoop/conf/topology_script.py returned 1 values when 11 were expected.\n",
      "23/08/04 01:38:36 ERROR net.ScriptBasedMapping: Script /usr/hdp/3.1.4.0-315/hadoop/conf/topology_script.py returned 1 values when 8 were expected.\n",
      "23/08/04 01:38:36 ERROR net.ScriptBasedMapping: Script /usr/hdp/3.1.4.0-315/hadoop/conf/topology_script.py returned 1 values when 17 were expected.\n",
      "23/08/04 01:38:36 ERROR net.ScriptBasedMapping: Script /usr/hdp/3.1.4.0-315/hadoop/conf/topology_script.py returned 1 values when 17 were expected.\n",
      "23/08/04 01:38:46 ERROR net.ScriptBasedMapping: Script /usr/hdp/3.1.4.0-315/hadoop/conf/topology_script.py returned 1 values when 11 were expected.\n",
      "23/08/04 01:38:46 ERROR net.ScriptBasedMapping: Script /usr/hdp/3.1.4.0-315/hadoop/conf/topology_script.py returned 1 values when 8 were expected.\n",
      "23/08/04 01:38:46 ERROR net.ScriptBasedMapping: Script /usr/hdp/3.1.4.0-315/hadoop/conf/topology_script.py returned 1 values when 17 were expected.\n",
      "23/08/04 01:38:47 ERROR net.ScriptBasedMapping: Script /usr/hdp/3.1.4.0-315/hadoop/conf/topology_script.py returned 1 values when 17 were expected.\n",
      "23/08/04 01:39:01 ERROR net.ScriptBasedMapping: Script /usr/hdp/3.1.4.0-315/hadoop/conf/topology_script.py returned 1 values when 11 were expected.\n",
      "23/08/04 01:39:01 ERROR net.ScriptBasedMapping: Script /usr/hdp/3.1.4.0-315/hadoop/conf/topology_script.py returned 1 values when 8 were expected.\n",
      "23/08/04 01:39:01 ERROR net.ScriptBasedMapping: Script /usr/hdp/3.1.4.0-315/hadoop/conf/topology_script.py returned 1 values when 17 were expected.\n",
      "23/08/04 01:39:01 ERROR net.ScriptBasedMapping: Script /usr/hdp/3.1.4.0-315/hadoop/conf/topology_script.py returned 1 values when 17 were expected.\n",
      "23/08/04 01:39:11 ERROR net.ScriptBasedMapping: Script /usr/hdp/3.1.4.0-315/hadoop/conf/topology_script.py returned 1 values when 11 were expected.\n",
      "23/08/04 01:39:11 ERROR net.ScriptBasedMapping: Script /usr/hdp/3.1.4.0-315/hadoop/conf/topology_script.py returned 1 values when 8 were expected.\n",
      "23/08/04 01:39:11 ERROR net.ScriptBasedMapping: Script /usr/hdp/3.1.4.0-315/hadoop/conf/topology_script.py returned 1 values when 17 were expected.\n",
      "23/08/04 01:39:12 ERROR net.ScriptBasedMapping: Script /usr/hdp/3.1.4.0-315/hadoop/conf/topology_script.py returned 1 values when 17 were expected.\n",
      "23/08/04 01:39:21 ERROR net.ScriptBasedMapping: Script /usr/hdp/3.1.4.0-315/hadoop/conf/topology_script.py returned 1 values when 11 were expected.\n",
      "23/08/04 01:39:21 ERROR net.ScriptBasedMapping: Script /usr/hdp/3.1.4.0-315/hadoop/conf/topology_script.py returned 1 values when 8 were expected.\n",
      "23/08/04 01:39:21 ERROR net.ScriptBasedMapping: Script /usr/hdp/3.1.4.0-315/hadoop/conf/topology_script.py returned 1 values when 17 were expected.\n",
      "23/08/04 01:39:21 ERROR net.ScriptBasedMapping: Script /usr/hdp/3.1.4.0-315/hadoop/conf/topology_script.py returned 1 values when 17 were expected.\n",
      "                                                                                \r"
     ]
    }
   ],
   "source": [
    "union = func2(join,df_reflect)"
   ]
  },
  {
   "cell_type": "code",
   "execution_count": 44,
   "id": "2bfcaf14-9976-4d85-89c1-94540c5996c2",
   "metadata": {},
   "outputs": [],
   "source": [
    "col = union.columns[2:]\n",
    "col_amount = []\n",
    "for j in range(len(col)):\n",
    "    a = [col[j]+'_500']\n",
    "    col_amount = col_amount+a\n",
    "    \n",
    "mapping = dict(zip(col, col_amount)) ## Mapping original col name with new name\n",
    "union = union.select([F.col(c).alias(mapping.get(c, c)) for c in union.columns])"
   ]
  },
  {
   "cell_type": "code",
   "execution_count": null,
   "id": "13c2044b-beef-46b5-9263-32d692ef0eed",
   "metadata": {},
   "outputs": [],
   "source": [
    "#union2 = func2(join,df_reflect) #no filter condition"
   ]
  },
  {
   "cell_type": "code",
   "execution_count": 45,
   "id": "6b7c947c-fc31-4c56-b154-40860fd0cf92",
   "metadata": {
    "tags": []
   },
   "outputs": [],
   "source": [
    "union=union.join( union2 ,on=['customer_wid','date_end'],how='outer')"
   ]
  },
  {
   "cell_type": "code",
   "execution_count": 47,
   "id": "7c6e7479-e0e6-4fbc-ad0e-7e1feb01a9a7",
   "metadata": {},
   "outputs": [],
   "source": [
    "train_flag = train.select('customer_wid','date_wid','target').withColumnRenamed('date_wid','date_end')\n",
    "union = union.join(train_flag,on=['customer_wid','date_end'],how='inner')"
   ]
  },
  {
   "cell_type": "code",
   "execution_count": 48,
   "id": "5d508432-e4c0-4f33-abe7-15447a64a25b",
   "metadata": {
    "collapsed": true,
    "jupyter": {
     "outputs_hidden": true
    },
    "tags": []
   },
   "outputs": [
    {
     "name": "stderr",
     "output_type": "stream",
     "text": [
      "23/08/04 01:41:13 ERROR net.ScriptBasedMapping: Script /usr/hdp/3.1.4.0-315/hadoop/conf/topology_script.py returned 1 values when 5 were expected.\n",
      "23/08/04 01:41:13 ERROR net.ScriptBasedMapping: Script /usr/hdp/3.1.4.0-315/hadoop/conf/topology_script.py returned 1 values when 6 were expected.\n",
      "23/08/04 01:41:13 ERROR net.ScriptBasedMapping: Script /usr/hdp/3.1.4.0-315/hadoop/conf/topology_script.py returned 1 values when 17 were expected.\n",
      "23/08/04 01:41:13 ERROR net.ScriptBasedMapping: Script /usr/hdp/3.1.4.0-315/hadoop/conf/topology_script.py returned 1 values when 17 were expected.\n",
      "23/08/04 01:41:26 ERROR net.ScriptBasedMapping: Script /usr/hdp/3.1.4.0-315/hadoop/conf/topology_script.py returned 1 values when 16 were expected.\n",
      "23/08/04 01:41:26 ERROR net.ScriptBasedMapping: Script /usr/hdp/3.1.4.0-315/hadoop/conf/topology_script.py returned 1 values when 16 were expected.\n",
      "23/08/04 01:41:26 ERROR net.ScriptBasedMapping: Script /usr/hdp/3.1.4.0-315/hadoop/conf/topology_script.py returned 1 values when 16 were expected.\n",
      "23/08/04 01:41:27 ERROR net.ScriptBasedMapping: Script /usr/hdp/3.1.4.0-315/hadoop/conf/topology_script.py returned 1 values when 16 were expected.\n",
      "23/08/04 01:41:27 ERROR net.ScriptBasedMapping: Script /usr/hdp/3.1.4.0-315/hadoop/conf/topology_script.py returned 1 values when 16 were expected.\n",
      "23/08/04 01:41:27 ERROR net.ScriptBasedMapping: Script /usr/hdp/3.1.4.0-315/hadoop/conf/topology_script.py returned 1 values when 16 were expected.\n",
      "23/08/04 01:41:27 ERROR net.ScriptBasedMapping: Script /usr/hdp/3.1.4.0-315/hadoop/conf/topology_script.py returned 1 values when 16 were expected.\n",
      "23/08/04 01:41:27 ERROR net.ScriptBasedMapping: Script /usr/hdp/3.1.4.0-315/hadoop/conf/topology_script.py returned 1 values when 16 were expected.\n",
      "23/08/04 01:42:53 WARN scheduler.DAGScheduler: Broadcasting large task binary with size 1079.4 KiB\n",
      "/usr/local/spark/python/pyspark/sql/pandas/conversion.py:186: PerformanceWarning: DataFrame is highly fragmented.  This is usually the result of calling `frame.insert` many times, which has poor performance.  Consider joining all columns at once using pd.concat(axis=1) instead.  To get a de-fragmented frame, use `newframe = frame.copy()`\n",
      "  df[column_name] = series\n"
     ]
    }
   ],
   "source": [
    "union_pd = union.toPandas()"
   ]
  },
  {
   "cell_type": "code",
   "execution_count": 56,
   "id": "760478b1-1860-428b-9a46-3f346723da07",
   "metadata": {},
   "outputs": [],
   "source": [
    "#union = union.write.mode('overwrite').option(\"header\",\"true\").option('inferSchema','true').csv(\"/tmp/lig-u/gkx_union_train.csv\")\n",
    "union = spark.read.option('header','true').csv(\"/tmp/lig-u/gkx_union_train.csv\")"
   ]
  },
  {
   "cell_type": "code",
   "execution_count": 49,
   "id": "56d5e472-35ca-46d8-a7cb-a55816011673",
   "metadata": {},
   "outputs": [],
   "source": [
    "X_train=union_pd.drop(['target','customer_wid','date_end'],axis=1)\n",
    "Y_train=union_pd['target'].astype('int')"
   ]
  },
  {
   "cell_type": "code",
   "execution_count": 82,
   "id": "d7f96e7c-394d-4320-8cc8-f059bdd31761",
   "metadata": {},
   "outputs": [],
   "source": [
    "#############TRAIN"
   ]
  },
  {
   "cell_type": "code",
   "execution_count": 50,
   "id": "083224d6-5e16-4da5-a648-2d40c7cdd6d7",
   "metadata": {},
   "outputs": [],
   "source": [
    "#分类器使用 xgboost\n",
    "clf1 = XGBClassifier()\n",
    " \n",
    "#设定搜索的xgboost参数搜索范围，值搜索XGBoost的主要6个参数\n",
    "param_dist = {\n",
    "        'n_estimators':range(50,150,50),\n",
    "        'max_depth':range(2,6,1),\n",
    "        'learning_rate':np.linspace(0.01,0.1,10),\n",
    "        'subsample':np.linspace(0.7,1.0,20),\n",
    "        'colsample_bytree':np.linspace(0.5,0.98,10),\n",
    "        'min_child_weight':range(1,5,1)\n",
    "        }\n",
    " \n",
    "#RandomizedSearchCV参数说明，clf1设置训练的学习器\n",
    "#param_dist字典类型，放入参数搜索范围\n",
    "#scoring = 'neg_log_loss'，精度评价方式设定为“neg_log_loss“\n",
    "#n_iter=300，训练300次，数值越大，获得的参数精度越大，但是搜索时间越长\n",
    "#n_jobs = -1，使用所有的CPU进行训练，默认为1，使用1个CPU\n",
    "grid = RandomizedSearchCV(clf1,param_dist,cv = 3,scoring = 'roc_auc',n_iter=30,n_jobs = -1,verbose=1)"
   ]
  },
  {
   "cell_type": "code",
   "execution_count": 51,
   "id": "832767b5-8c64-42aa-b491-24983201e8ef",
   "metadata": {},
   "outputs": [
    {
     "name": "stdout",
     "output_type": "stream",
     "text": [
      "Fitting 3 folds for each of 30 candidates, totalling 90 fits\n",
      "XGBClassifier(base_score=0.5, booster='gbtree', callbacks=None,\n",
      "              colsample_bylevel=1, colsample_bynode=1, colsample_bytree=0.82,\n",
      "              early_stopping_rounds=None, enable_categorical=False,\n",
      "              eval_metric=None, gamma=0, gpu_id=-1, grow_policy='depthwise',\n",
      "              importance_type=None, interaction_constraints='',\n",
      "              learning_rate=0.09000000000000001, max_bin=256,\n",
      "              max_cat_to_onehot=4, max_delta_step=0, max_depth=5, max_leaves=0,\n",
      "              min_child_weight=1, missing=nan, monotone_constraints='()',\n",
      "              n_estimators=50, n_jobs=0, num_parallel_tree=1, predictor='auto',\n",
      "              random_state=0, reg_alpha=0, reg_lambda=1, ...)\n",
      "0.6589324055089916\n"
     ]
    }
   ],
   "source": [
    "#在训练集上训练\n",
    "grid.fit(X_train,Y_train)\n",
    "#返回最优的训练器\n",
    "best_estimator = grid.best_estimator_\n",
    "print(best_estimator)\n",
    "#输出最优训练器的精度\n",
    "print(grid.best_score_)"
   ]
  },
  {
   "cell_type": "code",
   "execution_count": 52,
   "id": "c841e47d-5c8e-4f5e-96e7-9706196ad891",
   "metadata": {},
   "outputs": [],
   "source": [
    "best_estimator.save_model(\"model.ubj\")"
   ]
  },
  {
   "cell_type": "code",
   "execution_count": 58,
   "id": "9cc9be8b-08f2-4066-b791-6b8ef00e4f12",
   "metadata": {},
   "outputs": [],
   "source": [
    "dt = df.filter((F.col('class')=='test')&(F.col('date_wid')>='2023-04-01')&(F.col('date_wid')<'2023-05-01')).withColumnRenamed('flag','target')\n",
    "\n",
    "dt_reflect = dt.select('customer_wid','date_wid').distinct().withColumnRenamed('date_wid','date_end')"
   ]
  },
  {
   "cell_type": "code",
   "execution_count": 81,
   "id": "4f9330cb-a72b-4ccc-992a-388c317c2dd0",
   "metadata": {
    "collapsed": true,
    "jupyter": {
     "outputs_hidden": true
    },
    "tags": []
   },
   "outputs": [],
   "source": [
    "union_dt = func2(join,dt_reflect)\n",
    "\n",
    "union_dt = union_dt.select([F.col(c).alias(mapping.get(c, c)) for c in union_dt.columns])"
   ]
  },
  {
   "cell_type": "code",
   "execution_count": 83,
   "id": "619fea98-78cb-406e-90ae-5b8b76f90f2f",
   "metadata": {
    "tags": []
   },
   "outputs": [],
   "source": [
    "#union2_dt = func2(join,dt_reflect)\n",
    "union_dt=union_dt.join( union2_dt ,on=['customer_wid','date_end'],how='outer')"
   ]
  },
  {
   "cell_type": "code",
   "execution_count": 77,
   "id": "6a2d8655-3c1b-4641-b982-9a6258cb23fa",
   "metadata": {},
   "outputs": [],
   "source": [
    "dt_flag = dt.select('customer_wid','date_wid','target').withColumnRenamed('date_wid','date_end')"
   ]
  },
  {
   "cell_type": "code",
   "execution_count": 84,
   "id": "c51cab6f-5077-4b8f-91ba-9561c5863807",
   "metadata": {},
   "outputs": [],
   "source": [
    "union_dt = union_dt.join(dt_flag,on=['customer_wid','date_end'],how='inner')"
   ]
  },
  {
   "cell_type": "code",
   "execution_count": 85,
   "id": "b1560a96-170e-470c-bbba-0250458f4146",
   "metadata": {
    "collapsed": true,
    "jupyter": {
     "outputs_hidden": true
    },
    "tags": []
   },
   "outputs": [
    {
     "name": "stderr",
     "output_type": "stream",
     "text": [
      "23/08/04 02:29:51 ERROR net.ScriptBasedMapping: Script /usr/hdp/3.1.4.0-315/hadoop/conf/topology_script.py returned 1 values when 9 were expected.\n",
      "23/08/04 02:29:51 ERROR net.ScriptBasedMapping: Script /usr/hdp/3.1.4.0-315/hadoop/conf/topology_script.py returned 1 values when 7 were expected.\n",
      "23/08/04 02:29:51 ERROR net.ScriptBasedMapping: Script /usr/hdp/3.1.4.0-315/hadoop/conf/topology_script.py returned 1 values when 14 were expected.\n",
      "23/08/04 02:29:51 ERROR net.ScriptBasedMapping: Script /usr/hdp/3.1.4.0-315/hadoop/conf/topology_script.py returned 1 values when 14 were expected.\n",
      "23/08/04 02:29:56 ERROR net.ScriptBasedMapping: Script /usr/hdp/3.1.4.0-315/hadoop/conf/topology_script.py returned 1 values when 15 were expected.\n",
      "23/08/04 02:29:56 ERROR net.ScriptBasedMapping: Script /usr/hdp/3.1.4.0-315/hadoop/conf/topology_script.py returned 1 values when 15 were expected.\n",
      "23/08/04 02:29:56 ERROR net.ScriptBasedMapping: Script /usr/hdp/3.1.4.0-315/hadoop/conf/topology_script.py returned 1 values when 15 were expected.\n",
      "23/08/04 02:29:56 ERROR net.ScriptBasedMapping: Script /usr/hdp/3.1.4.0-315/hadoop/conf/topology_script.py returned 1 values when 15 were expected.\n",
      "23/08/04 02:29:56 ERROR net.ScriptBasedMapping: Script /usr/hdp/3.1.4.0-315/hadoop/conf/topology_script.py returned 1 values when 15 were expected.\n",
      "23/08/04 02:29:56 ERROR net.ScriptBasedMapping: Script /usr/hdp/3.1.4.0-315/hadoop/conf/topology_script.py returned 1 values when 15 were expected.\n",
      "23/08/04 02:29:56 ERROR net.ScriptBasedMapping: Script /usr/hdp/3.1.4.0-315/hadoop/conf/topology_script.py returned 1 values when 15 were expected.\n",
      "23/08/04 02:29:56 ERROR net.ScriptBasedMapping: Script /usr/hdp/3.1.4.0-315/hadoop/conf/topology_script.py returned 1 values when 15 were expected.\n",
      "23/08/04 02:31:27 WARN scheduler.DAGScheduler: Broadcasting large task binary with size 1080.1 KiB\n",
      "/usr/local/spark/python/pyspark/sql/pandas/conversion.py:186: PerformanceWarning: DataFrame is highly fragmented.  This is usually the result of calling `frame.insert` many times, which has poor performance.  Consider joining all columns at once using pd.concat(axis=1) instead.  To get a de-fragmented frame, use `newframe = frame.copy()`\n",
      "  df[column_name] = series\n"
     ]
    }
   ],
   "source": [
    "dt_pd = union_dt.toPandas()"
   ]
  },
  {
   "cell_type": "code",
   "execution_count": 46,
   "id": "4d9a27e9-3355-40fa-8f41-924a358bd1b2",
   "metadata": {
    "collapsed": true,
    "jupyter": {
     "outputs_hidden": true
    },
    "tags": []
   },
   "outputs": [
    {
     "name": "stderr",
     "output_type": "stream",
     "text": [
      "23/08/03 09:44:33 ERROR net.ScriptBasedMapping: Script /usr/hdp/3.1.4.0-315/hadoop/conf/topology_script.py returned 1 values when 8 were expected.\n",
      "23/08/03 09:44:33 ERROR net.ScriptBasedMapping: Script /usr/hdp/3.1.4.0-315/hadoop/conf/topology_script.py returned 1 values when 7 were expected.\n",
      "23/08/03 09:44:33 ERROR net.ScriptBasedMapping: Script /usr/hdp/3.1.4.0-315/hadoop/conf/topology_script.py returned 1 values when 14 were expected.\n",
      "23/08/03 09:44:33 ERROR net.ScriptBasedMapping: Script /usr/hdp/3.1.4.0-315/hadoop/conf/topology_script.py returned 1 values when 14 were expected.\n",
      "23/08/03 09:44:39 ERROR net.ScriptBasedMapping: Script /usr/hdp/3.1.4.0-315/hadoop/conf/topology_script.py returned 1 values when 18 were expected.\n",
      "23/08/03 09:44:39 ERROR net.ScriptBasedMapping: Script /usr/hdp/3.1.4.0-315/hadoop/conf/topology_script.py returned 1 values when 18 were expected.\n",
      "23/08/03 09:44:39 ERROR net.ScriptBasedMapping: Script /usr/hdp/3.1.4.0-315/hadoop/conf/topology_script.py returned 1 values when 18 were expected.\n",
      "23/08/03 09:44:39 ERROR net.ScriptBasedMapping: Script /usr/hdp/3.1.4.0-315/hadoop/conf/topology_script.py returned 1 values when 18 were expected.\n",
      "23/08/03 09:44:39 ERROR net.ScriptBasedMapping: Script /usr/hdp/3.1.4.0-315/hadoop/conf/topology_script.py returned 1 values when 18 were expected.\n",
      "23/08/03 09:44:39 ERROR net.ScriptBasedMapping: Script /usr/hdp/3.1.4.0-315/hadoop/conf/topology_script.py returned 1 values when 18 were expected.\n",
      "23/08/03 09:44:39 ERROR net.ScriptBasedMapping: Script /usr/hdp/3.1.4.0-315/hadoop/conf/topology_script.py returned 1 values when 18 were expected.\n",
      "23/08/03 09:44:39 ERROR net.ScriptBasedMapping: Script /usr/hdp/3.1.4.0-315/hadoop/conf/topology_script.py returned 1 values when 18 were expected.\n",
      "23/08/03 09:46:20 WARN scheduler.DAGScheduler: Broadcasting large task binary with size 1082.9 KiB\n",
      "23/08/03 15:59:18 WARN server.TransportChannelHandler: Exception in connection from /10.127.90.114:49848\n",
      "java.io.IOException: Connection reset by peer\n",
      "\tat sun.nio.ch.FileDispatcherImpl.read0(Native Method)\n",
      "\tat sun.nio.ch.SocketDispatcher.read(SocketDispatcher.java:39)\n",
      "\tat sun.nio.ch.IOUtil.readIntoNativeBuffer(IOUtil.java:223)\n",
      "\tat sun.nio.ch.IOUtil.read(IOUtil.java:192)\n",
      "\tat sun.nio.ch.SocketChannelImpl.read(SocketChannelImpl.java:379)\n",
      "\tat io.netty.buffer.PooledByteBuf.setBytes(PooledByteBuf.java:253)\n",
      "\tat io.netty.buffer.AbstractByteBuf.writeBytes(AbstractByteBuf.java:1133)\n",
      "\tat io.netty.channel.socket.nio.NioSocketChannel.doReadBytes(NioSocketChannel.java:350)\n",
      "\tat io.netty.channel.nio.AbstractNioByteChannel$NioByteUnsafe.read(AbstractNioByteChannel.java:148)\n",
      "\tat io.netty.channel.nio.NioEventLoop.processSelectedKey(NioEventLoop.java:714)\n",
      "\tat io.netty.channel.nio.NioEventLoop.processSelectedKeysOptimized(NioEventLoop.java:650)\n",
      "\tat io.netty.channel.nio.NioEventLoop.processSelectedKeys(NioEventLoop.java:576)\n",
      "\tat io.netty.channel.nio.NioEventLoop.run(NioEventLoop.java:493)\n",
      "\tat io.netty.util.concurrent.SingleThreadEventExecutor$4.run(SingleThreadEventExecutor.java:989)\n",
      "\tat io.netty.util.internal.ThreadExecutorMap$2.run(ThreadExecutorMap.java:74)\n",
      "\tat io.netty.util.concurrent.FastThreadLocalRunnable.run(FastThreadLocalRunnable.java:30)\n",
      "\tat java.lang.Thread.run(Thread.java:748)\n",
      "23/08/03 15:59:18 ERROR client.TransportResponseHandler: Still have 1 requests outstanding when connection from /10.127.90.114:49848 is closed\n",
      "23/08/03 15:59:18 WARN cluster.YarnSchedulerBackend$YarnSchedulerEndpoint: Attempted to get executor loss reason for executor id 12 at RPC address 10.127.90.83:58868, but got no response. Marking as agent lost.\n",
      "java.io.IOException: Connection reset by peer\n",
      "\tat sun.nio.ch.FileDispatcherImpl.read0(Native Method)\n",
      "\tat sun.nio.ch.SocketDispatcher.read(SocketDispatcher.java:39)\n",
      "\tat sun.nio.ch.IOUtil.readIntoNativeBuffer(IOUtil.java:223)\n",
      "\tat sun.nio.ch.IOUtil.read(IOUtil.java:192)\n",
      "\tat sun.nio.ch.SocketChannelImpl.read(SocketChannelImpl.java:379)\n",
      "\tat io.netty.buffer.PooledByteBuf.setBytes(PooledByteBuf.java:253)\n",
      "\tat io.netty.buffer.AbstractByteBuf.writeBytes(AbstractByteBuf.java:1133)\n",
      "\tat io.netty.channel.socket.nio.NioSocketChannel.doReadBytes(NioSocketChannel.java:350)\n",
      "\tat io.netty.channel.nio.AbstractNioByteChannel$NioByteUnsafe.read(AbstractNioByteChannel.java:148)\n",
      "\tat io.netty.channel.nio.NioEventLoop.processSelectedKey(NioEventLoop.java:714)\n",
      "\tat io.netty.channel.nio.NioEventLoop.processSelectedKeysOptimized(NioEventLoop.java:650)\n",
      "\tat io.netty.channel.nio.NioEventLoop.processSelectedKeys(NioEventLoop.java:576)\n",
      "\tat io.netty.channel.nio.NioEventLoop.run(NioEventLoop.java:493)\n",
      "\tat io.netty.util.concurrent.SingleThreadEventExecutor$4.run(SingleThreadEventExecutor.java:989)\n",
      "\tat io.netty.util.internal.ThreadExecutorMap$2.run(ThreadExecutorMap.java:74)\n",
      "\tat io.netty.util.concurrent.FastThreadLocalRunnable.run(FastThreadLocalRunnable.java:30)\n",
      "\tat java.lang.Thread.run(Thread.java:748)\n",
      "23/08/03 15:59:18 ERROR cluster.YarnScheduler: Lost executor 12 on gdatanode03: Executor Process Lost\n",
      "23/08/03 15:59:18 ERROR client.TransportClient: Failed to send RPC RPC 8088182107833704948 to /10.127.90.114:49848: java.nio.channels.ClosedChannelException\n",
      "java.nio.channels.ClosedChannelException\n",
      "\tat io.netty.channel.AbstractChannel$AbstractUnsafe.newClosedChannelException(AbstractChannel.java:957)\n",
      "\tat io.netty.channel.AbstractChannel$AbstractUnsafe.write(AbstractChannel.java:865)\n",
      "\tat io.netty.channel.DefaultChannelPipeline$HeadContext.write(DefaultChannelPipeline.java:1367)\n",
      "\tat io.netty.channel.AbstractChannelHandlerContext.invokeWrite0(AbstractChannelHandlerContext.java:717)\n",
      "\tat io.netty.channel.AbstractChannelHandlerContext.invokeWriteAndFlush(AbstractChannelHandlerContext.java:764)\n",
      "\tat io.netty.channel.AbstractChannelHandlerContext$WriteTask.run(AbstractChannelHandlerContext.java:1071)\n",
      "\tat io.netty.util.concurrent.AbstractEventExecutor.safeExecute(AbstractEventExecutor.java:164)\n",
      "\tat io.netty.util.concurrent.SingleThreadEventExecutor.runAllTasks(SingleThreadEventExecutor.java:472)\n",
      "\tat io.netty.channel.nio.NioEventLoop.run(NioEventLoop.java:500)\n",
      "\tat io.netty.util.concurrent.SingleThreadEventExecutor$4.run(SingleThreadEventExecutor.java:989)\n",
      "\tat io.netty.util.internal.ThreadExecutorMap$2.run(ThreadExecutorMap.java:74)\n",
      "\tat io.netty.util.concurrent.FastThreadLocalRunnable.run(FastThreadLocalRunnable.java:30)\n",
      "\tat java.lang.Thread.run(Thread.java:748)\n",
      "23/08/03 15:59:18 WARN cluster.YarnSchedulerBackend$YarnSchedulerEndpoint: Attempted to get executor loss reason for executor id 7 at RPC address 10.127.90.115:60924, but got no response. Marking as agent lost.\n",
      "java.io.IOException: Failed to send RPC RPC 8088182107833704948 to /10.127.90.114:49848: java.nio.channels.ClosedChannelException\n",
      "\tat org.apache.spark.network.client.TransportClient$RpcChannelListener.handleFailure(TransportClient.java:363)\n",
      "\tat org.apache.spark.network.client.TransportClient$StdChannelListener.operationComplete(TransportClient.java:340)\n",
      "\tat io.netty.util.concurrent.DefaultPromise.notifyListener0(DefaultPromise.java:577)\n",
      "\tat io.netty.util.concurrent.DefaultPromise.notifyListenersNow(DefaultPromise.java:551)\n",
      "\tat io.netty.util.concurrent.DefaultPromise.notifyListeners(DefaultPromise.java:490)\n",
      "\tat io.netty.util.concurrent.DefaultPromise.setValue0(DefaultPromise.java:615)\n",
      "\tat io.netty.util.concurrent.DefaultPromise.setFailure0(DefaultPromise.java:608)\n",
      "\tat io.netty.util.concurrent.DefaultPromise.tryFailure(DefaultPromise.java:117)\n",
      "\tat io.netty.channel.AbstractChannel$AbstractUnsafe.safeSetFailure(AbstractChannel.java:993)\n",
      "\tat io.netty.channel.AbstractChannel$AbstractUnsafe.write(AbstractChannel.java:865)\n",
      "\tat io.netty.channel.DefaultChannelPipeline$HeadContext.write(DefaultChannelPipeline.java:1367)\n",
      "\tat io.netty.channel.AbstractChannelHandlerContext.invokeWrite0(AbstractChannelHandlerContext.java:717)\n",
      "\tat io.netty.channel.AbstractChannelHandlerContext.invokeWriteAndFlush(AbstractChannelHandlerContext.java:764)\n",
      "\tat io.netty.channel.AbstractChannelHandlerContext$WriteTask.run(AbstractChannelHandlerContext.java:1071)\n",
      "\tat io.netty.util.concurrent.AbstractEventExecutor.safeExecute(AbstractEventExecutor.java:164)\n",
      "\tat io.netty.util.concurrent.SingleThreadEventExecutor.runAllTasks(SingleThreadEventExecutor.java:472)\n",
      "\tat io.netty.channel.nio.NioEventLoop.run(NioEventLoop.java:500)\n",
      "\tat io.netty.util.concurrent.SingleThreadEventExecutor$4.run(SingleThreadEventExecutor.java:989)\n",
      "\tat io.netty.util.internal.ThreadExecutorMap$2.run(ThreadExecutorMap.java:74)\n",
      "\tat io.netty.util.concurrent.FastThreadLocalRunnable.run(FastThreadLocalRunnable.java:30)\n",
      "\tat java.lang.Thread.run(Thread.java:748)\n",
      "Caused by: java.nio.channels.ClosedChannelException\n",
      "\tat io.netty.channel.AbstractChannel$AbstractUnsafe.newClosedChannelException(AbstractChannel.java:957)\n",
      "\t... 12 more\n",
      "23/08/03 15:59:18 ERROR cluster.YarnScheduler: Lost executor 7 on gdatanode33: Executor Process Lost\n",
      "23/08/03 15:59:18 ERROR client.TransportClient: Failed to send RPC RPC 8233736159069753101 to /10.127.90.114:49848: java.nio.channels.ClosedChannelException\n",
      "java.nio.channels.ClosedChannelException\n",
      "\tat io.netty.channel.AbstractChannel$AbstractUnsafe.newClosedChannelException(AbstractChannel.java:957)\n",
      "\tat io.netty.channel.AbstractChannel$AbstractUnsafe.write(AbstractChannel.java:865)\n",
      "\tat io.netty.channel.DefaultChannelPipeline$HeadContext.write(DefaultChannelPipeline.java:1367)\n",
      "\tat io.netty.channel.AbstractChannelHandlerContext.invokeWrite0(AbstractChannelHandlerContext.java:717)\n",
      "\tat io.netty.channel.AbstractChannelHandlerContext.invokeWriteAndFlush(AbstractChannelHandlerContext.java:764)\n",
      "\tat io.netty.channel.AbstractChannelHandlerContext$WriteTask.run(AbstractChannelHandlerContext.java:1071)\n",
      "\tat io.netty.util.concurrent.AbstractEventExecutor.safeExecute(AbstractEventExecutor.java:164)\n",
      "\tat io.netty.util.concurrent.SingleThreadEventExecutor.runAllTasks(SingleThreadEventExecutor.java:472)\n",
      "\tat io.netty.channel.nio.NioEventLoop.run(NioEventLoop.java:500)\n",
      "\tat io.netty.util.concurrent.SingleThreadEventExecutor$4.run(SingleThreadEventExecutor.java:989)\n",
      "\tat io.netty.util.internal.ThreadExecutorMap$2.run(ThreadExecutorMap.java:74)\n",
      "\tat io.netty.util.concurrent.FastThreadLocalRunnable.run(FastThreadLocalRunnable.java:30)\n",
      "\tat java.lang.Thread.run(Thread.java:748)\n",
      "23/08/03 15:59:18 WARN cluster.YarnSchedulerBackend$YarnSchedulerEndpoint: Attempted to get executor loss reason for executor id 8 at RPC address 10.127.90.105:39154, but got no response. Marking as agent lost.\n",
      "java.io.IOException: Failed to send RPC RPC 8233736159069753101 to /10.127.90.114:49848: java.nio.channels.ClosedChannelException\n",
      "\tat org.apache.spark.network.client.TransportClient$RpcChannelListener.handleFailure(TransportClient.java:363)\n",
      "\tat org.apache.spark.network.client.TransportClient$StdChannelListener.operationComplete(TransportClient.java:340)\n",
      "\tat io.netty.util.concurrent.DefaultPromise.notifyListener0(DefaultPromise.java:577)\n",
      "\tat io.netty.util.concurrent.DefaultPromise.notifyListenersNow(DefaultPromise.java:551)\n",
      "\tat io.netty.util.concurrent.DefaultPromise.notifyListeners(DefaultPromise.java:490)\n",
      "\tat io.netty.util.concurrent.DefaultPromise.setValue0(DefaultPromise.java:615)\n",
      "\tat io.netty.util.concurrent.DefaultPromise.setFailure0(DefaultPromise.java:608)\n",
      "\tat io.netty.util.concurrent.DefaultPromise.tryFailure(DefaultPromise.java:117)\n",
      "\tat io.netty.channel.AbstractChannel$AbstractUnsafe.safeSetFailure(AbstractChannel.java:993)\n",
      "\tat io.netty.channel.AbstractChannel$AbstractUnsafe.write(AbstractChannel.java:865)\n",
      "\tat io.netty.channel.DefaultChannelPipeline$HeadContext.write(DefaultChannelPipeline.java:1367)\n",
      "\tat io.netty.channel.AbstractChannelHandlerContext.invokeWrite0(AbstractChannelHandlerContext.java:717)\n",
      "\tat io.netty.channel.AbstractChannelHandlerContext.invokeWriteAndFlush(AbstractChannelHandlerContext.java:764)\n",
      "\tat io.netty.channel.AbstractChannelHandlerContext$WriteTask.run(AbstractChannelHandlerContext.java:1071)\n",
      "\tat io.netty.util.concurrent.AbstractEventExecutor.safeExecute(AbstractEventExecutor.java:164)\n",
      "\tat io.netty.util.concurrent.SingleThreadEventExecutor.runAllTasks(SingleThreadEventExecutor.java:472)\n",
      "\tat io.netty.channel.nio.NioEventLoop.run(NioEventLoop.java:500)\n",
      "\tat io.netty.util.concurrent.SingleThreadEventExecutor$4.run(SingleThreadEventExecutor.java:989)\n",
      "\tat io.netty.util.internal.ThreadExecutorMap$2.run(ThreadExecutorMap.java:74)\n",
      "\tat io.netty.util.concurrent.FastThreadLocalRunnable.run(FastThreadLocalRunnable.java:30)\n",
      "\tat java.lang.Thread.run(Thread.java:748)\n",
      "Caused by: java.nio.channels.ClosedChannelException\n",
      "\tat io.netty.channel.AbstractChannel$AbstractUnsafe.newClosedChannelException(AbstractChannel.java:957)\n",
      "\t... 12 more\n",
      "23/08/03 15:59:18 ERROR cluster.YarnScheduler: Lost executor 8 on gdatanode23: Executor Process Lost\n",
      "23/08/03 15:59:19 ERROR client.TransportClient: Failed to send RPC RPC 6674408064878983316 to /10.127.90.114:49848: java.nio.channels.ClosedChannelException\n",
      "java.nio.channels.ClosedChannelException\n",
      "\tat io.netty.channel.AbstractChannel$AbstractUnsafe.newClosedChannelException(AbstractChannel.java:957)\n",
      "\tat io.netty.channel.AbstractChannel$AbstractUnsafe.write(AbstractChannel.java:865)\n",
      "\tat io.netty.channel.DefaultChannelPipeline$HeadContext.write(DefaultChannelPipeline.java:1367)\n",
      "\tat io.netty.channel.AbstractChannelHandlerContext.invokeWrite0(AbstractChannelHandlerContext.java:717)\n",
      "\tat io.netty.channel.AbstractChannelHandlerContext.invokeWriteAndFlush(AbstractChannelHandlerContext.java:764)\n",
      "\tat io.netty.channel.AbstractChannelHandlerContext$WriteTask.run(AbstractChannelHandlerContext.java:1071)\n",
      "\tat io.netty.util.concurrent.AbstractEventExecutor.safeExecute(AbstractEventExecutor.java:164)\n",
      "\tat io.netty.util.concurrent.SingleThreadEventExecutor.runAllTasks(SingleThreadEventExecutor.java:472)\n",
      "\tat io.netty.channel.nio.NioEventLoop.run(NioEventLoop.java:500)\n",
      "\tat io.netty.util.concurrent.SingleThreadEventExecutor$4.run(SingleThreadEventExecutor.java:989)\n",
      "\tat io.netty.util.internal.ThreadExecutorMap$2.run(ThreadExecutorMap.java:74)\n",
      "\tat io.netty.util.concurrent.FastThreadLocalRunnable.run(FastThreadLocalRunnable.java:30)\n",
      "\tat java.lang.Thread.run(Thread.java:748)\n",
      "23/08/03 15:59:19 WARN cluster.YarnSchedulerBackend$YarnSchedulerEndpoint: Attempted to get executor loss reason for executor id 9 at RPC address 10.127.90.105:39132, but got no response. Marking as agent lost.\n",
      "java.io.IOException: Failed to send RPC RPC 6674408064878983316 to /10.127.90.114:49848: java.nio.channels.ClosedChannelException\n",
      "\tat org.apache.spark.network.client.TransportClient$RpcChannelListener.handleFailure(TransportClient.java:363)\n",
      "\tat org.apache.spark.network.client.TransportClient$StdChannelListener.operationComplete(TransportClient.java:340)\n",
      "\tat io.netty.util.concurrent.DefaultPromise.notifyListener0(DefaultPromise.java:577)\n",
      "\tat io.netty.util.concurrent.DefaultPromise.notifyListenersNow(DefaultPromise.java:551)\n",
      "\tat io.netty.util.concurrent.DefaultPromise.notifyListeners(DefaultPromise.java:490)\n",
      "\tat io.netty.util.concurrent.DefaultPromise.setValue0(DefaultPromise.java:615)\n",
      "\tat io.netty.util.concurrent.DefaultPromise.setFailure0(DefaultPromise.java:608)\n",
      "\tat io.netty.util.concurrent.DefaultPromise.tryFailure(DefaultPromise.java:117)\n",
      "\tat io.netty.channel.AbstractChannel$AbstractUnsafe.safeSetFailure(AbstractChannel.java:993)\n",
      "\tat io.netty.channel.AbstractChannel$AbstractUnsafe.write(AbstractChannel.java:865)\n",
      "\tat io.netty.channel.DefaultChannelPipeline$HeadContext.write(DefaultChannelPipeline.java:1367)\n",
      "\tat io.netty.channel.AbstractChannelHandlerContext.invokeWrite0(AbstractChannelHandlerContext.java:717)\n",
      "\tat io.netty.channel.AbstractChannelHandlerContext.invokeWriteAndFlush(AbstractChannelHandlerContext.java:764)\n",
      "\tat io.netty.channel.AbstractChannelHandlerContext$WriteTask.run(AbstractChannelHandlerContext.java:1071)\n",
      "\tat io.netty.util.concurrent.AbstractEventExecutor.safeExecute(AbstractEventExecutor.java:164)\n",
      "\tat io.netty.util.concurrent.SingleThreadEventExecutor.runAllTasks(SingleThreadEventExecutor.java:472)\n",
      "\tat io.netty.channel.nio.NioEventLoop.run(NioEventLoop.java:500)\n",
      "\tat io.netty.util.concurrent.SingleThreadEventExecutor$4.run(SingleThreadEventExecutor.java:989)\n",
      "\tat io.netty.util.internal.ThreadExecutorMap$2.run(ThreadExecutorMap.java:74)\n",
      "\tat io.netty.util.concurrent.FastThreadLocalRunnable.run(FastThreadLocalRunnable.java:30)\n",
      "\tat java.lang.Thread.run(Thread.java:748)\n",
      "Caused by: java.nio.channels.ClosedChannelException\n",
      "\tat io.netty.channel.AbstractChannel$AbstractUnsafe.newClosedChannelException(AbstractChannel.java:957)\n",
      "\t... 12 more\n",
      "23/08/03 15:59:19 ERROR cluster.YarnScheduler: Lost executor 9 on gdatanode23: Executor Process Lost\n",
      "23/08/03 15:59:19 ERROR cluster.YarnClientSchedulerBackend: YARN application has exited unexpectedly with state KILLED! Check the YARN application logs for more details.\n",
      "23/08/03 15:59:19 ERROR cluster.YarnClientSchedulerBackend: Diagnostics message: Application application_1688953521067_91428 was killed by user root at 10.127.90.77\n",
      "23/08/03 15:59:19 ERROR client.TransportClient: Failed to send RPC RPC 5229969585988094875 to /10.127.90.114:49848: java.nio.channels.ClosedChannelException\n",
      "java.nio.channels.ClosedChannelException\n",
      "\tat io.netty.channel.AbstractChannel$AbstractUnsafe.newClosedChannelException(AbstractChannel.java:957)\n",
      "\tat io.netty.channel.AbstractChannel$AbstractUnsafe.write(AbstractChannel.java:865)\n",
      "\tat io.netty.channel.DefaultChannelPipeline$HeadContext.write(DefaultChannelPipeline.java:1367)\n",
      "\tat io.netty.channel.AbstractChannelHandlerContext.invokeWrite0(AbstractChannelHandlerContext.java:717)\n",
      "\tat io.netty.channel.AbstractChannelHandlerContext.invokeWriteAndFlush(AbstractChannelHandlerContext.java:764)\n",
      "\tat io.netty.channel.AbstractChannelHandlerContext$WriteTask.run(AbstractChannelHandlerContext.java:1071)\n",
      "\tat io.netty.util.concurrent.AbstractEventExecutor.safeExecute(AbstractEventExecutor.java:164)\n",
      "\tat io.netty.util.concurrent.SingleThreadEventExecutor.runAllTasks(SingleThreadEventExecutor.java:472)\n",
      "\tat io.netty.channel.nio.NioEventLoop.run(NioEventLoop.java:500)\n",
      "\tat io.netty.util.concurrent.SingleThreadEventExecutor$4.run(SingleThreadEventExecutor.java:989)\n",
      "\tat io.netty.util.internal.ThreadExecutorMap$2.run(ThreadExecutorMap.java:74)\n",
      "\tat io.netty.util.concurrent.FastThreadLocalRunnable.run(FastThreadLocalRunnable.java:30)\n",
      "\tat java.lang.Thread.run(Thread.java:748)\n",
      "23/08/03 15:59:19 ERROR cluster.YarnSchedulerBackend$YarnSchedulerEndpoint: Sending RequestExecutors(Map(),Map(),Map(),Set()) to AM was unsuccessful\n",
      "java.io.IOException: Failed to send RPC RPC 5229969585988094875 to /10.127.90.114:49848: java.nio.channels.ClosedChannelException\n",
      "\tat org.apache.spark.network.client.TransportClient$RpcChannelListener.handleFailure(TransportClient.java:363)\n",
      "\tat org.apache.spark.network.client.TransportClient$StdChannelListener.operationComplete(TransportClient.java:340)\n",
      "\tat io.netty.util.concurrent.DefaultPromise.notifyListener0(DefaultPromise.java:577)\n",
      "\tat io.netty.util.concurrent.DefaultPromise.notifyListenersNow(DefaultPromise.java:551)\n",
      "\tat io.netty.util.concurrent.DefaultPromise.notifyListeners(DefaultPromise.java:490)\n",
      "\tat io.netty.util.concurrent.DefaultPromise.setValue0(DefaultPromise.java:615)\n",
      "\tat io.netty.util.concurrent.DefaultPromise.setFailure0(DefaultPromise.java:608)\n",
      "\tat io.netty.util.concurrent.DefaultPromise.tryFailure(DefaultPromise.java:117)\n",
      "\tat io.netty.channel.AbstractChannel$AbstractUnsafe.safeSetFailure(AbstractChannel.java:993)\n",
      "\tat io.netty.channel.AbstractChannel$AbstractUnsafe.write(AbstractChannel.java:865)\n",
      "\tat io.netty.channel.DefaultChannelPipeline$HeadContext.write(DefaultChannelPipeline.java:1367)\n",
      "\tat io.netty.channel.AbstractChannelHandlerContext.invokeWrite0(AbstractChannelHandlerContext.java:717)\n",
      "\tat io.netty.channel.AbstractChannelHandlerContext.invokeWriteAndFlush(AbstractChannelHandlerContext.java:764)\n",
      "\tat io.netty.channel.AbstractChannelHandlerContext$WriteTask.run(AbstractChannelHandlerContext.java:1071)\n",
      "\tat io.netty.util.concurrent.AbstractEventExecutor.safeExecute(AbstractEventExecutor.java:164)\n",
      "\tat io.netty.util.concurrent.SingleThreadEventExecutor.runAllTasks(SingleThreadEventExecutor.java:472)\n",
      "\tat io.netty.channel.nio.NioEventLoop.run(NioEventLoop.java:500)\n",
      "\tat io.netty.util.concurrent.SingleThreadEventExecutor$4.run(SingleThreadEventExecutor.java:989)\n",
      "\tat io.netty.util.internal.ThreadExecutorMap$2.run(ThreadExecutorMap.java:74)\n",
      "\tat io.netty.util.concurrent.FastThreadLocalRunnable.run(FastThreadLocalRunnable.java:30)\n",
      "\tat java.lang.Thread.run(Thread.java:748)\n",
      "Caused by: java.nio.channels.ClosedChannelException\n",
      "\tat io.netty.channel.AbstractChannel$AbstractUnsafe.newClosedChannelException(AbstractChannel.java:957)\n",
      "\t... 12 more\n",
      "23/08/03 15:59:19 ERROR util.Utils: Uncaught exception in thread YARN application state monitor\n",
      "org.apache.spark.SparkException: Exception thrown in awaitResult: \n",
      "\tat org.apache.spark.util.ThreadUtils$.awaitResult(ThreadUtils.scala:301)\n",
      "\tat org.apache.spark.rpc.RpcTimeout.awaitResult(RpcTimeout.scala:75)\n",
      "\tat org.apache.spark.scheduler.cluster.CoarseGrainedSchedulerBackend.requestTotalExecutors(CoarseGrainedSchedulerBackend.scala:742)\n",
      "\tat org.apache.spark.scheduler.cluster.YarnSchedulerBackend.stop(YarnSchedulerBackend.scala:114)\n",
      "\tat org.apache.spark.scheduler.cluster.YarnClientSchedulerBackend.stop(YarnClientSchedulerBackend.scala:168)\n",
      "\tat org.apache.spark.scheduler.TaskSchedulerImpl.stop(TaskSchedulerImpl.scala:881)\n",
      "\tat org.apache.spark.scheduler.DAGScheduler.stop(DAGScheduler.scala:2415)\n",
      "\tat org.apache.spark.SparkContext.$anonfun$stop$12(SparkContext.scala:2069)\n",
      "\tat org.apache.spark.util.Utils$.tryLogNonFatalError(Utils.scala:1419)\n",
      "\tat org.apache.spark.SparkContext.stop(SparkContext.scala:2069)\n",
      "\tat org.apache.spark.scheduler.cluster.YarnClientSchedulerBackend$MonitorThread.run(YarnClientSchedulerBackend.scala:124)\n",
      "Caused by: java.io.IOException: Failed to send RPC RPC 5229969585988094875 to /10.127.90.114:49848: java.nio.channels.ClosedChannelException\n",
      "\tat org.apache.spark.network.client.TransportClient$RpcChannelListener.handleFailure(TransportClient.java:363)\n",
      "\tat org.apache.spark.network.client.TransportClient$StdChannelListener.operationComplete(TransportClient.java:340)\n",
      "\tat io.netty.util.concurrent.DefaultPromise.notifyListener0(DefaultPromise.java:577)\n",
      "\tat io.netty.util.concurrent.DefaultPromise.notifyListenersNow(DefaultPromise.java:551)\n",
      "\tat io.netty.util.concurrent.DefaultPromise.notifyListeners(DefaultPromise.java:490)\n",
      "\tat io.netty.util.concurrent.DefaultPromise.setValue0(DefaultPromise.java:615)\n",
      "\tat io.netty.util.concurrent.DefaultPromise.setFailure0(DefaultPromise.java:608)\n",
      "\tat io.netty.util.concurrent.DefaultPromise.tryFailure(DefaultPromise.java:117)\n",
      "\tat io.netty.channel.AbstractChannel$AbstractUnsafe.safeSetFailure(AbstractChannel.java:993)\n",
      "\tat io.netty.channel.AbstractChannel$AbstractUnsafe.write(AbstractChannel.java:865)\n",
      "\tat io.netty.channel.DefaultChannelPipeline$HeadContext.write(DefaultChannelPipeline.java:1367)\n",
      "\tat io.netty.channel.AbstractChannelHandlerContext.invokeWrite0(AbstractChannelHandlerContext.java:717)\n",
      "\tat io.netty.channel.AbstractChannelHandlerContext.invokeWriteAndFlush(AbstractChannelHandlerContext.java:764)\n",
      "\tat io.netty.channel.AbstractChannelHandlerContext$WriteTask.run(AbstractChannelHandlerContext.java:1071)\n",
      "\tat io.netty.util.concurrent.AbstractEventExecutor.safeExecute(AbstractEventExecutor.java:164)\n",
      "\tat io.netty.util.concurrent.SingleThreadEventExecutor.runAllTasks(SingleThreadEventExecutor.java:472)\n",
      "\tat io.netty.channel.nio.NioEventLoop.run(NioEventLoop.java:500)\n",
      "\tat io.netty.util.concurrent.SingleThreadEventExecutor$4.run(SingleThreadEventExecutor.java:989)\n",
      "\tat io.netty.util.internal.ThreadExecutorMap$2.run(ThreadExecutorMap.java:74)\n",
      "\tat io.netty.util.concurrent.FastThreadLocalRunnable.run(FastThreadLocalRunnable.java:30)\n",
      "\tat java.lang.Thread.run(Thread.java:748)\n",
      "Caused by: java.nio.channels.ClosedChannelException\n",
      "\tat io.netty.channel.AbstractChannel$AbstractUnsafe.newClosedChannelException(AbstractChannel.java:957)\n",
      "\t... 12 more\n"
     ]
    }
   ],
   "source": [
    "union_dt.repartition(40).write.option(\"header\",\"true\").csv(\"/tmp/lig-u/gkx_union_dt.csv\")"
   ]
  },
  {
   "cell_type": "code",
   "execution_count": 86,
   "id": "54230aea-9e4a-4322-add1-a39d8f488de8",
   "metadata": {},
   "outputs": [],
   "source": [
    "X_dt=dt_pd.drop(['target','customer_wid','date_end'],axis=1)\n",
    "Y_dt=dt_pd['target'].astype('int')"
   ]
  },
  {
   "cell_type": "code",
   "execution_count": 87,
   "id": "b83932b1-4e24-472c-be71-56253df43cdd",
   "metadata": {},
   "outputs": [],
   "source": [
    "Y_dt_pred = best_estimator.predict_proba(X_dt)\n",
    "Y_dt_pred_1 = Y_dt_pred[:,1]"
   ]
  },
  {
   "cell_type": "code",
   "execution_count": 89,
   "id": "ff4494d1-16e9-4c32-a7ed-b9dbd0160f43",
   "metadata": {},
   "outputs": [],
   "source": [
    "import matplotlib.pyplot as plt"
   ]
  },
  {
   "cell_type": "code",
   "execution_count": 90,
   "id": "39e4b34d-9113-4fc5-90d0-3902a349f64e",
   "metadata": {},
   "outputs": [
    {
     "data": {
      "text/plain": [
       "<matplotlib.legend.Legend at 0x7f11bc7da2d0>"
      ]
     },
     "execution_count": 90,
     "metadata": {},
     "output_type": "execute_result"
    },
    {
     "data": {
      "image/png": "[encoded data removed]",
      "text/plain": [
       "<Figure size 432x288 with 1 Axes>"
      ]
     },
     "metadata": {
      "needs_background": "light"
     },
     "output_type": "display_data"
    }
   ],
   "source": [
    "###最佳阈值\n",
    "def Find_Optimal_Cutoff(TPR, FPR, threshold):\n",
    "    y = TPR - FPR\n",
    "    Youden_index = np.argmax(y)  # Only the first occurrence is returned.\n",
    "    optimal_threshold = threshold[Youden_index]\n",
    "    point = [FPR[Youden_index], TPR[Youden_index]]\n",
    "    return optimal_threshold, point\n",
    "\n",
    "###ROC\n",
    "fpr, tpr, thersholds = roc_curve(Y_dt, Y_dt_pred_1, pos_label=1)\n",
    "best_thershold, point = Find_Optimal_Cutoff(tpr, fpr, thersholds)\n",
    "roc_auc = auc(fpr, tpr)\n",
    " \n",
    "plt.plot(fpr, tpr, 'k--', label='ROC (area = {0:.2f})'.format(roc_auc), lw=2)\n",
    " \n",
    "plt.xlim([-0.05, 1.05])  # 设置x、y轴的上下限，以免和边缘重合，更好的观察图像的整体\n",
    "plt.ylim([-0.05, 1.05])\n",
    "plt.plot(point[0], point[1], marker='o', color='r')\n",
    "plt.text(point[0], point[1], f'Threshold:{best_thershold:.4f}')\n",
    "plt.xlabel('False Positive Rate')\n",
    "plt.ylabel('True Positive Rate')  # 可以使用中文，但需要导入一些库即字体\n",
    "plt.title('ROC Curve')\n",
    "plt.legend(loc=\"lower right\")"
   ]
  },
  {
   "cell_type": "code",
   "execution_count": 93,
   "id": "68a09541-c2e4-4965-9589-66846e937fba",
   "metadata": {},
   "outputs": [
    {
     "data": {
      "text/plain": [
       "0.6618685746257692"
      ]
     },
     "execution_count": 93,
     "metadata": {},
     "output_type": "execute_result"
    }
   ],
   "source": [
    "roc_auc"
   ]
  },
  {
   "cell_type": "code",
   "execution_count": 96,
   "id": "fca4caa5-e243-4af9-a7b3-cae7a72aadb1",
   "metadata": {},
   "outputs": [],
   "source": [
    "def ks_curve(df, num=10):\n",
    "    # 防止中文乱码\n",
    "    #plt.rcParams['font.sans-serif']=['SimHei']\n",
    "    plt.rcParams['axes.unicode_minus']=False\n",
    "\n",
    "    ks_value = df['diff'].max()\n",
    "    # 获取绘制曲线所需要的数据\n",
    "    x_curve = range(num + 1)\n",
    "    y_curve1 = [0] + list(df['bad_percent_cum'].values[:-1])\n",
    "    y_curve2 = [0] + list(df['good_percent_cum'].values[:-1])\n",
    "    y_curve3 = [0] + list(df['diff'].values[:-1])\n",
    "    # 获取绘制ks点所需要的数据\n",
    "    df_ks_max = df[df['diff'] == ks_value]\n",
    "    x_point = [df_ks_max['rank'].values[0], df_ks_max['rank'].values[0]]\n",
    "    y_point = [df_ks_max['bad_percent_cum'].values[0], df_ks_max['good_percent_cum'].values[0]]\n",
    "    # 绘制曲线\n",
    "    plt.plot(x_curve, y_curve1, label='bad', linewidth=2)\n",
    "    plt.plot(x_curve, y_curve2, label='good', linewidth=2)\n",
    "    plt.plot(x_curve, y_curve3, label='diff', linewidth=2)\n",
    "    # 标记ks\n",
    "    plt.plot(x_point, y_point, label='ks - {:.2f}'.format(ks_value), color='r', marker='o', markerfacecolor='r', markersize=5)\n",
    "    plt.scatter(x_point, y_point, color='r')\n",
    "    plt.title('K-S')\n",
    "    plt.legend()\n",
    "    plt.show()\n",
    "    \n",
    "    return ks_value"
   ]
  },
  {
   "cell_type": "code",
   "execution_count": 95,
   "id": "fb60e951-f0d4-4363-833a-7de1f082c7c9",
   "metadata": {},
   "outputs": [],
   "source": [
    "### KS\n",
    "def ks(df, y_true, y_pre, num=10, good=1, bad=0):\n",
    "    # 1.将数据从小到大平均分成num组\n",
    "    df_ks = df.sort_values(y_pre).reset_index(drop=True)\n",
    "    df_ks['rank'] = np.floor((df_ks.index / len(df_ks) * num) + 1)\n",
    "    df_ks['set_1'] = 1\n",
    "    # 2.统计结果\n",
    "    result_ks = pd.DataFrame()\n",
    "    result_ks['group_sum'] = df_ks.groupby('rank')['set_1'].sum()\n",
    "    result_ks['group_min'] = df_ks.groupby('rank')[y_pre].min()\n",
    "    result_ks['group_max'] = df_ks.groupby('rank')[y_pre].max()\n",
    "    result_ks['group_mean'] = df_ks.groupby('rank')[y_pre].mean()\n",
    "    # 3.最后一行添加total汇总数据\n",
    "    result_ks.loc['total', 'group_sum'] = df_ks['set_1'].sum()\n",
    "    result_ks.loc['total', 'group_min'] = df_ks[y_pre].min()\n",
    "    result_ks.loc['total', 'group_max'] = df_ks[y_pre].max()\n",
    "    result_ks.loc['total', 'group_mean'] = df_ks[y_pre].mean()\n",
    "    # 4.好用户统计\n",
    "    result_ks['good_sum'] = df_ks[df_ks[y_true] == good].groupby('rank')['set_1'].sum()\n",
    "    result_ks.good_sum.replace(np.nan, 0, inplace=True)\n",
    "    result_ks.loc['total', 'good_sum'] = result_ks['good_sum'].sum()\n",
    "    result_ks['good_percent'] = result_ks['good_sum'] / result_ks.loc['total', 'good_sum']\n",
    "    result_ks['good_percent_cum'] = result_ks['good_sum'].cumsum() / result_ks.loc['total', 'good_sum']\n",
    "    # 5.坏用户统计\n",
    "    result_ks['bad_sum'] = df_ks[df_ks[y_true] == bad].groupby('rank')['set_1'].sum()\n",
    "    result_ks.bad_sum.replace(np.nan, 0, inplace=True)\n",
    "    result_ks.loc['total', 'bad_sum'] = result_ks['bad_sum'].sum()\n",
    "    result_ks['bad_percent'] = result_ks['bad_sum'] / result_ks.loc['total', 'bad_sum']\n",
    "    result_ks['bad_percent_cum'] = result_ks['bad_sum'].cumsum() / result_ks.loc['total', 'bad_sum']\n",
    "    # 6.计算ks值\n",
    "    result_ks['diff'] = result_ks['bad_percent_cum'] - result_ks['good_percent_cum']\n",
    "    # 7.更新最后一行total的数据\n",
    "    result_ks.loc['total', 'bad_percent_cum'] = np.nan\n",
    "    result_ks.loc['total', 'good_percent_cum'] = np.nan\n",
    "    result_ks.loc['total', 'diff'] = result_ks['diff'].max()\n",
    "    \n",
    "    result_ks = result_ks.reset_index()\n",
    "    \n",
    "    return result_ks"
   ]
  },
  {
   "cell_type": "code",
   "execution_count": 97,
   "id": "17e083dd-bdfb-4db1-8420-737e63418136",
   "metadata": {},
   "outputs": [
    {
     "data": {
      "image/png": "[encoded data removed]",
      "text/plain": [
       "<Figure size 432x288 with 1 Axes>"
      ]
     },
     "metadata": {
      "needs_background": "light"
     },
     "output_type": "display_data"
    },
    {
     "data": {
      "text/plain": [
       "0.26113220993801634"
      ]
     },
     "execution_count": 97,
     "metadata": {},
     "output_type": "execute_result"
    }
   ],
   "source": [
    "ks_df = pd.DataFrame()\n",
    "ks_df['score']=Y_dt_pred_1\n",
    "ks_df['label']=list(Y_dt)\n",
    "result_ks = ks(ks_df, 'label', 'score')\n",
    "ks_curve(result_ks)"
   ]
  },
  {
   "cell_type": "code",
   "execution_count": 98,
   "id": "821b62bd-7326-465b-8693-efd8c72e78c0",
   "metadata": {
    "collapsed": true,
    "jupyter": {
     "outputs_hidden": true
    },
    "tags": []
   },
   "outputs": [
    {
     "data": {
      "text/plain": [
       "<AxesSubplot:title={'center':'Feature importance'}, xlabel='F score', ylabel='Features'>"
      ]
     },
     "execution_count": 98,
     "metadata": {},
     "output_type": "execute_result"
    },
    {
     "name": "stderr",
     "output_type": "stream",
     "text": [
      "/opt/conda/lib/python3.7/site-packages/matplotlib/backends/backend_agg.py:240: RuntimeWarning: Glyph 25151 missing from current font.\n",
      "  font.set_text(s, 0.0, flags=flags)\n",
      "/opt/conda/lib/python3.7/site-packages/matplotlib/backends/backend_agg.py:240: RuntimeWarning: Glyph 24314 missing from current font.\n",
      "  font.set_text(s, 0.0, flags=flags)\n",
      "/opt/conda/lib/python3.7/site-packages/matplotlib/backends/backend_agg.py:240: RuntimeWarning: Glyph 30005 missing from current font.\n",
      "  font.set_text(s, 0.0, flags=flags)\n",
      "/opt/conda/lib/python3.7/site-packages/matplotlib/backends/backend_agg.py:240: RuntimeWarning: Glyph 21147 missing from current font.\n",
      "  font.set_text(s, 0.0, flags=flags)\n",
      "/opt/conda/lib/python3.7/site-packages/matplotlib/backends/backend_agg.py:240: RuntimeWarning: Glyph 20844 missing from current font.\n",
      "  font.set_text(s, 0.0, flags=flags)\n",
      "/opt/conda/lib/python3.7/site-packages/matplotlib/backends/backend_agg.py:240: RuntimeWarning: Glyph 36335 missing from current font.\n",
      "  font.set_text(s, 0.0, flags=flags)\n",
      "/opt/conda/lib/python3.7/site-packages/matplotlib/backends/backend_agg.py:240: RuntimeWarning: Glyph 36890 missing from current font.\n",
      "  font.set_text(s, 0.0, flags=flags)\n",
      "/opt/conda/lib/python3.7/site-packages/matplotlib/backends/backend_agg.py:240: RuntimeWarning: Glyph 20449 missing from current font.\n",
      "  font.set_text(s, 0.0, flags=flags)\n",
      "/opt/conda/lib/python3.7/site-packages/matplotlib/backends/backend_agg.py:240: RuntimeWarning: Glyph 35013 missing from current font.\n",
      "  font.set_text(s, 0.0, flags=flags)\n",
      "/opt/conda/lib/python3.7/site-packages/matplotlib/backends/backend_agg.py:240: RuntimeWarning: Glyph 20462 missing from current font.\n",
      "  font.set_text(s, 0.0, flags=flags)\n",
      "/opt/conda/lib/python3.7/site-packages/matplotlib/backends/backend_agg.py:240: RuntimeWarning: Glyph 39280 missing from current font.\n",
      "  font.set_text(s, 0.0, flags=flags)\n",
      "/opt/conda/lib/python3.7/site-packages/matplotlib/backends/backend_agg.py:240: RuntimeWarning: Glyph 26426 missing from current font.\n",
      "  font.set_text(s, 0.0, flags=flags)\n",
      "/opt/conda/lib/python3.7/site-packages/matplotlib/backends/backend_agg.py:240: RuntimeWarning: Glyph 24037 missing from current font.\n",
      "  font.set_text(s, 0.0, flags=flags)\n",
      "/opt/conda/lib/python3.7/site-packages/matplotlib/backends/backend_agg.py:240: RuntimeWarning: Glyph 31243 missing from current font.\n",
      "  font.set_text(s, 0.0, flags=flags)\n",
      "/opt/conda/lib/python3.7/site-packages/matplotlib/backends/backend_agg.py:240: RuntimeWarning: Glyph 25968 missing from current font.\n",
      "  font.set_text(s, 0.0, flags=flags)\n",
      "/opt/conda/lib/python3.7/site-packages/matplotlib/backends/backend_agg.py:240: RuntimeWarning: Glyph 26080 missing from current font.\n",
      "  font.set_text(s, 0.0, flags=flags)\n",
      "/opt/conda/lib/python3.7/site-packages/matplotlib/backends/backend_agg.py:240: RuntimeWarning: Glyph 21435 missing from current font.\n",
      "  font.set_text(s, 0.0, flags=flags)\n",
      "/opt/conda/lib/python3.7/site-packages/matplotlib/backends/backend_agg.py:240: RuntimeWarning: Glyph 37325 missing from current font.\n",
      "  font.set_text(s, 0.0, flags=flags)\n",
      "/opt/conda/lib/python3.7/site-packages/matplotlib/backends/backend_agg.py:203: RuntimeWarning: Glyph 25151 missing from current font.\n",
      "  font.set_text(s, 0, flags=flags)\n",
      "/opt/conda/lib/python3.7/site-packages/matplotlib/backends/backend_agg.py:203: RuntimeWarning: Glyph 24314 missing from current font.\n",
      "  font.set_text(s, 0, flags=flags)\n",
      "/opt/conda/lib/python3.7/site-packages/matplotlib/backends/backend_agg.py:203: RuntimeWarning: Glyph 30005 missing from current font.\n",
      "  font.set_text(s, 0, flags=flags)\n",
      "/opt/conda/lib/python3.7/site-packages/matplotlib/backends/backend_agg.py:203: RuntimeWarning: Glyph 21147 missing from current font.\n",
      "  font.set_text(s, 0, flags=flags)\n",
      "/opt/conda/lib/python3.7/site-packages/matplotlib/backends/backend_agg.py:203: RuntimeWarning: Glyph 20844 missing from current font.\n",
      "  font.set_text(s, 0, flags=flags)\n",
      "/opt/conda/lib/python3.7/site-packages/matplotlib/backends/backend_agg.py:203: RuntimeWarning: Glyph 36335 missing from current font.\n",
      "  font.set_text(s, 0, flags=flags)\n",
      "/opt/conda/lib/python3.7/site-packages/matplotlib/backends/backend_agg.py:203: RuntimeWarning: Glyph 36890 missing from current font.\n",
      "  font.set_text(s, 0, flags=flags)\n",
      "/opt/conda/lib/python3.7/site-packages/matplotlib/backends/backend_agg.py:203: RuntimeWarning: Glyph 20449 missing from current font.\n",
      "  font.set_text(s, 0, flags=flags)\n",
      "/opt/conda/lib/python3.7/site-packages/matplotlib/backends/backend_agg.py:203: RuntimeWarning: Glyph 35013 missing from current font.\n",
      "  font.set_text(s, 0, flags=flags)\n",
      "/opt/conda/lib/python3.7/site-packages/matplotlib/backends/backend_agg.py:203: RuntimeWarning: Glyph 20462 missing from current font.\n",
      "  font.set_text(s, 0, flags=flags)\n",
      "/opt/conda/lib/python3.7/site-packages/matplotlib/backends/backend_agg.py:203: RuntimeWarning: Glyph 39280 missing from current font.\n",
      "  font.set_text(s, 0, flags=flags)\n",
      "/opt/conda/lib/python3.7/site-packages/matplotlib/backends/backend_agg.py:203: RuntimeWarning: Glyph 26426 missing from current font.\n",
      "  font.set_text(s, 0, flags=flags)\n",
      "/opt/conda/lib/python3.7/site-packages/matplotlib/backends/backend_agg.py:203: RuntimeWarning: Glyph 24037 missing from current font.\n",
      "  font.set_text(s, 0, flags=flags)\n",
      "/opt/conda/lib/python3.7/site-packages/matplotlib/backends/backend_agg.py:203: RuntimeWarning: Glyph 31243 missing from current font.\n",
      "  font.set_text(s, 0, flags=flags)\n",
      "/opt/conda/lib/python3.7/site-packages/matplotlib/backends/backend_agg.py:203: RuntimeWarning: Glyph 25968 missing from current font.\n",
      "  font.set_text(s, 0, flags=flags)\n",
      "/opt/conda/lib/python3.7/site-packages/matplotlib/backends/backend_agg.py:203: RuntimeWarning: Glyph 26080 missing from current font.\n",
      "  font.set_text(s, 0, flags=flags)\n",
      "/opt/conda/lib/python3.7/site-packages/matplotlib/backends/backend_agg.py:203: RuntimeWarning: Glyph 21435 missing from current font.\n",
      "  font.set_text(s, 0, flags=flags)\n",
      "/opt/conda/lib/python3.7/site-packages/matplotlib/backends/backend_agg.py:203: RuntimeWarning: Glyph 37325 missing from current font.\n",
      "  font.set_text(s, 0, flags=flags)\n"
     ]
    },
    {
     "data": {
      "image/png": "[encoded data removed]",
      "text/plain": [
       "<Figure size 432x288 with 1 Axes>"
      ]
     },
     "metadata": {
      "needs_background": "light"
     },
     "output_type": "display_data"
    }
   ],
   "source": [
    "xgb.plot_importance(best_estimator,max_num_features=20,importance_type='gain')"
   ]
  },
  {
   "cell_type": "code",
   "execution_count": 99,
   "id": "c98caa0a-5bd2-4073-bbb1-e985b2007187",
   "metadata": {
    "collapsed": true,
    "jupyter": {
     "outputs_hidden": true
    },
    "tags": []
   },
   "outputs": [
    {
     "data": {
      "text/plain": [
       "sum_amont_120         29.821554\n",
       "去重工程数_120_500         15.609653\n",
       "sum_amont_120_500     13.700606\n",
       "公路_15_工程数             10.904746\n",
       "sum_amont_60          10.535182\n",
       "sum_amont_30          10.005325\n",
       "房建_30_amount           9.923117\n",
       "电力_60_工程数              9.744719\n",
       "通信_60_amount           9.717239\n",
       "无_120_去重工程数            9.702913\n",
       "机电_15_工程数              9.583530\n",
       "公路_120_500             9.322762\n",
       "房建_60_amount           9.116334\n",
       "房建_120_500             9.032508\n",
       "装修装饰_15_amount_500     8.976188\n",
       "通信_120                 8.891342\n",
       "公路_15                  8.810570\n",
       "电力_30                  8.737871\n",
       "电力_15                  8.723000\n",
       "房建_60_amount_500       8.709589\n",
       "dtype: float64"
      ]
     },
     "execution_count": 99,
     "metadata": {},
     "output_type": "execute_result"
    }
   ],
   "source": [
    "weight = pd.Series(best_estimator.get_booster().get_score(importance_type='gain')).sort_values(ascending=False).head(20)\n",
    "weight"
   ]
  }
 ],
 "metadata": {
  "kernelspec": {
   "display_name": "Python 3 (ipykernel)",
   "language": "python",
   "name": "python3"
  },
  "language_info": {
   "codemirror_mode": {
    "name": "ipython",
    "version": 3
   },
   "file_extension": ".py",
   "mimetype": "text/x-python",
   "name": "python",
   "nbconvert_exporter": "python",
   "pygments_lexer": "ipython3",
   "version": "3.7.10"
  }
 },
 "nbformat": 4,
 "nbformat_minor": 5
}
