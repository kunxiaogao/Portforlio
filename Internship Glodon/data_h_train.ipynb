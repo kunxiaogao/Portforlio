{
 "cells": [
  {
   "cell_type": "code",
   "execution_count": 1,
   "id": "c9cf73f8-08da-477a-8439-a9e7e5f13886",
   "metadata": {},
   "outputs": [],
   "source": [
    "import pandas as pd\n",
    "import numpy as np\n",
    "import matplotlib.pyplot as plt\n",
    "import seaborn as sns\n",
    "import itertools\n",
    "import pickle\n",
    "import operator\n",
    "from pylab import *\n",
    "from sklearn.decomposition import PCA"
   ]
  },
  {
   "cell_type": "code",
   "execution_count": 3,
   "id": "4eb55274-08aa-48a9-8569-0d6dbbe2c328",
   "metadata": {},
   "outputs": [],
   "source": [
    "import sys\n",
    "sys.path.append(\"/opt/conda/lib/python3.7/site-packages\") ##添加xbg路径\n",
    "import woe.feature_process as fp\n",
    "import woe.eval as eval"
   ]
  },
  {
   "cell_type": "code",
   "execution_count": 5,
   "id": "c12912f1-efd3-4f69-9e36-2be39e54f8a0",
   "metadata": {},
   "outputs": [],
   "source": [
    "from time import time\n",
    "import scipy.stats as stats\n",
    "import gc\n",
    "\n",
    "#from bayes_opt import BayesianOptimization\n",
    "\n",
    "from sklearn.model_selection import cross_val_score, StratifiedKFold, StratifiedShuffleSplit, train_test_split, RandomizedSearchCV, PredefinedSplit\n",
    "from sklearn.metrics import log_loss, matthews_corrcoef, roc_auc_score\n",
    "from sklearn.preprocessing import MinMaxScaler\n",
    "import contextlib"
   ]
  },
  {
   "cell_type": "code",
   "execution_count": 7,
   "id": "573e23db-d9af-4be2-8ce5-1642c2bde3e6",
   "metadata": {},
   "outputs": [],
   "source": [
    "from sklearn.metrics import accuracy_score\n",
    "import xgboost as xgb\n",
    "from xgboost import XGBClassifier\n",
    "from sklearn import metrics\n",
    "from sklearn.metrics import plot_confusion_matrix\n",
    "from sklearn.metrics import roc_curve, RocCurveDisplay,auc\n",
    "from sklearn.metrics import precision_recall_curve, PrecisionRecallDisplay"
   ]
  },
  {
   "cell_type": "code",
   "execution_count": 9,
   "id": "7f729a17-1584-445a-88aa-509cb4ca7663",
   "metadata": {},
   "outputs": [],
   "source": [
    "import sys\n",
    "sys.path.append('/data/gtair/tools/DWH')\n",
    "from GlodonSparkSession3 import GlodonSparkSession\n",
    "import os\n",
    "from pyspark.sql import functions as F"
   ]
  },
  {
   "cell_type": "code",
   "execution_count": 10,
   "id": "45fdb883-e6d5-4171-bdb9-cf65dde7e8a2",
   "metadata": {},
   "outputs": [
    {
     "name": "stdout",
     "output_type": "stream",
     "text": [
      "===============>app_name: gaokx_low_257321614\n",
      "=====================>resource_lev: low\n"
     ]
    },
    {
     "name": "stderr",
     "output_type": "stream",
     "text": [
      "Warning: Ignoring non-Spark config property: yarn.executor.num\n",
      "Warning: Ignoring non-Spark config property: yarn.executor.cores\n",
      "23/08/03 01:22:14 WARN util.NativeCodeLoader: Unable to load native-hadoop library for your platform... using builtin-java classes where applicable\n",
      "Setting default log level to \"WARN\".\n",
      "To adjust logging level use sc.setLogLevel(newLevel). For SparkR, use setLogLevel(newLevel).\n",
      "23/08/03 01:22:15 WARN util.Utils: Service 'SparkUI' could not bind on port 4040. Attempting port 4041.\n",
      "23/08/03 01:22:15 WARN util.Utils: Service 'SparkUI' could not bind on port 4041. Attempting port 4042.\n",
      "23/08/03 01:22:16 WARN shortcircuit.DomainSocketFactory: The short-circuit local reads feature cannot be used because libhadoop cannot be loaded.\n",
      "23/08/03 01:22:17 WARN yarn.Client: Neither spark.yarn.jars nor spark.yarn.archive is set, falling back to uploading libraries under SPARK_HOME.\n",
      "23/08/03 01:22:26 WARN spark.ExecutorAllocationManager: Dynamic allocation without a shuffle service is an experimental feature.\n",
      "23/08/03 01:22:26 WARN cluster.YarnSchedulerBackend$YarnSchedulerEndpoint: Attempted to request executors before the AM has registered!\n"
     ]
    }
   ],
   "source": [
    "spark = GlodonSparkSession().getSparkSession()"
   ]
  },
  {
   "cell_type": "code",
   "execution_count": 6,
   "id": "7d3c290b-bee7-4511-932f-8ff5d328cadc",
   "metadata": {},
   "outputs": [],
   "source": [
    "#name = []\n",
    "#for i in range(0,40):\n",
    "#    if i < 10:\n",
    "#        string = \"data_721/part-0000\"+str(i)+\"-0225fca5-6f5a-427f-9f52-9c6180d510e3-c000.csv\"\n",
    "#    else:\n",
    "#        string = \"data_721/part-000\"+str(i)+\"-0225fca5-6f5a-427f-9f52-9c6180d510e3-c000.csv\"\n",
    "#    name.append(string)"
   ]
  },
  {
   "cell_type": "code",
   "execution_count": 8,
   "id": "7ffab57e-58fc-4c09-a4b4-9a47cbc4a666",
   "metadata": {},
   "outputs": [],
   "source": [
    "train = spark.read.option('header','true').csv(\"/tmp/base_ad20230724.csv\")"
   ]
  },
  {
   "cell_type": "code",
   "execution_count": 11,
   "id": "fc97459c-d962-49d7-8d39-e6160bed03a3",
   "metadata": {},
   "outputs": [],
   "source": [
    "values1 = train1.values.tolist()\n",
    "columns1 = train1.columns.tolist()\n",
    "train1 = spark.createDataFrame(values1, columns1)"
   ]
  },
  {
   "cell_type": "code",
   "execution_count": 13,
   "id": "3c79f9a9-f3ae-4a18-81d3-ff206620fad7",
   "metadata": {},
   "outputs": [
    {
     "name": "stderr",
     "output_type": "stream",
     "text": [
      "23/08/03 03:14:43 WARN scheduler.TaskSetManager: Stage 1 contains a task of very large size (229571 KiB). The maximum recommended task size is 1000 KiB.\n",
      "[Stage 0:>                  (0 + 1) / 2][Stage 1:>                  (0 + 1) / 1]\r"
     ]
    },
    {
     "ename": "Py4JJavaError",
     "evalue": "An error occurred while calling o257.showString.\n: org.apache.spark.SparkException: Job aborted due to stage failure: Serialized task 1:0 was 235084911 bytes, which exceeds max allowed: spark.rpc.message.maxSize (134217728 bytes). Consider increasing spark.rpc.message.maxSize or using broadcast variables for large values.\n\tat org.apache.spark.scheduler.DAGScheduler.failJobAndIndependentStages(DAGScheduler.scala:2303)\n\tat org.apache.spark.scheduler.DAGScheduler.$anonfun$abortStage$2(DAGScheduler.scala:2252)\n\tat org.apache.spark.scheduler.DAGScheduler.$anonfun$abortStage$2$adapted(DAGScheduler.scala:2251)\n\tat scala.collection.mutable.ResizableArray.foreach(ResizableArray.scala:62)\n\tat scala.collection.mutable.ResizableArray.foreach$(ResizableArray.scala:55)\n\tat scala.collection.mutable.ArrayBuffer.foreach(ArrayBuffer.scala:49)\n\tat org.apache.spark.scheduler.DAGScheduler.abortStage(DAGScheduler.scala:2251)\n\tat org.apache.spark.scheduler.DAGScheduler.$anonfun$handleTaskSetFailed$1(DAGScheduler.scala:1124)\n\tat org.apache.spark.scheduler.DAGScheduler.$anonfun$handleTaskSetFailed$1$adapted(DAGScheduler.scala:1124)\n\tat scala.Option.foreach(Option.scala:407)\n\tat org.apache.spark.scheduler.DAGScheduler.handleTaskSetFailed(DAGScheduler.scala:1124)\n\tat org.apache.spark.scheduler.DAGSchedulerEventProcessLoop.doOnReceive(DAGScheduler.scala:2490)\n\tat org.apache.spark.scheduler.DAGSchedulerEventProcessLoop.onReceive(DAGScheduler.scala:2432)\n\tat org.apache.spark.scheduler.DAGSchedulerEventProcessLoop.onReceive(DAGScheduler.scala:2421)\n\tat org.apache.spark.util.EventLoop$$anon$1.run(EventLoop.scala:49)\n\tat org.apache.spark.scheduler.DAGScheduler.runJob(DAGScheduler.scala:902)\n\tat org.apache.spark.SparkContext.runJob(SparkContext.scala:2196)\n\tat org.apache.spark.SparkContext.runJob(SparkContext.scala:2217)\n\tat org.apache.spark.SparkContext.runJob(SparkContext.scala:2236)\n\tat org.apache.spark.sql.execution.SparkPlan.executeTake(SparkPlan.scala:472)\n\tat org.apache.spark.sql.execution.SparkPlan.executeTake(SparkPlan.scala:425)\n\tat org.apache.spark.sql.execution.CollectLimitExec.executeCollect(limit.scala:47)\n\tat org.apache.spark.sql.Dataset.collectFromPlan(Dataset.scala:3709)\n\tat org.apache.spark.sql.Dataset.$anonfun$head$1(Dataset.scala:2735)\n\tat org.apache.spark.sql.Dataset.$anonfun$withAction$1(Dataset.scala:3700)\n\tat org.apache.spark.sql.execution.SQLExecution$.$anonfun$withNewExecutionId$5(SQLExecution.scala:103)\n\tat org.apache.spark.sql.execution.SQLExecution$.withSQLConfPropagated(SQLExecution.scala:163)\n\tat org.apache.spark.sql.execution.SQLExecution$.$anonfun$withNewExecutionId$1(SQLExecution.scala:90)\n\tat org.apache.spark.sql.SparkSession.withActive(SparkSession.scala:775)\n\tat org.apache.spark.sql.execution.SQLExecution$.withNewExecutionId(SQLExecution.scala:64)\n\tat org.apache.spark.sql.Dataset.withAction(Dataset.scala:3698)\n\tat org.apache.spark.sql.Dataset.head(Dataset.scala:2735)\n\tat org.apache.spark.sql.Dataset.take(Dataset.scala:2942)\n\tat org.apache.spark.sql.Dataset.getRows(Dataset.scala:302)\n\tat org.apache.spark.sql.Dataset.showString(Dataset.scala:339)\n\tat sun.reflect.NativeMethodAccessorImpl.invoke0(Native Method)\n\tat sun.reflect.NativeMethodAccessorImpl.invoke(NativeMethodAccessorImpl.java:62)\n\tat sun.reflect.DelegatingMethodAccessorImpl.invoke(DelegatingMethodAccessorImpl.java:43)\n\tat java.lang.reflect.Method.invoke(Method.java:498)\n\tat py4j.reflection.MethodInvoker.invoke(MethodInvoker.java:244)\n\tat py4j.reflection.ReflectionEngine.invoke(ReflectionEngine.java:357)\n\tat py4j.Gateway.invoke(Gateway.java:282)\n\tat py4j.commands.AbstractCommand.invokeMethod(AbstractCommand.java:132)\n\tat py4j.commands.CallCommand.execute(CallCommand.java:79)\n\tat py4j.GatewayConnection.run(GatewayConnection.java:238)\n\tat java.lang.Thread.run(Thread.java:748)\n",
     "output_type": "error",
     "traceback": [
      "\u001b[0;31m---------------------------------------------------------------------------\u001b[0m",
      "\u001b[0;31mPy4JJavaError\u001b[0m                             Traceback (most recent call last)",
      "\u001b[0;32m/tmp/ipykernel_19414/2662981769.py\u001b[0m in \u001b[0;36m<module>\u001b[0;34m\u001b[0m\n\u001b[0;32m----> 1\u001b[0;31m \u001b[0mtrain1\u001b[0m\u001b[0;34m.\u001b[0m\u001b[0mshow\u001b[0m\u001b[0;34m(\u001b[0m\u001b[0;34m)\u001b[0m\u001b[0;34m\u001b[0m\u001b[0;34m\u001b[0m\u001b[0m\n\u001b[0m",
      "\u001b[0;32m/usr/local/spark/python/pyspark/sql/dataframe.py\u001b[0m in \u001b[0;36mshow\u001b[0;34m(self, n, truncate, vertical)\u001b[0m\n\u001b[1;32m    482\u001b[0m         \"\"\"\n\u001b[1;32m    483\u001b[0m         \u001b[0;32mif\u001b[0m \u001b[0misinstance\u001b[0m\u001b[0;34m(\u001b[0m\u001b[0mtruncate\u001b[0m\u001b[0;34m,\u001b[0m \u001b[0mbool\u001b[0m\u001b[0;34m)\u001b[0m \u001b[0;32mand\u001b[0m \u001b[0mtruncate\u001b[0m\u001b[0;34m:\u001b[0m\u001b[0;34m\u001b[0m\u001b[0;34m\u001b[0m\u001b[0m\n\u001b[0;32m--> 484\u001b[0;31m             \u001b[0mprint\u001b[0m\u001b[0;34m(\u001b[0m\u001b[0mself\u001b[0m\u001b[0;34m.\u001b[0m\u001b[0m_jdf\u001b[0m\u001b[0;34m.\u001b[0m\u001b[0mshowString\u001b[0m\u001b[0;34m(\u001b[0m\u001b[0mn\u001b[0m\u001b[0;34m,\u001b[0m \u001b[0;36m20\u001b[0m\u001b[0;34m,\u001b[0m \u001b[0mvertical\u001b[0m\u001b[0;34m)\u001b[0m\u001b[0;34m)\u001b[0m\u001b[0;34m\u001b[0m\u001b[0;34m\u001b[0m\u001b[0m\n\u001b[0m\u001b[1;32m    485\u001b[0m         \u001b[0;32melse\u001b[0m\u001b[0;34m:\u001b[0m\u001b[0;34m\u001b[0m\u001b[0;34m\u001b[0m\u001b[0m\n\u001b[1;32m    486\u001b[0m             \u001b[0mprint\u001b[0m\u001b[0;34m(\u001b[0m\u001b[0mself\u001b[0m\u001b[0;34m.\u001b[0m\u001b[0m_jdf\u001b[0m\u001b[0;34m.\u001b[0m\u001b[0mshowString\u001b[0m\u001b[0;34m(\u001b[0m\u001b[0mn\u001b[0m\u001b[0;34m,\u001b[0m \u001b[0mint\u001b[0m\u001b[0;34m(\u001b[0m\u001b[0mtruncate\u001b[0m\u001b[0;34m)\u001b[0m\u001b[0;34m,\u001b[0m \u001b[0mvertical\u001b[0m\u001b[0;34m)\u001b[0m\u001b[0;34m)\u001b[0m\u001b[0;34m\u001b[0m\u001b[0;34m\u001b[0m\u001b[0m\n",
      "\u001b[0;32m/usr/local/spark/python/lib/py4j-0.10.9-src.zip/py4j/java_gateway.py\u001b[0m in \u001b[0;36m__call__\u001b[0;34m(self, *args)\u001b[0m\n\u001b[1;32m   1303\u001b[0m         \u001b[0manswer\u001b[0m \u001b[0;34m=\u001b[0m \u001b[0mself\u001b[0m\u001b[0;34m.\u001b[0m\u001b[0mgateway_client\u001b[0m\u001b[0;34m.\u001b[0m\u001b[0msend_command\u001b[0m\u001b[0;34m(\u001b[0m\u001b[0mcommand\u001b[0m\u001b[0;34m)\u001b[0m\u001b[0;34m\u001b[0m\u001b[0;34m\u001b[0m\u001b[0m\n\u001b[1;32m   1304\u001b[0m         return_value = get_return_value(\n\u001b[0;32m-> 1305\u001b[0;31m             answer, self.gateway_client, self.target_id, self.name)\n\u001b[0m\u001b[1;32m   1306\u001b[0m \u001b[0;34m\u001b[0m\u001b[0m\n\u001b[1;32m   1307\u001b[0m         \u001b[0;32mfor\u001b[0m \u001b[0mtemp_arg\u001b[0m \u001b[0;32min\u001b[0m \u001b[0mtemp_args\u001b[0m\u001b[0;34m:\u001b[0m\u001b[0;34m\u001b[0m\u001b[0;34m\u001b[0m\u001b[0m\n",
      "\u001b[0;32m/usr/local/spark/python/pyspark/sql/utils.py\u001b[0m in \u001b[0;36mdeco\u001b[0;34m(*a, **kw)\u001b[0m\n\u001b[1;32m    109\u001b[0m     \u001b[0;32mdef\u001b[0m \u001b[0mdeco\u001b[0m\u001b[0;34m(\u001b[0m\u001b[0;34m*\u001b[0m\u001b[0ma\u001b[0m\u001b[0;34m,\u001b[0m \u001b[0;34m**\u001b[0m\u001b[0mkw\u001b[0m\u001b[0;34m)\u001b[0m\u001b[0;34m:\u001b[0m\u001b[0;34m\u001b[0m\u001b[0;34m\u001b[0m\u001b[0m\n\u001b[1;32m    110\u001b[0m         \u001b[0;32mtry\u001b[0m\u001b[0;34m:\u001b[0m\u001b[0;34m\u001b[0m\u001b[0;34m\u001b[0m\u001b[0m\n\u001b[0;32m--> 111\u001b[0;31m             \u001b[0;32mreturn\u001b[0m \u001b[0mf\u001b[0m\u001b[0;34m(\u001b[0m\u001b[0;34m*\u001b[0m\u001b[0ma\u001b[0m\u001b[0;34m,\u001b[0m \u001b[0;34m**\u001b[0m\u001b[0mkw\u001b[0m\u001b[0;34m)\u001b[0m\u001b[0;34m\u001b[0m\u001b[0;34m\u001b[0m\u001b[0m\n\u001b[0m\u001b[1;32m    112\u001b[0m         \u001b[0;32mexcept\u001b[0m \u001b[0mpy4j\u001b[0m\u001b[0;34m.\u001b[0m\u001b[0mprotocol\u001b[0m\u001b[0;34m.\u001b[0m\u001b[0mPy4JJavaError\u001b[0m \u001b[0;32mas\u001b[0m \u001b[0me\u001b[0m\u001b[0;34m:\u001b[0m\u001b[0;34m\u001b[0m\u001b[0;34m\u001b[0m\u001b[0m\n\u001b[1;32m    113\u001b[0m             \u001b[0mconverted\u001b[0m \u001b[0;34m=\u001b[0m \u001b[0mconvert_exception\u001b[0m\u001b[0;34m(\u001b[0m\u001b[0me\u001b[0m\u001b[0;34m.\u001b[0m\u001b[0mjava_exception\u001b[0m\u001b[0;34m)\u001b[0m\u001b[0;34m\u001b[0m\u001b[0;34m\u001b[0m\u001b[0m\n",
      "\u001b[0;32m/usr/local/spark/python/lib/py4j-0.10.9-src.zip/py4j/protocol.py\u001b[0m in \u001b[0;36mget_return_value\u001b[0;34m(answer, gateway_client, target_id, name)\u001b[0m\n\u001b[1;32m    326\u001b[0m                 raise Py4JJavaError(\n\u001b[1;32m    327\u001b[0m                     \u001b[0;34m\"An error occurred while calling {0}{1}{2}.\\n\"\u001b[0m\u001b[0;34m.\u001b[0m\u001b[0;34m\u001b[0m\u001b[0;34m\u001b[0m\u001b[0m\n\u001b[0;32m--> 328\u001b[0;31m                     format(target_id, \".\", name), value)\n\u001b[0m\u001b[1;32m    329\u001b[0m             \u001b[0;32melse\u001b[0m\u001b[0;34m:\u001b[0m\u001b[0;34m\u001b[0m\u001b[0;34m\u001b[0m\u001b[0m\n\u001b[1;32m    330\u001b[0m                 raise Py4JError(\n",
      "\u001b[0;31mPy4JJavaError\u001b[0m: An error occurred while calling o257.showString.\n: org.apache.spark.SparkException: Job aborted due to stage failure: Serialized task 1:0 was 235084911 bytes, which exceeds max allowed: spark.rpc.message.maxSize (134217728 bytes). Consider increasing spark.rpc.message.maxSize or using broadcast variables for large values.\n\tat org.apache.spark.scheduler.DAGScheduler.failJobAndIndependentStages(DAGScheduler.scala:2303)\n\tat org.apache.spark.scheduler.DAGScheduler.$anonfun$abortStage$2(DAGScheduler.scala:2252)\n\tat org.apache.spark.scheduler.DAGScheduler.$anonfun$abortStage$2$adapted(DAGScheduler.scala:2251)\n\tat scala.collection.mutable.ResizableArray.foreach(ResizableArray.scala:62)\n\tat scala.collection.mutable.ResizableArray.foreach$(ResizableArray.scala:55)\n\tat scala.collection.mutable.ArrayBuffer.foreach(ArrayBuffer.scala:49)\n\tat org.apache.spark.scheduler.DAGScheduler.abortStage(DAGScheduler.scala:2251)\n\tat org.apache.spark.scheduler.DAGScheduler.$anonfun$handleTaskSetFailed$1(DAGScheduler.scala:1124)\n\tat org.apache.spark.scheduler.DAGScheduler.$anonfun$handleTaskSetFailed$1$adapted(DAGScheduler.scala:1124)\n\tat scala.Option.foreach(Option.scala:407)\n\tat org.apache.spark.scheduler.DAGScheduler.handleTaskSetFailed(DAGScheduler.scala:1124)\n\tat org.apache.spark.scheduler.DAGSchedulerEventProcessLoop.doOnReceive(DAGScheduler.scala:2490)\n\tat org.apache.spark.scheduler.DAGSchedulerEventProcessLoop.onReceive(DAGScheduler.scala:2432)\n\tat org.apache.spark.scheduler.DAGSchedulerEventProcessLoop.onReceive(DAGScheduler.scala:2421)\n\tat org.apache.spark.util.EventLoop$$anon$1.run(EventLoop.scala:49)\n\tat org.apache.spark.scheduler.DAGScheduler.runJob(DAGScheduler.scala:902)\n\tat org.apache.spark.SparkContext.runJob(SparkContext.scala:2196)\n\tat org.apache.spark.SparkContext.runJob(SparkContext.scala:2217)\n\tat org.apache.spark.SparkContext.runJob(SparkContext.scala:2236)\n\tat org.apache.spark.sql.execution.SparkPlan.executeTake(SparkPlan.scala:472)\n\tat org.apache.spark.sql.execution.SparkPlan.executeTake(SparkPlan.scala:425)\n\tat org.apache.spark.sql.execution.CollectLimitExec.executeCollect(limit.scala:47)\n\tat org.apache.spark.sql.Dataset.collectFromPlan(Dataset.scala:3709)\n\tat org.apache.spark.sql.Dataset.$anonfun$head$1(Dataset.scala:2735)\n\tat org.apache.spark.sql.Dataset.$anonfun$withAction$1(Dataset.scala:3700)\n\tat org.apache.spark.sql.execution.SQLExecution$.$anonfun$withNewExecutionId$5(SQLExecution.scala:103)\n\tat org.apache.spark.sql.execution.SQLExecution$.withSQLConfPropagated(SQLExecution.scala:163)\n\tat org.apache.spark.sql.execution.SQLExecution$.$anonfun$withNewExecutionId$1(SQLExecution.scala:90)\n\tat org.apache.spark.sql.SparkSession.withActive(SparkSession.scala:775)\n\tat org.apache.spark.sql.execution.SQLExecution$.withNewExecutionId(SQLExecution.scala:64)\n\tat org.apache.spark.sql.Dataset.withAction(Dataset.scala:3698)\n\tat org.apache.spark.sql.Dataset.head(Dataset.scala:2735)\n\tat org.apache.spark.sql.Dataset.take(Dataset.scala:2942)\n\tat org.apache.spark.sql.Dataset.getRows(Dataset.scala:302)\n\tat org.apache.spark.sql.Dataset.showString(Dataset.scala:339)\n\tat sun.reflect.NativeMethodAccessorImpl.invoke0(Native Method)\n\tat sun.reflect.NativeMethodAccessorImpl.invoke(NativeMethodAccessorImpl.java:62)\n\tat sun.reflect.DelegatingMethodAccessorImpl.invoke(DelegatingMethodAccessorImpl.java:43)\n\tat java.lang.reflect.Method.invoke(Method.java:498)\n\tat py4j.reflection.MethodInvoker.invoke(MethodInvoker.java:244)\n\tat py4j.reflection.ReflectionEngine.invoke(ReflectionEngine.java:357)\n\tat py4j.Gateway.invoke(Gateway.java:282)\n\tat py4j.commands.AbstractCommand.invokeMethod(AbstractCommand.java:132)\n\tat py4j.commands.CallCommand.execute(CallCommand.java:79)\n\tat py4j.GatewayConnection.run(GatewayConnection.java:238)\n\tat java.lang.Thread.run(Thread.java:748)\n"
     ]
    },
    {
     "name": "stderr",
     "output_type": "stream",
     "text": [
      "[Stage 0:>                  (0 + 1) / 2][Stage 1:>                  (0 + 1) / 1]\r"
     ]
    }
   ],
   "source": [
    "train1.show()"
   ]
  },
  {
   "cell_type": "code",
   "execution_count": 5,
   "id": "d514836a-be0c-48b0-a008-73e8485e2d2f",
   "metadata": {},
   "outputs": [],
   "source": [
    "train = pd.concat(\n",
    "    map(pd.read_csv, ['data_h_gk/data_h_2023-01-01.csv','data_h_gk/data_h_2023-02-01.csv','data_h_gk/data_h_2023-03-01.csv']), ignore_index=True)"
   ]
  },
  {
   "cell_type": "code",
   "execution_count": 8,
   "id": "5e3af7a7-5171-4c71-9c23-1d7d23989a63",
   "metadata": {},
   "outputs": [],
   "source": [
    "#df['date_wid'] = pd.to_datetime(df['date_wid'])"
   ]
  },
  {
   "cell_type": "code",
   "execution_count": 12,
   "id": "45b1e296-6d74-4dbe-8973-316b6c3dc40e",
   "metadata": {},
   "outputs": [
    {
     "data": {
      "text/html": [
       "<div>\n",
       "<style scoped>\n",
       "    .dataframe tbody tr th:only-of-type {\n",
       "        vertical-align: middle;\n",
       "    }\n",
       "\n",
       "    .dataframe tbody tr th {\n",
       "        vertical-align: top;\n",
       "    }\n",
       "\n",
       "    .dataframe thead th {\n",
       "        text-align: right;\n",
       "    }\n",
       "</style>\n",
       "<table border=\"1\" class=\"dataframe\">\n",
       "  <thead>\n",
       "    <tr style=\"text-align: right;\">\n",
       "      <th></th>\n",
       "      <th>customer_wid</th>\n",
       "      <th>date_wid</th>\n",
       "      <th>ent_level_woe</th>\n",
       "      <th>lastbuy_date_diff_woe</th>\n",
       "      <th>cir_day_woe</th>\n",
       "      <th>register_count_pv_60_pv_woe</th>\n",
       "      <th>register_count_pv_15_uv_woe</th>\n",
       "      <th>register_count_pv_60_uv_woe</th>\n",
       "      <th>register_count_30_pv_woe</th>\n",
       "      <th>register_count_120_uv_woe</th>\n",
       "      <th>...</th>\n",
       "      <th>zps_endtrial_120_pv</th>\n",
       "      <th>zps_endtrial_15_uv</th>\n",
       "      <th>zps_endtrial_30_uv</th>\n",
       "      <th>zps_endtrial_60_uv</th>\n",
       "      <th>zps_endtrial_120_uv</th>\n",
       "      <th>lock_cnt_gtj</th>\n",
       "      <th>jkzh_ab</th>\n",
       "      <th>sgd_ab</th>\n",
       "      <th>zps_ab</th>\n",
       "      <th>jkzh_gjg</th>\n",
       "    </tr>\n",
       "  </thead>\n",
       "  <tbody>\n",
       "    <tr>\n",
       "      <th>0</th>\n",
       "      <td>248035043</td>\n",
       "      <td>2023-01-01</td>\n",
       "      <td>NaN</td>\n",
       "      <td>NaN</td>\n",
       "      <td>NaN</td>\n",
       "      <td>NaN</td>\n",
       "      <td>NaN</td>\n",
       "      <td>NaN</td>\n",
       "      <td>NaN</td>\n",
       "      <td>NaN</td>\n",
       "      <td>...</td>\n",
       "      <td>0.0</td>\n",
       "      <td>0.0</td>\n",
       "      <td>0.0</td>\n",
       "      <td>0.0</td>\n",
       "      <td>0.0</td>\n",
       "      <td>6.0</td>\n",
       "      <td>0.0</td>\n",
       "      <td>0.0</td>\n",
       "      <td>4.0</td>\n",
       "      <td>0.0</td>\n",
       "    </tr>\n",
       "    <tr>\n",
       "      <th>1</th>\n",
       "      <td>23567401</td>\n",
       "      <td>2023-01-01</td>\n",
       "      <td>NaN</td>\n",
       "      <td>NaN</td>\n",
       "      <td>NaN</td>\n",
       "      <td>NaN</td>\n",
       "      <td>NaN</td>\n",
       "      <td>NaN</td>\n",
       "      <td>NaN</td>\n",
       "      <td>NaN</td>\n",
       "      <td>...</td>\n",
       "      <td>0.0</td>\n",
       "      <td>0.0</td>\n",
       "      <td>0.0</td>\n",
       "      <td>0.0</td>\n",
       "      <td>0.0</td>\n",
       "      <td>2.0</td>\n",
       "      <td>0.0</td>\n",
       "      <td>1.0</td>\n",
       "      <td>1.0</td>\n",
       "      <td>0.0</td>\n",
       "    </tr>\n",
       "    <tr>\n",
       "      <th>2</th>\n",
       "      <td>23321049</td>\n",
       "      <td>2023-01-01</td>\n",
       "      <td>NaN</td>\n",
       "      <td>NaN</td>\n",
       "      <td>NaN</td>\n",
       "      <td>NaN</td>\n",
       "      <td>NaN</td>\n",
       "      <td>NaN</td>\n",
       "      <td>NaN</td>\n",
       "      <td>NaN</td>\n",
       "      <td>...</td>\n",
       "      <td>0.0</td>\n",
       "      <td>0.0</td>\n",
       "      <td>0.0</td>\n",
       "      <td>0.0</td>\n",
       "      <td>0.0</td>\n",
       "      <td>4.0</td>\n",
       "      <td>0.0</td>\n",
       "      <td>0.0</td>\n",
       "      <td>1.0</td>\n",
       "      <td>0.0</td>\n",
       "    </tr>\n",
       "    <tr>\n",
       "      <th>3</th>\n",
       "      <td>23629966</td>\n",
       "      <td>2023-01-01</td>\n",
       "      <td>NaN</td>\n",
       "      <td>NaN</td>\n",
       "      <td>NaN</td>\n",
       "      <td>NaN</td>\n",
       "      <td>NaN</td>\n",
       "      <td>NaN</td>\n",
       "      <td>NaN</td>\n",
       "      <td>NaN</td>\n",
       "      <td>...</td>\n",
       "      <td>0.0</td>\n",
       "      <td>0.0</td>\n",
       "      <td>0.0</td>\n",
       "      <td>0.0</td>\n",
       "      <td>0.0</td>\n",
       "      <td>13.0</td>\n",
       "      <td>3.0</td>\n",
       "      <td>12.0</td>\n",
       "      <td>12.0</td>\n",
       "      <td>0.0</td>\n",
       "    </tr>\n",
       "    <tr>\n",
       "      <th>4</th>\n",
       "      <td>23840031</td>\n",
       "      <td>2023-01-01</td>\n",
       "      <td>NaN</td>\n",
       "      <td>NaN</td>\n",
       "      <td>NaN</td>\n",
       "      <td>NaN</td>\n",
       "      <td>NaN</td>\n",
       "      <td>NaN</td>\n",
       "      <td>NaN</td>\n",
       "      <td>NaN</td>\n",
       "      <td>...</td>\n",
       "      <td>NaN</td>\n",
       "      <td>NaN</td>\n",
       "      <td>NaN</td>\n",
       "      <td>NaN</td>\n",
       "      <td>NaN</td>\n",
       "      <td>NaN</td>\n",
       "      <td>NaN</td>\n",
       "      <td>NaN</td>\n",
       "      <td>NaN</td>\n",
       "      <td>NaN</td>\n",
       "    </tr>\n",
       "    <tr>\n",
       "      <th>...</th>\n",
       "      <td>...</td>\n",
       "      <td>...</td>\n",
       "      <td>...</td>\n",
       "      <td>...</td>\n",
       "      <td>...</td>\n",
       "      <td>...</td>\n",
       "      <td>...</td>\n",
       "      <td>...</td>\n",
       "      <td>...</td>\n",
       "      <td>...</td>\n",
       "      <td>...</td>\n",
       "      <td>...</td>\n",
       "      <td>...</td>\n",
       "      <td>...</td>\n",
       "      <td>...</td>\n",
       "      <td>...</td>\n",
       "      <td>...</td>\n",
       "      <td>...</td>\n",
       "      <td>...</td>\n",
       "      <td>...</td>\n",
       "      <td>...</td>\n",
       "    </tr>\n",
       "    <tr>\n",
       "      <th>262482</th>\n",
       "      <td>531638500</td>\n",
       "      <td>2023-03-01</td>\n",
       "      <td>NaN</td>\n",
       "      <td>NaN</td>\n",
       "      <td>NaN</td>\n",
       "      <td>NaN</td>\n",
       "      <td>NaN</td>\n",
       "      <td>NaN</td>\n",
       "      <td>NaN</td>\n",
       "      <td>NaN</td>\n",
       "      <td>...</td>\n",
       "      <td>0.0</td>\n",
       "      <td>0.0</td>\n",
       "      <td>0.0</td>\n",
       "      <td>0.0</td>\n",
       "      <td>0.0</td>\n",
       "      <td>2.0</td>\n",
       "      <td>0.0</td>\n",
       "      <td>1.0</td>\n",
       "      <td>1.0</td>\n",
       "      <td>0.0</td>\n",
       "    </tr>\n",
       "    <tr>\n",
       "      <th>262483</th>\n",
       "      <td>23166237</td>\n",
       "      <td>2023-03-01</td>\n",
       "      <td>NaN</td>\n",
       "      <td>NaN</td>\n",
       "      <td>NaN</td>\n",
       "      <td>NaN</td>\n",
       "      <td>NaN</td>\n",
       "      <td>NaN</td>\n",
       "      <td>NaN</td>\n",
       "      <td>NaN</td>\n",
       "      <td>...</td>\n",
       "      <td>0.0</td>\n",
       "      <td>0.0</td>\n",
       "      <td>0.0</td>\n",
       "      <td>0.0</td>\n",
       "      <td>0.0</td>\n",
       "      <td>26.0</td>\n",
       "      <td>0.0</td>\n",
       "      <td>17.0</td>\n",
       "      <td>14.0</td>\n",
       "      <td>0.0</td>\n",
       "    </tr>\n",
       "    <tr>\n",
       "      <th>262484</th>\n",
       "      <td>23361626</td>\n",
       "      <td>2023-03-01</td>\n",
       "      <td>NaN</td>\n",
       "      <td>NaN</td>\n",
       "      <td>NaN</td>\n",
       "      <td>NaN</td>\n",
       "      <td>NaN</td>\n",
       "      <td>NaN</td>\n",
       "      <td>NaN</td>\n",
       "      <td>NaN</td>\n",
       "      <td>...</td>\n",
       "      <td>0.0</td>\n",
       "      <td>0.0</td>\n",
       "      <td>0.0</td>\n",
       "      <td>0.0</td>\n",
       "      <td>0.0</td>\n",
       "      <td>3.0</td>\n",
       "      <td>0.0</td>\n",
       "      <td>1.0</td>\n",
       "      <td>1.0</td>\n",
       "      <td>0.0</td>\n",
       "    </tr>\n",
       "    <tr>\n",
       "      <th>262485</th>\n",
       "      <td>649617101</td>\n",
       "      <td>2023-03-01</td>\n",
       "      <td>NaN</td>\n",
       "      <td>NaN</td>\n",
       "      <td>NaN</td>\n",
       "      <td>NaN</td>\n",
       "      <td>NaN</td>\n",
       "      <td>NaN</td>\n",
       "      <td>NaN</td>\n",
       "      <td>NaN</td>\n",
       "      <td>...</td>\n",
       "      <td>0.0</td>\n",
       "      <td>0.0</td>\n",
       "      <td>0.0</td>\n",
       "      <td>0.0</td>\n",
       "      <td>0.0</td>\n",
       "      <td>2.0</td>\n",
       "      <td>0.0</td>\n",
       "      <td>1.0</td>\n",
       "      <td>1.0</td>\n",
       "      <td>0.0</td>\n",
       "    </tr>\n",
       "    <tr>\n",
       "      <th>262486</th>\n",
       "      <td>34678809</td>\n",
       "      <td>2023-03-01</td>\n",
       "      <td>NaN</td>\n",
       "      <td>NaN</td>\n",
       "      <td>NaN</td>\n",
       "      <td>NaN</td>\n",
       "      <td>NaN</td>\n",
       "      <td>NaN</td>\n",
       "      <td>NaN</td>\n",
       "      <td>NaN</td>\n",
       "      <td>...</td>\n",
       "      <td>NaN</td>\n",
       "      <td>NaN</td>\n",
       "      <td>NaN</td>\n",
       "      <td>NaN</td>\n",
       "      <td>NaN</td>\n",
       "      <td>NaN</td>\n",
       "      <td>NaN</td>\n",
       "      <td>NaN</td>\n",
       "      <td>NaN</td>\n",
       "      <td>NaN</td>\n",
       "    </tr>\n",
       "  </tbody>\n",
       "</table>\n",
       "<p>262487 rows × 657 columns</p>\n",
       "</div>"
      ],
      "text/plain": [
       "        customer_wid    date_wid  ent_level_woe  lastbuy_date_diff_woe  \\\n",
       "0          248035043  2023-01-01            NaN                    NaN   \n",
       "1           23567401  2023-01-01            NaN                    NaN   \n",
       "2           23321049  2023-01-01            NaN                    NaN   \n",
       "3           23629966  2023-01-01            NaN                    NaN   \n",
       "4           23840031  2023-01-01            NaN                    NaN   \n",
       "...              ...         ...            ...                    ...   \n",
       "262482     531638500  2023-03-01            NaN                    NaN   \n",
       "262483      23166237  2023-03-01            NaN                    NaN   \n",
       "262484      23361626  2023-03-01            NaN                    NaN   \n",
       "262485     649617101  2023-03-01            NaN                    NaN   \n",
       "262486      34678809  2023-03-01            NaN                    NaN   \n",
       "\n",
       "        cir_day_woe  register_count_pv_60_pv_woe  register_count_pv_15_uv_woe  \\\n",
       "0               NaN                          NaN                          NaN   \n",
       "1               NaN                          NaN                          NaN   \n",
       "2               NaN                          NaN                          NaN   \n",
       "3               NaN                          NaN                          NaN   \n",
       "4               NaN                          NaN                          NaN   \n",
       "...             ...                          ...                          ...   \n",
       "262482          NaN                          NaN                          NaN   \n",
       "262483          NaN                          NaN                          NaN   \n",
       "262484          NaN                          NaN                          NaN   \n",
       "262485          NaN                          NaN                          NaN   \n",
       "262486          NaN                          NaN                          NaN   \n",
       "\n",
       "        register_count_pv_60_uv_woe  register_count_30_pv_woe  \\\n",
       "0                               NaN                       NaN   \n",
       "1                               NaN                       NaN   \n",
       "2                               NaN                       NaN   \n",
       "3                               NaN                       NaN   \n",
       "4                               NaN                       NaN   \n",
       "...                             ...                       ...   \n",
       "262482                          NaN                       NaN   \n",
       "262483                          NaN                       NaN   \n",
       "262484                          NaN                       NaN   \n",
       "262485                          NaN                       NaN   \n",
       "262486                          NaN                       NaN   \n",
       "\n",
       "        register_count_120_uv_woe  ...  zps_endtrial_120_pv  \\\n",
       "0                             NaN  ...                  0.0   \n",
       "1                             NaN  ...                  0.0   \n",
       "2                             NaN  ...                  0.0   \n",
       "3                             NaN  ...                  0.0   \n",
       "4                             NaN  ...                  NaN   \n",
       "...                           ...  ...                  ...   \n",
       "262482                        NaN  ...                  0.0   \n",
       "262483                        NaN  ...                  0.0   \n",
       "262484                        NaN  ...                  0.0   \n",
       "262485                        NaN  ...                  0.0   \n",
       "262486                        NaN  ...                  NaN   \n",
       "\n",
       "        zps_endtrial_15_uv  zps_endtrial_30_uv  zps_endtrial_60_uv  \\\n",
       "0                      0.0                 0.0                 0.0   \n",
       "1                      0.0                 0.0                 0.0   \n",
       "2                      0.0                 0.0                 0.0   \n",
       "3                      0.0                 0.0                 0.0   \n",
       "4                      NaN                 NaN                 NaN   \n",
       "...                    ...                 ...                 ...   \n",
       "262482                 0.0                 0.0                 0.0   \n",
       "262483                 0.0                 0.0                 0.0   \n",
       "262484                 0.0                 0.0                 0.0   \n",
       "262485                 0.0                 0.0                 0.0   \n",
       "262486                 NaN                 NaN                 NaN   \n",
       "\n",
       "        zps_endtrial_120_uv  lock_cnt_gtj  jkzh_ab  sgd_ab  zps_ab  jkzh_gjg  \n",
       "0                       0.0           6.0      0.0     0.0     4.0       0.0  \n",
       "1                       0.0           2.0      0.0     1.0     1.0       0.0  \n",
       "2                       0.0           4.0      0.0     0.0     1.0       0.0  \n",
       "3                       0.0          13.0      3.0    12.0    12.0       0.0  \n",
       "4                       NaN           NaN      NaN     NaN     NaN       NaN  \n",
       "...                     ...           ...      ...     ...     ...       ...  \n",
       "262482                  0.0           2.0      0.0     1.0     1.0       0.0  \n",
       "262483                  0.0          26.0      0.0    17.0    14.0       0.0  \n",
       "262484                  0.0           3.0      0.0     1.0     1.0       0.0  \n",
       "262485                  0.0           2.0      0.0     1.0     1.0       0.0  \n",
       "262486                  NaN           NaN      NaN     NaN     NaN       NaN  \n",
       "\n",
       "[262487 rows x 657 columns]"
      ]
     },
     "execution_count": 12,
     "metadata": {},
     "output_type": "execute_result"
    }
   ],
   "source": [
    "train"
   ]
  },
  {
   "cell_type": "code",
   "execution_count": 6,
   "id": "0b198a12-58df-43d4-93eb-f3c7ed75ab8c",
   "metadata": {},
   "outputs": [],
   "source": [
    "train.rename(columns={\"flag\": \"target\"}, inplace=True)"
   ]
  },
  {
   "cell_type": "code",
   "execution_count": 27,
   "id": "18f32791-8fbc-4e21-a963-7bc3d8915b5b",
   "metadata": {},
   "outputs": [
    {
     "data": {
      "text/plain": [
       "0.04048331545367286"
      ]
     },
     "execution_count": 27,
     "metadata": {},
     "output_type": "execute_result"
    }
   ],
   "source": [
    "sum(train['target']==1)/len(train)"
   ]
  },
  {
   "cell_type": "code",
   "execution_count": 17,
   "id": "9679e290-5ceb-4038-9828-33fc14f9b1ab",
   "metadata": {},
   "outputs": [],
   "source": [
    "#p1 = np.array([True]*100000 + [False]*162487)\n",
    "#p2 = np.array(list(train2['target']==1))\n",
    "#p3 = p1 | p2"
   ]
  },
  {
   "cell_type": "code",
   "execution_count": 122,
   "id": "8118828e-f999-4285-96b6-3ccc6c1f140f",
   "metadata": {},
   "outputs": [
    {
     "data": {
      "text/plain": [
       "0.05178806221200886"
      ]
     },
     "execution_count": 122,
     "metadata": {},
     "output_type": "execute_result"
    }
   ],
   "source": [
    "sum(test2['target']==1)/len(test2)"
   ]
  },
  {
   "cell_type": "code",
   "execution_count": 7,
   "id": "43617d56-8cf3-499b-a954-ad07c9bed0b4",
   "metadata": {},
   "outputs": [],
   "source": [
    "from time import time\n",
    "import scipy.stats as stats"
   ]
  },
  {
   "cell_type": "code",
   "execution_count": 8,
   "id": "0964159f-ad99-4bc4-96a8-630674b8a51e",
   "metadata": {},
   "outputs": [],
   "source": [
    "X_train=train.drop(['target','customer_wid','date_wid'],axis=1)\n",
    "Y_train=train['target']"
   ]
  },
  {
   "cell_type": "code",
   "execution_count": 9,
   "id": "edb43a99-46e2-4769-9d94-afed803a3e89",
   "metadata": {},
   "outputs": [
    {
     "data": {
      "text/html": [
       "<div>\n",
       "<style scoped>\n",
       "    .dataframe tbody tr th:only-of-type {\n",
       "        vertical-align: middle;\n",
       "    }\n",
       "\n",
       "    .dataframe tbody tr th {\n",
       "        vertical-align: top;\n",
       "    }\n",
       "\n",
       "    .dataframe thead th {\n",
       "        text-align: right;\n",
       "    }\n",
       "</style>\n",
       "<table border=\"1\" class=\"dataframe\">\n",
       "  <thead>\n",
       "    <tr style=\"text-align: right;\">\n",
       "      <th></th>\n",
       "      <th>ent_level_woe</th>\n",
       "      <th>lastbuy_date_diff_woe</th>\n",
       "      <th>cir_day_woe</th>\n",
       "      <th>register_count_pv_60_pv_woe</th>\n",
       "      <th>register_count_pv_15_uv_woe</th>\n",
       "      <th>register_count_pv_60_uv_woe</th>\n",
       "      <th>register_count_30_pv_woe</th>\n",
       "      <th>register_count_120_uv_woe</th>\n",
       "      <th>signup_count_15_uv_woe</th>\n",
       "      <th>signup_count_120_uv_woe</th>\n",
       "      <th>...</th>\n",
       "      <th>zps_endtrial_120_pv</th>\n",
       "      <th>zps_endtrial_15_uv</th>\n",
       "      <th>zps_endtrial_30_uv</th>\n",
       "      <th>zps_endtrial_60_uv</th>\n",
       "      <th>zps_endtrial_120_uv</th>\n",
       "      <th>lock_cnt_gtj</th>\n",
       "      <th>jkzh_ab</th>\n",
       "      <th>sgd_ab</th>\n",
       "      <th>zps_ab</th>\n",
       "      <th>jkzh_gjg</th>\n",
       "    </tr>\n",
       "  </thead>\n",
       "  <tbody>\n",
       "    <tr>\n",
       "      <th>0</th>\n",
       "      <td>NaN</td>\n",
       "      <td>NaN</td>\n",
       "      <td>NaN</td>\n",
       "      <td>NaN</td>\n",
       "      <td>NaN</td>\n",
       "      <td>NaN</td>\n",
       "      <td>NaN</td>\n",
       "      <td>NaN</td>\n",
       "      <td>NaN</td>\n",
       "      <td>NaN</td>\n",
       "      <td>...</td>\n",
       "      <td>0.0</td>\n",
       "      <td>0.0</td>\n",
       "      <td>0.0</td>\n",
       "      <td>0.0</td>\n",
       "      <td>0.0</td>\n",
       "      <td>6.0</td>\n",
       "      <td>0.0</td>\n",
       "      <td>0.0</td>\n",
       "      <td>4.0</td>\n",
       "      <td>0.0</td>\n",
       "    </tr>\n",
       "    <tr>\n",
       "      <th>1</th>\n",
       "      <td>NaN</td>\n",
       "      <td>NaN</td>\n",
       "      <td>NaN</td>\n",
       "      <td>NaN</td>\n",
       "      <td>NaN</td>\n",
       "      <td>NaN</td>\n",
       "      <td>NaN</td>\n",
       "      <td>NaN</td>\n",
       "      <td>NaN</td>\n",
       "      <td>NaN</td>\n",
       "      <td>...</td>\n",
       "      <td>0.0</td>\n",
       "      <td>0.0</td>\n",
       "      <td>0.0</td>\n",
       "      <td>0.0</td>\n",
       "      <td>0.0</td>\n",
       "      <td>2.0</td>\n",
       "      <td>0.0</td>\n",
       "      <td>1.0</td>\n",
       "      <td>1.0</td>\n",
       "      <td>0.0</td>\n",
       "    </tr>\n",
       "    <tr>\n",
       "      <th>2</th>\n",
       "      <td>NaN</td>\n",
       "      <td>NaN</td>\n",
       "      <td>NaN</td>\n",
       "      <td>NaN</td>\n",
       "      <td>NaN</td>\n",
       "      <td>NaN</td>\n",
       "      <td>NaN</td>\n",
       "      <td>NaN</td>\n",
       "      <td>NaN</td>\n",
       "      <td>NaN</td>\n",
       "      <td>...</td>\n",
       "      <td>0.0</td>\n",
       "      <td>0.0</td>\n",
       "      <td>0.0</td>\n",
       "      <td>0.0</td>\n",
       "      <td>0.0</td>\n",
       "      <td>4.0</td>\n",
       "      <td>0.0</td>\n",
       "      <td>0.0</td>\n",
       "      <td>1.0</td>\n",
       "      <td>0.0</td>\n",
       "    </tr>\n",
       "    <tr>\n",
       "      <th>3</th>\n",
       "      <td>NaN</td>\n",
       "      <td>NaN</td>\n",
       "      <td>NaN</td>\n",
       "      <td>NaN</td>\n",
       "      <td>NaN</td>\n",
       "      <td>NaN</td>\n",
       "      <td>NaN</td>\n",
       "      <td>NaN</td>\n",
       "      <td>NaN</td>\n",
       "      <td>NaN</td>\n",
       "      <td>...</td>\n",
       "      <td>0.0</td>\n",
       "      <td>0.0</td>\n",
       "      <td>0.0</td>\n",
       "      <td>0.0</td>\n",
       "      <td>0.0</td>\n",
       "      <td>13.0</td>\n",
       "      <td>3.0</td>\n",
       "      <td>12.0</td>\n",
       "      <td>12.0</td>\n",
       "      <td>0.0</td>\n",
       "    </tr>\n",
       "    <tr>\n",
       "      <th>4</th>\n",
       "      <td>NaN</td>\n",
       "      <td>NaN</td>\n",
       "      <td>NaN</td>\n",
       "      <td>NaN</td>\n",
       "      <td>NaN</td>\n",
       "      <td>NaN</td>\n",
       "      <td>NaN</td>\n",
       "      <td>NaN</td>\n",
       "      <td>NaN</td>\n",
       "      <td>NaN</td>\n",
       "      <td>...</td>\n",
       "      <td>NaN</td>\n",
       "      <td>NaN</td>\n",
       "      <td>NaN</td>\n",
       "      <td>NaN</td>\n",
       "      <td>NaN</td>\n",
       "      <td>NaN</td>\n",
       "      <td>NaN</td>\n",
       "      <td>NaN</td>\n",
       "      <td>NaN</td>\n",
       "      <td>NaN</td>\n",
       "    </tr>\n",
       "    <tr>\n",
       "      <th>...</th>\n",
       "      <td>...</td>\n",
       "      <td>...</td>\n",
       "      <td>...</td>\n",
       "      <td>...</td>\n",
       "      <td>...</td>\n",
       "      <td>...</td>\n",
       "      <td>...</td>\n",
       "      <td>...</td>\n",
       "      <td>...</td>\n",
       "      <td>...</td>\n",
       "      <td>...</td>\n",
       "      <td>...</td>\n",
       "      <td>...</td>\n",
       "      <td>...</td>\n",
       "      <td>...</td>\n",
       "      <td>...</td>\n",
       "      <td>...</td>\n",
       "      <td>...</td>\n",
       "      <td>...</td>\n",
       "      <td>...</td>\n",
       "      <td>...</td>\n",
       "    </tr>\n",
       "    <tr>\n",
       "      <th>262482</th>\n",
       "      <td>NaN</td>\n",
       "      <td>NaN</td>\n",
       "      <td>NaN</td>\n",
       "      <td>NaN</td>\n",
       "      <td>NaN</td>\n",
       "      <td>NaN</td>\n",
       "      <td>NaN</td>\n",
       "      <td>NaN</td>\n",
       "      <td>NaN</td>\n",
       "      <td>NaN</td>\n",
       "      <td>...</td>\n",
       "      <td>0.0</td>\n",
       "      <td>0.0</td>\n",
       "      <td>0.0</td>\n",
       "      <td>0.0</td>\n",
       "      <td>0.0</td>\n",
       "      <td>2.0</td>\n",
       "      <td>0.0</td>\n",
       "      <td>1.0</td>\n",
       "      <td>1.0</td>\n",
       "      <td>0.0</td>\n",
       "    </tr>\n",
       "    <tr>\n",
       "      <th>262483</th>\n",
       "      <td>NaN</td>\n",
       "      <td>NaN</td>\n",
       "      <td>NaN</td>\n",
       "      <td>NaN</td>\n",
       "      <td>NaN</td>\n",
       "      <td>NaN</td>\n",
       "      <td>NaN</td>\n",
       "      <td>NaN</td>\n",
       "      <td>NaN</td>\n",
       "      <td>NaN</td>\n",
       "      <td>...</td>\n",
       "      <td>0.0</td>\n",
       "      <td>0.0</td>\n",
       "      <td>0.0</td>\n",
       "      <td>0.0</td>\n",
       "      <td>0.0</td>\n",
       "      <td>26.0</td>\n",
       "      <td>0.0</td>\n",
       "      <td>17.0</td>\n",
       "      <td>14.0</td>\n",
       "      <td>0.0</td>\n",
       "    </tr>\n",
       "    <tr>\n",
       "      <th>262484</th>\n",
       "      <td>NaN</td>\n",
       "      <td>NaN</td>\n",
       "      <td>NaN</td>\n",
       "      <td>NaN</td>\n",
       "      <td>NaN</td>\n",
       "      <td>NaN</td>\n",
       "      <td>NaN</td>\n",
       "      <td>NaN</td>\n",
       "      <td>NaN</td>\n",
       "      <td>NaN</td>\n",
       "      <td>...</td>\n",
       "      <td>0.0</td>\n",
       "      <td>0.0</td>\n",
       "      <td>0.0</td>\n",
       "      <td>0.0</td>\n",
       "      <td>0.0</td>\n",
       "      <td>3.0</td>\n",
       "      <td>0.0</td>\n",
       "      <td>1.0</td>\n",
       "      <td>1.0</td>\n",
       "      <td>0.0</td>\n",
       "    </tr>\n",
       "    <tr>\n",
       "      <th>262485</th>\n",
       "      <td>NaN</td>\n",
       "      <td>NaN</td>\n",
       "      <td>NaN</td>\n",
       "      <td>NaN</td>\n",
       "      <td>NaN</td>\n",
       "      <td>NaN</td>\n",
       "      <td>NaN</td>\n",
       "      <td>NaN</td>\n",
       "      <td>NaN</td>\n",
       "      <td>NaN</td>\n",
       "      <td>...</td>\n",
       "      <td>0.0</td>\n",
       "      <td>0.0</td>\n",
       "      <td>0.0</td>\n",
       "      <td>0.0</td>\n",
       "      <td>0.0</td>\n",
       "      <td>2.0</td>\n",
       "      <td>0.0</td>\n",
       "      <td>1.0</td>\n",
       "      <td>1.0</td>\n",
       "      <td>0.0</td>\n",
       "    </tr>\n",
       "    <tr>\n",
       "      <th>262486</th>\n",
       "      <td>NaN</td>\n",
       "      <td>NaN</td>\n",
       "      <td>NaN</td>\n",
       "      <td>NaN</td>\n",
       "      <td>NaN</td>\n",
       "      <td>NaN</td>\n",
       "      <td>NaN</td>\n",
       "      <td>NaN</td>\n",
       "      <td>NaN</td>\n",
       "      <td>NaN</td>\n",
       "      <td>...</td>\n",
       "      <td>NaN</td>\n",
       "      <td>NaN</td>\n",
       "      <td>NaN</td>\n",
       "      <td>NaN</td>\n",
       "      <td>NaN</td>\n",
       "      <td>NaN</td>\n",
       "      <td>NaN</td>\n",
       "      <td>NaN</td>\n",
       "      <td>NaN</td>\n",
       "      <td>NaN</td>\n",
       "    </tr>\n",
       "  </tbody>\n",
       "</table>\n",
       "<p>262487 rows × 654 columns</p>\n",
       "</div>"
      ],
      "text/plain": [
       "        ent_level_woe  lastbuy_date_diff_woe  cir_day_woe  \\\n",
       "0                 NaN                    NaN          NaN   \n",
       "1                 NaN                    NaN          NaN   \n",
       "2                 NaN                    NaN          NaN   \n",
       "3                 NaN                    NaN          NaN   \n",
       "4                 NaN                    NaN          NaN   \n",
       "...               ...                    ...          ...   \n",
       "262482            NaN                    NaN          NaN   \n",
       "262483            NaN                    NaN          NaN   \n",
       "262484            NaN                    NaN          NaN   \n",
       "262485            NaN                    NaN          NaN   \n",
       "262486            NaN                    NaN          NaN   \n",
       "\n",
       "        register_count_pv_60_pv_woe  register_count_pv_15_uv_woe  \\\n",
       "0                               NaN                          NaN   \n",
       "1                               NaN                          NaN   \n",
       "2                               NaN                          NaN   \n",
       "3                               NaN                          NaN   \n",
       "4                               NaN                          NaN   \n",
       "...                             ...                          ...   \n",
       "262482                          NaN                          NaN   \n",
       "262483                          NaN                          NaN   \n",
       "262484                          NaN                          NaN   \n",
       "262485                          NaN                          NaN   \n",
       "262486                          NaN                          NaN   \n",
       "\n",
       "        register_count_pv_60_uv_woe  register_count_30_pv_woe  \\\n",
       "0                               NaN                       NaN   \n",
       "1                               NaN                       NaN   \n",
       "2                               NaN                       NaN   \n",
       "3                               NaN                       NaN   \n",
       "4                               NaN                       NaN   \n",
       "...                             ...                       ...   \n",
       "262482                          NaN                       NaN   \n",
       "262483                          NaN                       NaN   \n",
       "262484                          NaN                       NaN   \n",
       "262485                          NaN                       NaN   \n",
       "262486                          NaN                       NaN   \n",
       "\n",
       "        register_count_120_uv_woe  signup_count_15_uv_woe  \\\n",
       "0                             NaN                     NaN   \n",
       "1                             NaN                     NaN   \n",
       "2                             NaN                     NaN   \n",
       "3                             NaN                     NaN   \n",
       "4                             NaN                     NaN   \n",
       "...                           ...                     ...   \n",
       "262482                        NaN                     NaN   \n",
       "262483                        NaN                     NaN   \n",
       "262484                        NaN                     NaN   \n",
       "262485                        NaN                     NaN   \n",
       "262486                        NaN                     NaN   \n",
       "\n",
       "        signup_count_120_uv_woe  ...  zps_endtrial_120_pv  zps_endtrial_15_uv  \\\n",
       "0                           NaN  ...                  0.0                 0.0   \n",
       "1                           NaN  ...                  0.0                 0.0   \n",
       "2                           NaN  ...                  0.0                 0.0   \n",
       "3                           NaN  ...                  0.0                 0.0   \n",
       "4                           NaN  ...                  NaN                 NaN   \n",
       "...                         ...  ...                  ...                 ...   \n",
       "262482                      NaN  ...                  0.0                 0.0   \n",
       "262483                      NaN  ...                  0.0                 0.0   \n",
       "262484                      NaN  ...                  0.0                 0.0   \n",
       "262485                      NaN  ...                  0.0                 0.0   \n",
       "262486                      NaN  ...                  NaN                 NaN   \n",
       "\n",
       "        zps_endtrial_30_uv  zps_endtrial_60_uv  zps_endtrial_120_uv  \\\n",
       "0                      0.0                 0.0                  0.0   \n",
       "1                      0.0                 0.0                  0.0   \n",
       "2                      0.0                 0.0                  0.0   \n",
       "3                      0.0                 0.0                  0.0   \n",
       "4                      NaN                 NaN                  NaN   \n",
       "...                    ...                 ...                  ...   \n",
       "262482                 0.0                 0.0                  0.0   \n",
       "262483                 0.0                 0.0                  0.0   \n",
       "262484                 0.0                 0.0                  0.0   \n",
       "262485                 0.0                 0.0                  0.0   \n",
       "262486                 NaN                 NaN                  NaN   \n",
       "\n",
       "        lock_cnt_gtj  jkzh_ab  sgd_ab  zps_ab  jkzh_gjg  \n",
       "0                6.0      0.0     0.0     4.0       0.0  \n",
       "1                2.0      0.0     1.0     1.0       0.0  \n",
       "2                4.0      0.0     0.0     1.0       0.0  \n",
       "3               13.0      3.0    12.0    12.0       0.0  \n",
       "4                NaN      NaN     NaN     NaN       NaN  \n",
       "...              ...      ...     ...     ...       ...  \n",
       "262482           2.0      0.0     1.0     1.0       0.0  \n",
       "262483          26.0      0.0    17.0    14.0       0.0  \n",
       "262484           3.0      0.0     1.0     1.0       0.0  \n",
       "262485           2.0      0.0     1.0     1.0       0.0  \n",
       "262486           NaN      NaN     NaN     NaN       NaN  \n",
       "\n",
       "[262487 rows x 654 columns]"
      ]
     },
     "execution_count": 9,
     "metadata": {},
     "output_type": "execute_result"
    }
   ],
   "source": [
    "X_train"
   ]
  },
  {
   "cell_type": "code",
   "execution_count": 44,
   "id": "fdb2dc52-2211-4ca2-9499-cd1006facc74",
   "metadata": {},
   "outputs": [],
   "source": [
    "clf1 = XGBClassifier(n_estimators=50,max_depth=5,learning_rate=0.06,subsample=1.0,colsample_bytree=0.6066666666666667,min_child_weight=100,objective =\"binary:logistic\")"
   ]
  },
  {
   "cell_type": "code",
   "execution_count": 45,
   "id": "efca6881-d9ca-4494-863e-8c71ba5d3090",
   "metadata": {},
   "outputs": [
    {
     "data": {
      "text/plain": [
       "XGBClassifier(base_score=0.5, booster='gbtree', callbacks=None,\n",
       "              colsample_bylevel=1, colsample_bynode=1,\n",
       "              colsample_bytree=0.6066666666666667, early_stopping_rounds=None,\n",
       "              enable_categorical=False, eval_metric=None, gamma=0, gpu_id=-1,\n",
       "              grow_policy='depthwise', importance_type=None,\n",
       "              interaction_constraints='', learning_rate=0.06, max_bin=256,\n",
       "              max_cat_to_onehot=4, max_delta_step=0, max_depth=5, max_leaves=0,\n",
       "              min_child_weight=100, missing=nan, monotone_constraints='()',\n",
       "              n_estimators=50, n_jobs=0, num_parallel_tree=1, predictor='auto',\n",
       "              random_state=0, reg_alpha=0, reg_lambda=1, ...)"
      ]
     },
     "execution_count": 45,
     "metadata": {},
     "output_type": "execute_result"
    }
   ],
   "source": [
    "#在训练集上训练\n",
    "clf1.fit(X_train,Y_train)"
   ]
  },
  {
   "cell_type": "code",
   "execution_count": null,
   "id": "c7dde847-bf25-4ff1-ac58-d83953df9772",
   "metadata": {},
   "outputs": [],
   "source": [
    "#pca = PCA()  # 加载PCA算法，设置降维后主成分数目为2\n",
    "#reduced_x = pca.fit_transform(x) "
   ]
  },
  {
   "cell_type": "code",
   "execution_count": 46,
   "id": "691f8813-d47f-4b9e-94fb-2ebf30c177c6",
   "metadata": {},
   "outputs": [],
   "source": [
    "######保存\n",
    "clf1.save_model(\"model_h_new.ubj\")"
   ]
  },
  {
   "cell_type": "code",
   "execution_count": 47,
   "id": "2a6eef93-8ef9-40dd-8c0c-d0ed26330ca6",
   "metadata": {},
   "outputs": [],
   "source": [
    "Y_train_pred = clf1.predict_proba(X_train)\n",
    "Y_train_pred_1 = Y_train_pred[:,1]"
   ]
  },
  {
   "cell_type": "code",
   "execution_count": 48,
   "id": "ff20ba8c-536b-4e3f-8158-47ef29a90ec7",
   "metadata": {},
   "outputs": [
    {
     "data": {
      "text/plain": [
       "<matplotlib.legend.Legend at 0x7f9f27b84550>"
      ]
     },
     "execution_count": 48,
     "metadata": {},
     "output_type": "execute_result"
    },
    {
     "data": {
      "image/png": "[encoded data removed]",
      "text/plain": [
       "<Figure size 432x288 with 1 Axes>"
      ]
     },
     "metadata": {
      "needs_background": "light"
     },
     "output_type": "display_data"
    }
   ],
   "source": [
    "###最佳阈值\n",
    "def Find_Optimal_Cutoff(TPR, FPR, threshold):\n",
    "    y = TPR - FPR\n",
    "    Youden_index = np.argmax(y)  # Only the first occurrence is returned.\n",
    "    optimal_threshold = threshold[Youden_index]\n",
    "    point = [FPR[Youden_index], TPR[Youden_index]]\n",
    "    return optimal_threshold, point\n",
    "\n",
    "###ROC\n",
    "fpr, tpr, thersholds = roc_curve(Y_train, Y_train_pred_1, pos_label=1)\n",
    "best_thershold, point = Find_Optimal_Cutoff(tpr, fpr, thersholds)\n",
    "roc_auc = auc(fpr, tpr)\n",
    " \n",
    "plt.plot(fpr, tpr, 'k--', label='ROC (area = {0:.2f})'.format(roc_auc), lw=2)\n",
    " \n",
    "plt.xlim([-0.05, 1.05])  # 设置x、y轴的上下限，以免和边缘重合，更好的观察图像的整体\n",
    "plt.ylim([-0.05, 1.05])\n",
    "plt.plot(point[0], point[1], marker='o', color='r')\n",
    "plt.text(point[0], point[1], f'Threshold:{best_thershold:.4f}')\n",
    "plt.xlabel('False Positive Rate')\n",
    "plt.ylabel('True Positive Rate')  # 可以使用中文，但需要导入一些库即字体\n",
    "plt.title('ROC Curve')\n",
    "plt.legend(loc=\"lower right\")"
   ]
  },
  {
   "cell_type": "code",
   "execution_count": 49,
   "id": "4d9d9e36-a5d2-4d46-aaed-03d32ca78bca",
   "metadata": {},
   "outputs": [
    {
     "data": {
      "text/plain": [
       "0.8005880411999828"
      ]
     },
     "execution_count": 49,
     "metadata": {},
     "output_type": "execute_result"
    }
   ],
   "source": [
    "roc_auc"
   ]
  },
  {
   "cell_type": "code",
   "execution_count": 15,
   "id": "a763af88-02a7-427b-b390-240d48e159fb",
   "metadata": {},
   "outputs": [],
   "source": [
    "dt = pd.read_csv('data_h_gk/data_h_2023-04-01.csv')"
   ]
  },
  {
   "cell_type": "code",
   "execution_count": 16,
   "id": "670d8f7e-c5ea-4b30-894f-46a814173a0c",
   "metadata": {},
   "outputs": [
    {
     "data": {
      "text/html": [
       "<div>\n",
       "<style scoped>\n",
       "    .dataframe tbody tr th:only-of-type {\n",
       "        vertical-align: middle;\n",
       "    }\n",
       "\n",
       "    .dataframe tbody tr th {\n",
       "        vertical-align: top;\n",
       "    }\n",
       "\n",
       "    .dataframe thead th {\n",
       "        text-align: right;\n",
       "    }\n",
       "</style>\n",
       "<table border=\"1\" class=\"dataframe\">\n",
       "  <thead>\n",
       "    <tr style=\"text-align: right;\">\n",
       "      <th></th>\n",
       "      <th>customer_wid</th>\n",
       "      <th>date_wid</th>\n",
       "      <th>ent_level_woe</th>\n",
       "      <th>lastbuy_date_diff_woe</th>\n",
       "      <th>cir_day_woe</th>\n",
       "      <th>register_count_pv_60_pv_woe</th>\n",
       "      <th>register_count_pv_15_uv_woe</th>\n",
       "      <th>register_count_pv_60_uv_woe</th>\n",
       "      <th>register_count_30_pv_woe</th>\n",
       "      <th>register_count_120_uv_woe</th>\n",
       "      <th>...</th>\n",
       "      <th>zps_endtrial_120_pv</th>\n",
       "      <th>zps_endtrial_15_uv</th>\n",
       "      <th>zps_endtrial_30_uv</th>\n",
       "      <th>zps_endtrial_60_uv</th>\n",
       "      <th>zps_endtrial_120_uv</th>\n",
       "      <th>lock_cnt_gtj</th>\n",
       "      <th>jkzh_ab</th>\n",
       "      <th>sgd_ab</th>\n",
       "      <th>zps_ab</th>\n",
       "      <th>jkzh_gjg</th>\n",
       "    </tr>\n",
       "  </thead>\n",
       "  <tbody>\n",
       "    <tr>\n",
       "      <th>0</th>\n",
       "      <td>86684842</td>\n",
       "      <td>2023-04-01</td>\n",
       "      <td>NaN</td>\n",
       "      <td>NaN</td>\n",
       "      <td>NaN</td>\n",
       "      <td>NaN</td>\n",
       "      <td>NaN</td>\n",
       "      <td>NaN</td>\n",
       "      <td>NaN</td>\n",
       "      <td>NaN</td>\n",
       "      <td>...</td>\n",
       "      <td>0.0</td>\n",
       "      <td>0.0</td>\n",
       "      <td>0.0</td>\n",
       "      <td>0.0</td>\n",
       "      <td>0.0</td>\n",
       "      <td>1.0</td>\n",
       "      <td>NaN</td>\n",
       "      <td>NaN</td>\n",
       "      <td>NaN</td>\n",
       "      <td>NaN</td>\n",
       "    </tr>\n",
       "    <tr>\n",
       "      <th>1</th>\n",
       "      <td>45594784</td>\n",
       "      <td>2023-04-01</td>\n",
       "      <td>NaN</td>\n",
       "      <td>NaN</td>\n",
       "      <td>NaN</td>\n",
       "      <td>NaN</td>\n",
       "      <td>NaN</td>\n",
       "      <td>NaN</td>\n",
       "      <td>NaN</td>\n",
       "      <td>NaN</td>\n",
       "      <td>...</td>\n",
       "      <td>0.0</td>\n",
       "      <td>0.0</td>\n",
       "      <td>0.0</td>\n",
       "      <td>0.0</td>\n",
       "      <td>0.0</td>\n",
       "      <td>1.0</td>\n",
       "      <td>0.0</td>\n",
       "      <td>0.0</td>\n",
       "      <td>1.0</td>\n",
       "      <td>0.0</td>\n",
       "    </tr>\n",
       "    <tr>\n",
       "      <th>2</th>\n",
       "      <td>23429669</td>\n",
       "      <td>2023-04-01</td>\n",
       "      <td>NaN</td>\n",
       "      <td>NaN</td>\n",
       "      <td>NaN</td>\n",
       "      <td>NaN</td>\n",
       "      <td>NaN</td>\n",
       "      <td>NaN</td>\n",
       "      <td>NaN</td>\n",
       "      <td>NaN</td>\n",
       "      <td>...</td>\n",
       "      <td>NaN</td>\n",
       "      <td>NaN</td>\n",
       "      <td>NaN</td>\n",
       "      <td>NaN</td>\n",
       "      <td>NaN</td>\n",
       "      <td>4.0</td>\n",
       "      <td>NaN</td>\n",
       "      <td>NaN</td>\n",
       "      <td>NaN</td>\n",
       "      <td>NaN</td>\n",
       "    </tr>\n",
       "    <tr>\n",
       "      <th>3</th>\n",
       "      <td>39129317</td>\n",
       "      <td>2023-04-01</td>\n",
       "      <td>NaN</td>\n",
       "      <td>NaN</td>\n",
       "      <td>NaN</td>\n",
       "      <td>NaN</td>\n",
       "      <td>NaN</td>\n",
       "      <td>NaN</td>\n",
       "      <td>NaN</td>\n",
       "      <td>NaN</td>\n",
       "      <td>...</td>\n",
       "      <td>NaN</td>\n",
       "      <td>NaN</td>\n",
       "      <td>NaN</td>\n",
       "      <td>NaN</td>\n",
       "      <td>NaN</td>\n",
       "      <td>NaN</td>\n",
       "      <td>NaN</td>\n",
       "      <td>NaN</td>\n",
       "      <td>NaN</td>\n",
       "      <td>NaN</td>\n",
       "    </tr>\n",
       "    <tr>\n",
       "      <th>4</th>\n",
       "      <td>649641869</td>\n",
       "      <td>2023-04-01</td>\n",
       "      <td>NaN</td>\n",
       "      <td>NaN</td>\n",
       "      <td>NaN</td>\n",
       "      <td>NaN</td>\n",
       "      <td>NaN</td>\n",
       "      <td>NaN</td>\n",
       "      <td>NaN</td>\n",
       "      <td>NaN</td>\n",
       "      <td>...</td>\n",
       "      <td>0.0</td>\n",
       "      <td>0.0</td>\n",
       "      <td>0.0</td>\n",
       "      <td>0.0</td>\n",
       "      <td>0.0</td>\n",
       "      <td>1.0</td>\n",
       "      <td>NaN</td>\n",
       "      <td>NaN</td>\n",
       "      <td>NaN</td>\n",
       "      <td>NaN</td>\n",
       "    </tr>\n",
       "    <tr>\n",
       "      <th>...</th>\n",
       "      <td>...</td>\n",
       "      <td>...</td>\n",
       "      <td>...</td>\n",
       "      <td>...</td>\n",
       "      <td>...</td>\n",
       "      <td>...</td>\n",
       "      <td>...</td>\n",
       "      <td>...</td>\n",
       "      <td>...</td>\n",
       "      <td>...</td>\n",
       "      <td>...</td>\n",
       "      <td>...</td>\n",
       "      <td>...</td>\n",
       "      <td>...</td>\n",
       "      <td>...</td>\n",
       "      <td>...</td>\n",
       "      <td>...</td>\n",
       "      <td>...</td>\n",
       "      <td>...</td>\n",
       "      <td>...</td>\n",
       "      <td>...</td>\n",
       "    </tr>\n",
       "    <tr>\n",
       "      <th>85436</th>\n",
       "      <td>23538369</td>\n",
       "      <td>2023-04-01</td>\n",
       "      <td>NaN</td>\n",
       "      <td>NaN</td>\n",
       "      <td>NaN</td>\n",
       "      <td>NaN</td>\n",
       "      <td>NaN</td>\n",
       "      <td>NaN</td>\n",
       "      <td>NaN</td>\n",
       "      <td>NaN</td>\n",
       "      <td>...</td>\n",
       "      <td>0.0</td>\n",
       "      <td>0.0</td>\n",
       "      <td>0.0</td>\n",
       "      <td>0.0</td>\n",
       "      <td>0.0</td>\n",
       "      <td>3.0</td>\n",
       "      <td>1.0</td>\n",
       "      <td>0.0</td>\n",
       "      <td>1.0</td>\n",
       "      <td>1.0</td>\n",
       "    </tr>\n",
       "    <tr>\n",
       "      <th>85437</th>\n",
       "      <td>102470403</td>\n",
       "      <td>2023-04-01</td>\n",
       "      <td>NaN</td>\n",
       "      <td>NaN</td>\n",
       "      <td>NaN</td>\n",
       "      <td>NaN</td>\n",
       "      <td>NaN</td>\n",
       "      <td>NaN</td>\n",
       "      <td>NaN</td>\n",
       "      <td>NaN</td>\n",
       "      <td>...</td>\n",
       "      <td>NaN</td>\n",
       "      <td>NaN</td>\n",
       "      <td>NaN</td>\n",
       "      <td>NaN</td>\n",
       "      <td>NaN</td>\n",
       "      <td>2.0</td>\n",
       "      <td>NaN</td>\n",
       "      <td>NaN</td>\n",
       "      <td>NaN</td>\n",
       "      <td>NaN</td>\n",
       "    </tr>\n",
       "    <tr>\n",
       "      <th>85438</th>\n",
       "      <td>42225794</td>\n",
       "      <td>2023-04-01</td>\n",
       "      <td>NaN</td>\n",
       "      <td>NaN</td>\n",
       "      <td>NaN</td>\n",
       "      <td>NaN</td>\n",
       "      <td>NaN</td>\n",
       "      <td>NaN</td>\n",
       "      <td>NaN</td>\n",
       "      <td>NaN</td>\n",
       "      <td>...</td>\n",
       "      <td>0.0</td>\n",
       "      <td>0.0</td>\n",
       "      <td>0.0</td>\n",
       "      <td>0.0</td>\n",
       "      <td>0.0</td>\n",
       "      <td>3.0</td>\n",
       "      <td>0.0</td>\n",
       "      <td>0.0</td>\n",
       "      <td>0.0</td>\n",
       "      <td>2.0</td>\n",
       "    </tr>\n",
       "    <tr>\n",
       "      <th>85439</th>\n",
       "      <td>23425764</td>\n",
       "      <td>2023-04-01</td>\n",
       "      <td>NaN</td>\n",
       "      <td>NaN</td>\n",
       "      <td>NaN</td>\n",
       "      <td>NaN</td>\n",
       "      <td>NaN</td>\n",
       "      <td>NaN</td>\n",
       "      <td>NaN</td>\n",
       "      <td>NaN</td>\n",
       "      <td>...</td>\n",
       "      <td>0.0</td>\n",
       "      <td>0.0</td>\n",
       "      <td>0.0</td>\n",
       "      <td>0.0</td>\n",
       "      <td>0.0</td>\n",
       "      <td>7.0</td>\n",
       "      <td>NaN</td>\n",
       "      <td>NaN</td>\n",
       "      <td>NaN</td>\n",
       "      <td>NaN</td>\n",
       "    </tr>\n",
       "    <tr>\n",
       "      <th>85440</th>\n",
       "      <td>23335854</td>\n",
       "      <td>2023-04-01</td>\n",
       "      <td>NaN</td>\n",
       "      <td>NaN</td>\n",
       "      <td>NaN</td>\n",
       "      <td>NaN</td>\n",
       "      <td>NaN</td>\n",
       "      <td>NaN</td>\n",
       "      <td>NaN</td>\n",
       "      <td>NaN</td>\n",
       "      <td>...</td>\n",
       "      <td>0.0</td>\n",
       "      <td>0.0</td>\n",
       "      <td>0.0</td>\n",
       "      <td>0.0</td>\n",
       "      <td>0.0</td>\n",
       "      <td>5.0</td>\n",
       "      <td>0.0</td>\n",
       "      <td>0.0</td>\n",
       "      <td>1.0</td>\n",
       "      <td>1.0</td>\n",
       "    </tr>\n",
       "  </tbody>\n",
       "</table>\n",
       "<p>85441 rows × 657 columns</p>\n",
       "</div>"
      ],
      "text/plain": [
       "       customer_wid    date_wid  ent_level_woe  lastbuy_date_diff_woe  \\\n",
       "0          86684842  2023-04-01            NaN                    NaN   \n",
       "1          45594784  2023-04-01            NaN                    NaN   \n",
       "2          23429669  2023-04-01            NaN                    NaN   \n",
       "3          39129317  2023-04-01            NaN                    NaN   \n",
       "4         649641869  2023-04-01            NaN                    NaN   \n",
       "...             ...         ...            ...                    ...   \n",
       "85436      23538369  2023-04-01            NaN                    NaN   \n",
       "85437     102470403  2023-04-01            NaN                    NaN   \n",
       "85438      42225794  2023-04-01            NaN                    NaN   \n",
       "85439      23425764  2023-04-01            NaN                    NaN   \n",
       "85440      23335854  2023-04-01            NaN                    NaN   \n",
       "\n",
       "       cir_day_woe  register_count_pv_60_pv_woe  register_count_pv_15_uv_woe  \\\n",
       "0              NaN                          NaN                          NaN   \n",
       "1              NaN                          NaN                          NaN   \n",
       "2              NaN                          NaN                          NaN   \n",
       "3              NaN                          NaN                          NaN   \n",
       "4              NaN                          NaN                          NaN   \n",
       "...            ...                          ...                          ...   \n",
       "85436          NaN                          NaN                          NaN   \n",
       "85437          NaN                          NaN                          NaN   \n",
       "85438          NaN                          NaN                          NaN   \n",
       "85439          NaN                          NaN                          NaN   \n",
       "85440          NaN                          NaN                          NaN   \n",
       "\n",
       "       register_count_pv_60_uv_woe  register_count_30_pv_woe  \\\n",
       "0                              NaN                       NaN   \n",
       "1                              NaN                       NaN   \n",
       "2                              NaN                       NaN   \n",
       "3                              NaN                       NaN   \n",
       "4                              NaN                       NaN   \n",
       "...                            ...                       ...   \n",
       "85436                          NaN                       NaN   \n",
       "85437                          NaN                       NaN   \n",
       "85438                          NaN                       NaN   \n",
       "85439                          NaN                       NaN   \n",
       "85440                          NaN                       NaN   \n",
       "\n",
       "       register_count_120_uv_woe  ...  zps_endtrial_120_pv  \\\n",
       "0                            NaN  ...                  0.0   \n",
       "1                            NaN  ...                  0.0   \n",
       "2                            NaN  ...                  NaN   \n",
       "3                            NaN  ...                  NaN   \n",
       "4                            NaN  ...                  0.0   \n",
       "...                          ...  ...                  ...   \n",
       "85436                        NaN  ...                  0.0   \n",
       "85437                        NaN  ...                  NaN   \n",
       "85438                        NaN  ...                  0.0   \n",
       "85439                        NaN  ...                  0.0   \n",
       "85440                        NaN  ...                  0.0   \n",
       "\n",
       "       zps_endtrial_15_uv  zps_endtrial_30_uv  zps_endtrial_60_uv  \\\n",
       "0                     0.0                 0.0                 0.0   \n",
       "1                     0.0                 0.0                 0.0   \n",
       "2                     NaN                 NaN                 NaN   \n",
       "3                     NaN                 NaN                 NaN   \n",
       "4                     0.0                 0.0                 0.0   \n",
       "...                   ...                 ...                 ...   \n",
       "85436                 0.0                 0.0                 0.0   \n",
       "85437                 NaN                 NaN                 NaN   \n",
       "85438                 0.0                 0.0                 0.0   \n",
       "85439                 0.0                 0.0                 0.0   \n",
       "85440                 0.0                 0.0                 0.0   \n",
       "\n",
       "       zps_endtrial_120_uv  lock_cnt_gtj  jkzh_ab  sgd_ab  zps_ab  jkzh_gjg  \n",
       "0                      0.0           1.0      NaN     NaN     NaN       NaN  \n",
       "1                      0.0           1.0      0.0     0.0     1.0       0.0  \n",
       "2                      NaN           4.0      NaN     NaN     NaN       NaN  \n",
       "3                      NaN           NaN      NaN     NaN     NaN       NaN  \n",
       "4                      0.0           1.0      NaN     NaN     NaN       NaN  \n",
       "...                    ...           ...      ...     ...     ...       ...  \n",
       "85436                  0.0           3.0      1.0     0.0     1.0       1.0  \n",
       "85437                  NaN           2.0      NaN     NaN     NaN       NaN  \n",
       "85438                  0.0           3.0      0.0     0.0     0.0       2.0  \n",
       "85439                  0.0           7.0      NaN     NaN     NaN       NaN  \n",
       "85440                  0.0           5.0      0.0     0.0     1.0       1.0  \n",
       "\n",
       "[85441 rows x 657 columns]"
      ]
     },
     "execution_count": 16,
     "metadata": {},
     "output_type": "execute_result"
    }
   ],
   "source": [
    "dt"
   ]
  },
  {
   "cell_type": "code",
   "execution_count": 17,
   "id": "600e33ec-21bf-4bb2-9d58-a83f4141403f",
   "metadata": {},
   "outputs": [],
   "source": [
    "dt.rename(columns={\"flag\": \"target\"}, inplace=True)\n",
    "X_dt=dt.drop(['target','customer_wid','date_wid'],axis=1)\n",
    "Y_dt=dt['target']"
   ]
  },
  {
   "cell_type": "code",
   "execution_count": 68,
   "id": "4e0ed29b-7300-4c43-97ad-2146ac52d8ba",
   "metadata": {},
   "outputs": [],
   "source": [
    "Y_dt_pred = clf1.predict_proba(X_dt)\n",
    "Y_dt_pred_1 = Y_dt_pred[:,1]"
   ]
  },
  {
   "cell_type": "code",
   "execution_count": 51,
   "id": "3305de6b-6b87-410d-a203-33e42d10d83e",
   "metadata": {},
   "outputs": [
    {
     "data": {
      "text/plain": [
       "<matplotlib.legend.Legend at 0x7f9f27cf8cd0>"
      ]
     },
     "execution_count": 51,
     "metadata": {},
     "output_type": "execute_result"
    },
    {
     "data": {
      "image/png": "[encoded data removed]",
      "text/plain": [
       "<Figure size 432x288 with 1 Axes>"
      ]
     },
     "metadata": {
      "needs_background": "light"
     },
     "output_type": "display_data"
    }
   ],
   "source": [
    "###最佳阈值\n",
    "def Find_Optimal_Cutoff(TPR, FPR, threshold):\n",
    "    y = TPR - FPR\n",
    "    Youden_index = np.argmax(y)  # Only the first occurrence is returned.\n",
    "    optimal_threshold = threshold[Youden_index]\n",
    "    point = [FPR[Youden_index], TPR[Youden_index]]\n",
    "    return optimal_threshold, point\n",
    "\n",
    "###ROC\n",
    "fpr, tpr, thersholds = roc_curve(Y_dt, Y_dt_pred_1, pos_label=1)\n",
    "best_thershold, point = Find_Optimal_Cutoff(tpr, fpr, thersholds)\n",
    "roc_auc = auc(fpr, tpr)\n",
    " \n",
    "plt.plot(fpr, tpr, 'k--', label='ROC (area = {0:.2f})'.format(roc_auc), lw=2)\n",
    " \n",
    "plt.xlim([-0.05, 1.05])  # 设置x、y轴的上下限，以免和边缘重合，更好的观察图像的整体\n",
    "plt.ylim([-0.05, 1.05])\n",
    "plt.plot(point[0], point[1], marker='o', color='r')\n",
    "plt.text(point[0], point[1], f'Threshold:{best_thershold:.4f}')\n",
    "plt.xlabel('False Positive Rate')\n",
    "plt.ylabel('True Positive Rate')  # 可以使用中文，但需要导入一些库即字体\n",
    "plt.title('ROC Curve')\n",
    "plt.legend(loc=\"lower right\")"
   ]
  },
  {
   "cell_type": "code",
   "execution_count": 52,
   "id": "a2ad7c89-056a-44bf-8b0b-273bb9b845d9",
   "metadata": {},
   "outputs": [
    {
     "data": {
      "text/plain": [
       "0.8013206237775323"
      ]
     },
     "execution_count": 52,
     "metadata": {},
     "output_type": "execute_result"
    }
   ],
   "source": [
    "roc_auc"
   ]
  },
  {
   "cell_type": "code",
   "execution_count": 31,
   "id": "dc364cdb-0839-4d59-94db-476dd152814a",
   "metadata": {},
   "outputs": [],
   "source": [
    "from sklearn.metrics import confusion_matrix"
   ]
  },
  {
   "cell_type": "code",
   "execution_count": 26,
   "id": "906bf3ae-36c2-4bd8-90fc-00c1a0328cb5",
   "metadata": {},
   "outputs": [
    {
     "data": {
      "text/plain": [
       "array([0.03770642, 0.03793241, 0.03751308, ..., 0.06614136, 0.06256823,\n",
       "       0.0603512 ], dtype=float32)"
      ]
     },
     "execution_count": 26,
     "metadata": {},
     "output_type": "execute_result"
    }
   ],
   "source": [
    "Y_dt_pred_1"
   ]
  },
  {
   "cell_type": "code",
   "execution_count": 69,
   "id": "e5a10b43-6082-48e5-9116-efce91a8c0d1",
   "metadata": {},
   "outputs": [],
   "source": [
    "df_20 = pd.DataFrame()\n",
    "df_20['pred']=Y_dt_pred_1\n",
    "df_20['flag']=Y_dt"
   ]
  },
  {
   "cell_type": "code",
   "execution_count": 70,
   "id": "4485e2ab-1cfe-4fad-805f-408e06a7d135",
   "metadata": {},
   "outputs": [],
   "source": [
    "df_20.sort_values(by=['pred'], inplace=True, ascending=False)"
   ]
  },
  {
   "cell_type": "code",
   "execution_count": 72,
   "id": "5635cf8a-1ced-49bd-86ed-0d13b46746ee",
   "metadata": {},
   "outputs": [],
   "source": [
    "df_20['cumsum']=df_20['flag'].cumsum()"
   ]
  },
  {
   "cell_type": "code",
   "execution_count": 74,
   "id": "b988de6e-c273-46d2-bdf5-05382082f26e",
   "metadata": {},
   "outputs": [],
   "source": [
    "df_20['total']=range(1,len(df_20)+1)"
   ]
  },
  {
   "cell_type": "code",
   "execution_count": 77,
   "id": "e298383e-1c9e-4329-bcf0-834379aa1388",
   "metadata": {},
   "outputs": [],
   "source": [
    "df_20['prc']=df_20['cumsum']/df_20['total']"
   ]
  },
  {
   "cell_type": "code",
   "execution_count": 79,
   "id": "e277d8e0-cdcf-4fb6-9f70-540f72ec0da6",
   "metadata": {},
   "outputs": [
    {
     "data": {
      "text/plain": [
       "0.12183846162849217"
      ]
     },
     "execution_count": 79,
     "metadata": {},
     "output_type": "execute_result"
    }
   ],
   "source": [
    "sum(df_20['prc']>=0.2)/len(df_20)"
   ]
  },
  {
   "cell_type": "code",
   "execution_count": 60,
   "id": "acaf7cc9-f46f-4655-9bfc-e9a7bafcca87",
   "metadata": {},
   "outputs": [
    {
     "data": {
      "text/plain": [
       "\u001b[0;31mSignature:\u001b[0m \u001b[0msort\u001b[0m\u001b[0;34m(\u001b[0m\u001b[0ma\u001b[0m\u001b[0;34m,\u001b[0m \u001b[0maxis\u001b[0m\u001b[0;34m=\u001b[0m\u001b[0;34m-\u001b[0m\u001b[0;36m1\u001b[0m\u001b[0;34m,\u001b[0m \u001b[0mkind\u001b[0m\u001b[0;34m=\u001b[0m\u001b[0;32mNone\u001b[0m\u001b[0;34m,\u001b[0m \u001b[0morder\u001b[0m\u001b[0;34m=\u001b[0m\u001b[0;32mNone\u001b[0m\u001b[0;34m)\u001b[0m\u001b[0;34m\u001b[0m\u001b[0;34m\u001b[0m\u001b[0m\n",
       "\u001b[0;31mDocstring:\u001b[0m\n",
       "Return a sorted copy of an array.\n",
       "\n",
       "Parameters\n",
       "----------\n",
       "a : array_like\n",
       "    Array to be sorted.\n",
       "axis : int or None, optional\n",
       "    Axis along which to sort. If None, the array is flattened before\n",
       "    sorting. The default is -1, which sorts along the last axis.\n",
       "kind : {'quicksort', 'mergesort', 'heapsort', 'stable'}, optional\n",
       "    Sorting algorithm. The default is 'quicksort'. Note that both 'stable'\n",
       "    and 'mergesort' use timsort or radix sort under the covers and, in general,\n",
       "    the actual implementation will vary with data type. The 'mergesort' option\n",
       "    is retained for backwards compatibility.\n",
       "\n",
       "    .. versionchanged:: 1.15.0.\n",
       "       The 'stable' option was added.\n",
       "\n",
       "order : str or list of str, optional\n",
       "    When `a` is an array with fields defined, this argument specifies\n",
       "    which fields to compare first, second, etc.  A single field can\n",
       "    be specified as a string, and not all fields need be specified,\n",
       "    but unspecified fields will still be used, in the order in which\n",
       "    they come up in the dtype, to break ties.\n",
       "\n",
       "Returns\n",
       "-------\n",
       "sorted_array : ndarray\n",
       "    Array of the same type and shape as `a`.\n",
       "\n",
       "See Also\n",
       "--------\n",
       "ndarray.sort : Method to sort an array in-place.\n",
       "argsort : Indirect sort.\n",
       "lexsort : Indirect stable sort on multiple keys.\n",
       "searchsorted : Find elements in a sorted array.\n",
       "partition : Partial sort.\n",
       "\n",
       "Notes\n",
       "-----\n",
       "The various sorting algorithms are characterized by their average speed,\n",
       "worst case performance, work space size, and whether they are stable. A\n",
       "stable sort keeps items with the same key in the same relative\n",
       "order. The four algorithms implemented in NumPy have the following\n",
       "properties:\n",
       "\n",
       "=========== ======= ============= ============ ========\n",
       "   kind      speed   worst case    work space   stable\n",
       "=========== ======= ============= ============ ========\n",
       "'quicksort'    1     O(n^2)            0          no\n",
       "'heapsort'     3     O(n*log(n))       0          no\n",
       "'mergesort'    2     O(n*log(n))      ~n/2        yes\n",
       "'timsort'      2     O(n*log(n))      ~n/2        yes\n",
       "=========== ======= ============= ============ ========\n",
       "\n",
       ".. note:: The datatype determines which of 'mergesort' or 'timsort'\n",
       "   is actually used, even if 'mergesort' is specified. User selection\n",
       "   at a finer scale is not currently available.\n",
       "\n",
       "All the sort algorithms make temporary copies of the data when\n",
       "sorting along any but the last axis.  Consequently, sorting along\n",
       "the last axis is faster and uses less space than sorting along\n",
       "any other axis.\n",
       "\n",
       "The sort order for complex numbers is lexicographic. If both the real\n",
       "and imaginary parts are non-nan then the order is determined by the\n",
       "real parts except when they are equal, in which case the order is\n",
       "determined by the imaginary parts.\n",
       "\n",
       "Previous to numpy 1.4.0 sorting real and complex arrays containing nan\n",
       "values led to undefined behaviour. In numpy versions >= 1.4.0 nan\n",
       "values are sorted to the end. The extended sort order is:\n",
       "\n",
       "  * Real: [R, nan]\n",
       "  * Complex: [R + Rj, R + nanj, nan + Rj, nan + nanj]\n",
       "\n",
       "where R is a non-nan real value. Complex values with the same nan\n",
       "placements are sorted according to the non-nan part if it exists.\n",
       "Non-nan values are sorted as before.\n",
       "\n",
       ".. versionadded:: 1.12.0\n",
       "\n",
       "quicksort has been changed to `introsort <https://en.wikipedia.org/wiki/Introsort>`_.\n",
       "When sorting does not make enough progress it switches to\n",
       "`heapsort <https://en.wikipedia.org/wiki/Heapsort>`_.\n",
       "This implementation makes quicksort O(n*log(n)) in the worst case.\n",
       "\n",
       "'stable' automatically chooses the best stable sorting algorithm\n",
       "for the data type being sorted.\n",
       "It, along with 'mergesort' is currently mapped to\n",
       "`timsort <https://en.wikipedia.org/wiki/Timsort>`_\n",
       "or `radix sort <https://en.wikipedia.org/wiki/Radix_sort>`_\n",
       "depending on the data type.\n",
       "API forward compatibility currently limits the\n",
       "ability to select the implementation and it is hardwired for the different\n",
       "data types.\n",
       "\n",
       ".. versionadded:: 1.17.0\n",
       "\n",
       "Timsort is added for better performance on already or nearly\n",
       "sorted data. On random data timsort is almost identical to\n",
       "mergesort. It is now used for stable sort while quicksort is still the\n",
       "default sort if none is chosen. For timsort details, refer to\n",
       "`CPython listsort.txt <https://github.com/python/cpython/blob/3.7/Objects/listsort.txt>`_.\n",
       "'mergesort' and 'stable' are mapped to radix sort for integer data types. Radix sort is an\n",
       "O(n) sort instead of O(n log n).\n",
       "\n",
       ".. versionchanged:: 1.18.0\n",
       "\n",
       "NaT now sorts to the end of arrays for consistency with NaN.\n",
       "\n",
       "Examples\n",
       "--------\n",
       ">>> a = np.array([[1,4],[3,1]])\n",
       ">>> np.sort(a)                # sort along the last axis\n",
       "array([[1, 4],\n",
       "       [1, 3]])\n",
       ">>> np.sort(a, axis=None)     # sort the flattened array\n",
       "array([1, 1, 3, 4])\n",
       ">>> np.sort(a, axis=0)        # sort along the first axis\n",
       "array([[1, 1],\n",
       "       [3, 4]])\n",
       "\n",
       "Use the `order` keyword to specify a field to use when sorting a\n",
       "structured array:\n",
       "\n",
       ">>> dtype = [('name', 'S10'), ('height', float), ('age', int)]\n",
       ">>> values = [('Arthur', 1.8, 41), ('Lancelot', 1.9, 38),\n",
       "...           ('Galahad', 1.7, 38)]\n",
       ">>> a = np.array(values, dtype=dtype)       # create a structured array\n",
       ">>> np.sort(a, order='height')                        # doctest: +SKIP\n",
       "array([('Galahad', 1.7, 38), ('Arthur', 1.8, 41),\n",
       "       ('Lancelot', 1.8999999999999999, 38)],\n",
       "      dtype=[('name', '|S10'), ('height', '<f8'), ('age', '<i4')])\n",
       "\n",
       "Sort by age, then height if ages are equal:\n",
       "\n",
       ">>> np.sort(a, order=['age', 'height'])               # doctest: +SKIP\n",
       "array([('Galahad', 1.7, 38), ('Lancelot', 1.8999999999999999, 38),\n",
       "       ('Arthur', 1.8, 41)],\n",
       "      dtype=[('name', '|S10'), ('height', '<f8'), ('age', '<i4')])\n",
       "\u001b[0;31mFile:\u001b[0m      /opt/conda/lib/python3.7/site-packages/numpy/core/fromnumeric.py\n",
       "\u001b[0;31mType:\u001b[0m      function\n"
      ]
     },
     "metadata": {},
     "output_type": "display_data"
    }
   ],
   "source": [
    "?sort"
   ]
  },
  {
   "cell_type": "code",
   "execution_count": 54,
   "id": "257fd46e-4906-44d9-b3a2-c9944600ad7b",
   "metadata": {},
   "outputs": [
    {
     "data": {
      "text/plain": [
       "array([[79790,  1277],\n",
       "       [ 3504,   870]])"
      ]
     },
     "execution_count": 54,
     "metadata": {},
     "output_type": "execute_result"
    }
   ],
   "source": [
    "confusion_matrix(Y_dt, threshold_20)"
   ]
  },
  {
   "cell_type": "code",
   "execution_count": 35,
   "id": "d60e3bd2-c5f4-477f-86ab-ae210c04800d",
   "metadata": {},
   "outputs": [
    {
     "data": {
      "text/plain": [
       "0.9442305216465163"
      ]
     },
     "execution_count": 35,
     "metadata": {},
     "output_type": "execute_result"
    }
   ],
   "source": [
    "(79789+887)/(79789+1278+3487+887)"
   ]
  },
  {
   "cell_type": "code",
   "execution_count": 55,
   "id": "fa89d30a-e3a7-4f33-ad16-0764eefe00b8",
   "metadata": {},
   "outputs": [],
   "source": [
    "from sklearn.metrics import accuracy_score"
   ]
  },
  {
   "cell_type": "code",
   "execution_count": 56,
   "id": "1d08d65e-68e8-4de1-b297-b9b44367cc37",
   "metadata": {},
   "outputs": [
    {
     "name": "stdout",
     "output_type": "stream",
     "text": [
      "0.9440432579206705\n"
     ]
    }
   ],
   "source": [
    "print(accuracy_score(Y_dt, threshold_20))"
   ]
  },
  {
   "cell_type": "code",
   "execution_count": 25,
   "id": "44a5565a-5d43-446c-b515-68cd60e06f64",
   "metadata": {},
   "outputs": [
    {
     "data": {
      "text/plain": [
       "<AxesSubplot:title={'center':'Feature importance'}, xlabel='F score', ylabel='Features'>"
      ]
     },
     "execution_count": 25,
     "metadata": {},
     "output_type": "execute_result"
    },
    {
     "name": "stderr",
     "output_type": "stream",
     "text": [
      "/opt/conda/lib/python3.7/site-packages/matplotlib/backends/backend_agg.py:240: RuntimeWarning: Glyph 20845 missing from current font.\n",
      "  font.set_text(s, 0.0, flags=flags)\n",
      "/opt/conda/lib/python3.7/site-packages/matplotlib/backends/backend_agg.py:240: RuntimeWarning: Glyph 22823 missing from current font.\n",
      "  font.set_text(s, 0.0, flags=flags)\n",
      "/opt/conda/lib/python3.7/site-packages/matplotlib/backends/backend_agg.py:240: RuntimeWarning: Glyph 22830 missing from current font.\n",
      "  font.set_text(s, 0.0, flags=flags)\n",
      "/opt/conda/lib/python3.7/site-packages/matplotlib/backends/backend_agg.py:240: RuntimeWarning: Glyph 20225 missing from current font.\n",
      "  font.set_text(s, 0.0, flags=flags)\n",
      "/opt/conda/lib/python3.7/site-packages/matplotlib/backends/backend_agg.py:203: RuntimeWarning: Glyph 20845 missing from current font.\n",
      "  font.set_text(s, 0, flags=flags)\n",
      "/opt/conda/lib/python3.7/site-packages/matplotlib/backends/backend_agg.py:203: RuntimeWarning: Glyph 22823 missing from current font.\n",
      "  font.set_text(s, 0, flags=flags)\n",
      "/opt/conda/lib/python3.7/site-packages/matplotlib/backends/backend_agg.py:203: RuntimeWarning: Glyph 22830 missing from current font.\n",
      "  font.set_text(s, 0, flags=flags)\n",
      "/opt/conda/lib/python3.7/site-packages/matplotlib/backends/backend_agg.py:203: RuntimeWarning: Glyph 20225 missing from current font.\n",
      "  font.set_text(s, 0, flags=flags)\n"
     ]
    },
    {
     "data": {
      "image/png": "[encoded data removed]",
      "text/plain": [
       "<Figure size 432x288 with 1 Axes>"
      ]
     },
     "metadata": {
      "needs_background": "light"
     },
     "output_type": "display_data"
    }
   ],
   "source": [
    "xgb.plot_importance(clf1,max_num_features=20,importance_type='gain')"
   ]
  },
  {
   "cell_type": "code",
   "execution_count": 81,
   "id": "e4f3fcf1-87c4-4f2d-b367-5e1559c3b30d",
   "metadata": {},
   "outputs": [
    {
     "data": {
      "text/plain": [
       "(array([0.7135425 , 0.7135425 , 0.7135425 , 0.86803401, 0.86803401,\n",
       "        0.92885198, 0.92885198, 0.92885198, 0.92885198, 1.        ]),\n",
       " array([-0.63064592, -0.38405371, -0.13746149,  0.10913072,  0.35572293,\n",
       "         0.60231515,  0.84890736,  1.09549958,  1.34209179,  1.588684  ,\n",
       "         1.83527622]),\n",
       " [<matplotlib.patches.Polygon at 0x7fca3adcde10>])"
      ]
     },
     "execution_count": 81,
     "metadata": {},
     "output_type": "execute_result"
    },
    {
     "data": {
      "image/png": "[encoded data removed]",
      "text/plain": [
       "<Figure size 432x288 with 1 Axes>"
      ]
     },
     "metadata": {
      "needs_background": "light"
     },
     "output_type": "display_data"
    }
   ],
   "source": [
    "###Cir day\n",
    "hist(test2['cir_day'],cumulative=True,histtype='step',density=True)\n",
    "hist(train2['cir_day'],cumulative=True,histtype='step',density=True,label = \"7.18\")"
   ]
  },
  {
   "cell_type": "code",
   "execution_count": 29,
   "id": "864d496c-6781-483b-a218-81927dc1b91b",
   "metadata": {},
   "outputs": [],
   "source": [
    "test = df[(df['class']==\"test\")&(df['date_wid']=='2023-07-18')]"
   ]
  },
  {
   "cell_type": "code",
   "execution_count": 30,
   "id": "f13fab9e-be7e-48a0-8e2b-2f6348366762",
   "metadata": {},
   "outputs": [],
   "source": [
    "test=test.drop(['account_code','social_credit_num','created','date_wid','class'], axis=1)\n",
    "test['lastbuy_date_diff'] = test['lastbuy_date_diff'].fillna(9999)\n",
    "test = test.fillna(0)"
   ]
  },
  {
   "cell_type": "code",
   "execution_count": 31,
   "id": "95873641-d671-40b5-99f4-7532b184499d",
   "metadata": {},
   "outputs": [],
   "source": [
    "test[['unit_level','act_category','act_alias','ent_level','ent_category']]=test[['unit_level','act_category','act_alias','ent_level','ent_category']].astype(str)"
   ]
  },
  {
   "cell_type": "code",
   "execution_count": 32,
   "id": "ce733f2f-ba03-41e5-8fe7-4564d896703b",
   "metadata": {},
   "outputs": [],
   "source": [
    "test2 = test.copy()"
   ]
  },
  {
   "cell_type": "code",
   "execution_count": 33,
   "id": "90aa2832-6f17-4b2e-aed3-ae789a4c8e57",
   "metadata": {},
   "outputs": [],
   "source": [
    "a = test2\n",
    "i=0\n",
    "for column in list(test2.columns[2:]):\n",
    "    a[column]=fp.woe_trans(test2[column], civ_list[i])\n",
    "    i += 1"
   ]
  },
  {
   "cell_type": "code",
   "execution_count": 35,
   "id": "652ec424-54c6-4728-b546-a54b6455665f",
   "metadata": {},
   "outputs": [],
   "source": [
    "test2.to_csv('721test.csv')"
   ]
  },
  {
   "cell_type": "code",
   "execution_count": 36,
   "id": "94229c00-3612-4cdd-841f-81eaf2303a86",
   "metadata": {
    "tags": []
   },
   "outputs": [],
   "source": [
    "p1 = np.array([True]*15000 + [False]*69421)\n",
    "p2 = np.array(list(test2['target']==1))"
   ]
  },
  {
   "cell_type": "code",
   "execution_count": 37,
   "id": "36b7fdc9-3868-459b-834e-9a641a5fedca",
   "metadata": {},
   "outputs": [],
   "source": [
    "p3 = p1 | p2"
   ]
  },
  {
   "cell_type": "code",
   "execution_count": 38,
   "id": "4833560f-d098-46fc-9b90-868651f88199",
   "metadata": {},
   "outputs": [],
   "source": [
    "test2 = test2.iloc[p3,:]"
   ]
  },
  {
   "cell_type": "code",
   "execution_count": 39,
   "id": "4857fe4f-00f3-48bb-b401-6f924b0e34db",
   "metadata": {},
   "outputs": [
    {
     "data": {
      "text/plain": [
       "0.29146666666666665"
      ]
     },
     "execution_count": 39,
     "metadata": {},
     "output_type": "execute_result"
    }
   ],
   "source": [
    "sum(test2['target'])/15000"
   ]
  },
  {
   "cell_type": "code",
   "execution_count": 40,
   "id": "9a4bfb8b-8d23-4f15-b448-eddc0648a677",
   "metadata": {},
   "outputs": [],
   "source": [
    "X_test=test2.drop(['target','customer_wid'],axis=1)\n",
    "Y_test=test2['target']"
   ]
  },
  {
   "cell_type": "code",
   "execution_count": 41,
   "id": "de6f492c-2b8d-46f0-b11e-e196447f0316",
   "metadata": {},
   "outputs": [],
   "source": [
    "Y_test_pred = best_estimator.predict_proba(X_test)"
   ]
  },
  {
   "cell_type": "code",
   "execution_count": 42,
   "id": "486cd0e6-0a03-4a52-82e8-689678be691c",
   "metadata": {},
   "outputs": [],
   "source": [
    "Y_test_pred_1 = Y_test_pred[:,1]"
   ]
  },
  {
   "cell_type": "code",
   "execution_count": 43,
   "id": "3f0e5542-88a7-4e29-aa94-e2144a7bb196",
   "metadata": {},
   "outputs": [
    {
     "data": {
      "text/plain": [
       "<matplotlib.legend.Legend at 0x7f6d3d4b5250>"
      ]
     },
     "execution_count": 43,
     "metadata": {},
     "output_type": "execute_result"
    },
    {
     "data": {
      "image/png": "[encoded data removed]",
      "text/plain": [
       "<Figure size 432x288 with 1 Axes>"
      ]
     },
     "metadata": {
      "needs_background": "light"
     },
     "output_type": "display_data"
    }
   ],
   "source": [
    "###最佳阈值\n",
    "def Find_Optimal_Cutoff(TPR, FPR, threshold):\n",
    "    y = TPR - FPR\n",
    "    Youden_index = np.argmax(y)  # Only the first occurrence is returned.\n",
    "    optimal_threshold = threshold[Youden_index]\n",
    "    point = [FPR[Youden_index], TPR[Youden_index]]\n",
    "    return optimal_threshold, point\n",
    "\n",
    "###ROC\n",
    "fpr, tpr, thersholds = roc_curve(Y_test, Y_test_pred_1, pos_label=1)\n",
    "best_thershold, point = Find_Optimal_Cutoff(tpr, fpr, thersholds)\n",
    "roc_auc = auc(fpr, tpr)\n",
    " \n",
    "plt.plot(fpr, tpr, 'k--', label='ROC (area = {0:.2f})'.format(roc_auc), lw=2)\n",
    " \n",
    "plt.xlim([-0.05, 1.05])  # 设置x、y轴的上下限，以免和边缘重合，更好的观察图像的整体\n",
    "plt.ylim([-0.05, 1.05])\n",
    "plt.plot(point[0], point[1], marker='o', color='r')\n",
    "plt.text(point[0], point[1], f'Threshold:{best_thershold:.4f}')\n",
    "plt.xlabel('False Positive Rate')\n",
    "plt.ylabel('True Positive Rate')  # 可以使用中文，但需要导入一些库即字体\n",
    "plt.title('ROC Curve')\n",
    "plt.legend(loc=\"lower right\")"
   ]
  },
  {
   "cell_type": "code",
   "execution_count": 44,
   "id": "334055ba-1d27-4b67-aeec-fd74c0840ea1",
   "metadata": {},
   "outputs": [
    {
     "data": {
      "text/plain": [
       "0.5510478410232366"
      ]
     },
     "execution_count": 44,
     "metadata": {},
     "output_type": "execute_result"
    }
   ],
   "source": [
    "roc_auc"
   ]
  },
  {
   "cell_type": "code",
   "execution_count": 45,
   "id": "a2d2e4a2-bdf2-4bff-a865-3f95012ac4a0",
   "metadata": {},
   "outputs": [
    {
     "data": {
      "text/plain": [
       "<AxesSubplot:title={'center':'Feature importance'}, xlabel='F score', ylabel='Features'>"
      ]
     },
     "execution_count": 45,
     "metadata": {},
     "output_type": "execute_result"
    },
    {
     "data": {
      "image/png": "[encoded data removed]",
      "text/plain": [
       "<Figure size 432x288 with 1 Axes>"
      ]
     },
     "metadata": {
      "needs_background": "light"
     },
     "output_type": "display_data"
    }
   ],
   "source": [
    "xgb.plot_importance(best_estimator,max_num_features=20,importance_type='gain')"
   ]
  },
  {
   "cell_type": "code",
   "execution_count": 46,
   "id": "331cc3ae-3874-4696-bcde-afc4869cf39b",
   "metadata": {},
   "outputs": [
    {
     "data": {
      "text/plain": [
       "renew_lock_cnt                 118.350021\n",
       "min_renew_date_diff             21.598600\n",
       "act_alias                       15.480365\n",
       "lastbuy_date_diff               14.785036\n",
       "ent_level                       12.616471\n",
       "act_category                     9.369637\n",
       "zps_pointbuy_60_uv               9.011218\n",
       "explicit_demand_flag_120_pv      7.940004\n",
       "gjg_start_15_uv                  7.480453\n",
       "jkzh_endtrial_60_uv              7.360945\n",
       "register_count_60_uv             7.253515\n",
       "sgd_jc_15_uv                     7.142254\n",
       "thisyear_newbuycnt               7.037286\n",
       "zps_endtrial_15_pv               6.991401\n",
       "sgd_pointbuy_60_uv               6.900464\n",
       "explicit_demand_flag_120_uv      6.862906\n",
       "signup_count_60_uv               6.598028\n",
       "branch                           6.475869\n",
       "vod_time_60_uv                   6.120877\n",
       "share_count_pv_120_pv            6.085343\n",
       "dtype: float64"
      ]
     },
     "execution_count": 46,
     "metadata": {},
     "output_type": "execute_result"
    },
    {
     "name": "stdout",
     "output_type": "stream",
     "text": [
      "[CV] END colsample_bytree=0.7133333333333334, learning_rate=0.01, max_depth=3, min_child_weight=4, n_estimators=200, subsample=0.7; total time=  23.9s\n",
      "[CV] END colsample_bytree=0.7133333333333334, learning_rate=0.01, max_depth=3, min_child_weight=4, n_estimators=200, subsample=0.7; total time=  23.5s\n",
      "[CV] END colsample_bytree=0.7666666666666666, learning_rate=0.020000000000000004, max_depth=9, min_child_weight=1, n_estimators=200, subsample=0.763157894736842; total time= 1.1min\n",
      "[CV] END colsample_bytree=0.7133333333333334, learning_rate=0.1, max_depth=2, min_child_weight=4, n_estimators=100, subsample=0.9842105263157894; total time=   7.2s\n",
      "[CV] END colsample_bytree=0.7133333333333334, learning_rate=0.1, max_depth=2, min_child_weight=4, n_estimators=100, subsample=0.9842105263157894; total time=   7.5s\n",
      "[CV] END colsample_bytree=0.7133333333333334, learning_rate=0.1, max_depth=2, min_child_weight=4, n_estimators=100, subsample=0.9842105263157894; total time=   7.2s\n",
      "[CV] END colsample_bytree=0.82, learning_rate=0.07, max_depth=5, min_child_weight=7, n_estimators=250, subsample=0.8105263157894737; total time=  47.6s\n",
      "[CV] END colsample_bytree=0.82, learning_rate=0.07, max_depth=5, min_child_weight=7, n_estimators=250, subsample=0.8105263157894737; total time=  47.7s\n",
      "[CV] END colsample_bytree=0.5533333333333333, learning_rate=0.04000000000000001, max_depth=5, min_child_weight=2, n_estimators=100, subsample=0.763157894736842; total time=  14.5s\n",
      "[CV] END colsample_bytree=0.7666666666666666, learning_rate=0.01, max_depth=8, min_child_weight=8, n_estimators=250, subsample=0.7947368421052632; total time= 1.2min\n",
      "[CV] END colsample_bytree=0.82, learning_rate=0.030000000000000006, max_depth=6, min_child_weight=2, n_estimators=200, subsample=0.9210526315789473; total time=  41.8s\n",
      "[CV] END colsample_bytree=0.82, learning_rate=0.030000000000000006, max_depth=6, min_child_weight=2, n_estimators=200, subsample=0.9210526315789473; total time=  41.9s\n",
      "[CV] END colsample_bytree=0.7133333333333334, learning_rate=0.04000000000000001, max_depth=5, min_child_weight=3, n_estimators=150, subsample=0.8736842105263158; total time=  24.3s\n",
      "[CV] END colsample_bytree=0.7133333333333334, learning_rate=0.04000000000000001, max_depth=5, min_child_weight=3, n_estimators=150, subsample=0.8736842105263158; total time=  24.5s\n",
      "[CV] END colsample_bytree=0.7133333333333334, learning_rate=0.06000000000000001, max_depth=3, min_child_weight=6, n_estimators=150, subsample=0.8421052631578947; total time=  16.2s\n",
      "[CV] END colsample_bytree=0.7133333333333334, learning_rate=0.06000000000000001, max_depth=3, min_child_weight=6, n_estimators=150, subsample=0.8421052631578947; total time=  16.2s\n",
      "[CV] END colsample_bytree=0.98, learning_rate=0.030000000000000006, max_depth=3, min_child_weight=3, n_estimators=100, subsample=0.8105263157894737; total time=  13.9s\n",
      "[CV] END colsample_bytree=0.6066666666666667, learning_rate=0.1, max_depth=7, min_child_weight=8, n_estimators=100, subsample=0.8736842105263158; total time=  19.6s\n",
      "[CV] END colsample_bytree=0.6066666666666667, learning_rate=0.1, max_depth=7, min_child_weight=8, n_estimators=100, subsample=0.8736842105263158; total time=  20.0s\n",
      "[CV] END colsample_bytree=0.82, learning_rate=0.05000000000000001, max_depth=3, min_child_weight=1, n_estimators=250, subsample=0.7157894736842105; total time=  31.0s\n",
      "[CV] END colsample_bytree=0.9266666666666666, learning_rate=0.09000000000000001, max_depth=3, min_child_weight=7, n_estimators=100, subsample=0.7789473684210526; total time=  13.5s\n",
      "[CV] END colsample_bytree=0.9266666666666666, learning_rate=0.09000000000000001, max_depth=3, min_child_weight=7, n_estimators=100, subsample=0.7789473684210526; total time=  13.6s\n",
      "[CV] END colsample_bytree=0.7666666666666666, learning_rate=0.06000000000000001, max_depth=3, min_child_weight=6, n_estimators=150, subsample=0.9842105263157894; total time=  15.1s\n",
      "[CV] END colsample_bytree=0.7666666666666666, learning_rate=0.06000000000000001, max_depth=3, min_child_weight=6, n_estimators=150, subsample=0.9842105263157894; total time=  15.6s\n",
      "[CV] END colsample_bytree=0.5533333333333333, learning_rate=0.030000000000000006, max_depth=5, min_child_weight=2, n_estimators=150, subsample=0.763157894736842; total time=  21.0s\n",
      "[CV] END colsample_bytree=0.7133333333333334, learning_rate=0.01, max_depth=3, min_child_weight=4, n_estimators=200, subsample=0.7; total time=  24.2s\n",
      "[CV] END colsample_bytree=0.7666666666666666, learning_rate=0.020000000000000004, max_depth=9, min_child_weight=1, n_estimators=200, subsample=0.763157894736842; total time= 1.2min\n",
      "[CV] END colsample_bytree=0.7666666666666666, learning_rate=0.020000000000000004, max_depth=9, min_child_weight=1, n_estimators=200, subsample=0.763157894736842; total time= 1.1min\n",
      "[CV] END colsample_bytree=0.82, learning_rate=0.07, max_depth=5, min_child_weight=7, n_estimators=250, subsample=0.8105263157894737; total time=  48.7s\n",
      "[CV] END colsample_bytree=0.5533333333333333, learning_rate=0.04000000000000001, max_depth=5, min_child_weight=2, n_estimators=100, subsample=0.763157894736842; total time=  14.6s\n",
      "[CV] END colsample_bytree=0.5533333333333333, learning_rate=0.04000000000000001, max_depth=5, min_child_weight=2, n_estimators=100, subsample=0.763157894736842; total time=  14.5s\n",
      "[CV] END colsample_bytree=0.7666666666666666, learning_rate=0.01, max_depth=8, min_child_weight=8, n_estimators=250, subsample=0.7947368421052632; total time= 1.2min\n",
      "[CV] END colsample_bytree=0.7666666666666666, learning_rate=0.01, max_depth=8, min_child_weight=8, n_estimators=250, subsample=0.7947368421052632; total time= 1.2min\n",
      "[CV] END colsample_bytree=0.82, learning_rate=0.030000000000000006, max_depth=6, min_child_weight=2, n_estimators=200, subsample=0.9210526315789473; total time=  43.3s\n",
      "[CV] END colsample_bytree=0.7133333333333334, learning_rate=0.04000000000000001, max_depth=5, min_child_weight=3, n_estimators=150, subsample=0.8736842105263158; total time=  25.1s\n",
      "[CV] END colsample_bytree=0.7133333333333334, learning_rate=0.06000000000000001, max_depth=3, min_child_weight=6, n_estimators=150, subsample=0.8421052631578947; total time=  16.4s\n",
      "[CV] END colsample_bytree=0.98, learning_rate=0.030000000000000006, max_depth=3, min_child_weight=3, n_estimators=100, subsample=0.8105263157894737; total time=  14.8s\n",
      "[CV] END colsample_bytree=0.98, learning_rate=0.030000000000000006, max_depth=3, min_child_weight=3, n_estimators=100, subsample=0.8105263157894737; total time=  14.4s\n",
      "[CV] END colsample_bytree=0.6066666666666667, learning_rate=0.1, max_depth=7, min_child_weight=8, n_estimators=100, subsample=0.8736842105263158; total time=  20.1s\n",
      "[CV] END colsample_bytree=0.82, learning_rate=0.05000000000000001, max_depth=3, min_child_weight=1, n_estimators=250, subsample=0.7157894736842105; total time=  31.9s\n",
      "[CV] END colsample_bytree=0.82, learning_rate=0.05000000000000001, max_depth=3, min_child_weight=1, n_estimators=250, subsample=0.7157894736842105; total time=  31.7s\n",
      "[CV] END colsample_bytree=0.9266666666666666, learning_rate=0.09000000000000001, max_depth=3, min_child_weight=7, n_estimators=100, subsample=0.7789473684210526; total time=  14.0s\n",
      "[CV] END colsample_bytree=0.7666666666666666, learning_rate=0.06000000000000001, max_depth=3, min_child_weight=6, n_estimators=150, subsample=0.9842105263157894; total time=  15.4s\n",
      "[CV] END colsample_bytree=0.5533333333333333, learning_rate=0.030000000000000006, max_depth=5, min_child_weight=2, n_estimators=150, subsample=0.763157894736842; total time=  21.3s\n",
      "[CV] END colsample_bytree=0.5533333333333333, learning_rate=0.030000000000000006, max_depth=5, min_child_weight=2, n_estimators=150, subsample=0.763157894736842; total time=  21.4s\n"
     ]
    }
   ],
   "source": [
    "weight = pd.Series(best_estimator.get_booster().get_score(importance_type='gain')).sort_values(ascending=False).head(20)\n",
    "weight"
   ]
  },
  {
   "cell_type": "code",
   "execution_count": 69,
   "id": "e9edfda5-211e-44e9-837a-edc48a7a590e",
   "metadata": {},
   "outputs": [
    {
     "data": {
      "text/plain": [
       "5.790906765735834e-40"
      ]
     },
     "execution_count": 69,
     "metadata": {},
     "output_type": "execute_result"
    }
   ],
   "source": [
    "#########\n",
    "#####样本分布程度\n",
    "from scipy.stats import ks_2samp\n",
    "ks_2samp(train2.iloc[:,1],test2.iloc[:,1]).pvalue"
   ]
  },
  {
   "cell_type": "code",
   "execution_count": 81,
   "id": "69870894-2f6b-4935-ab69-88b189f19bb8",
   "metadata": {},
   "outputs": [
    {
     "data": {
      "image/png": "[encoded data removed]",
      "text/plain": [
       "<Figure size 432x288 with 1 Axes>"
      ]
     },
     "metadata": {
      "needs_background": "light"
     },
     "output_type": "display_data"
    }
   ],
   "source": [
    "plt.hist(train2.iloc[:,2],bins=10)\n",
    "plt.title(\"data analyze\")\n",
    "plt.xlabel(\"height\")\n",
    "plt.ylabel(\"rate\")\n",
    " \n",
    "plt.show()"
   ]
  },
  {
   "cell_type": "code",
   "execution_count": 82,
   "id": "df873959-19d9-4bf4-8b27-71665b1c509f",
   "metadata": {},
   "outputs": [
    {
     "data": {
      "image/png": "[encoded data removed]",
      "text/plain": [
       "<Figure size 432x288 with 1 Axes>"
      ]
     },
     "metadata": {
      "needs_background": "light"
     },
     "output_type": "display_data"
    }
   ],
   "source": [
    "plt.hist(test2.iloc[:,2],bins=10)\n",
    "plt.title(\"data analyze\")\n",
    "plt.xlabel(\"height\")\n",
    "plt.ylabel(\"rate\")\n",
    " \n",
    "plt.show()"
   ]
  },
  {
   "cell_type": "code",
   "execution_count": 2,
   "id": "13e38a6b-5de4-4246-9a71-20954e53373f",
   "metadata": {},
   "outputs": [],
   "source": [
    "import sys\n",
    "sys.path.append('/data/gtair/tools/DWH')\n",
    "from GlodonSparkSession3 import GlodonSparkSession\n",
    "import os"
   ]
  },
  {
   "cell_type": "code",
   "execution_count": 3,
   "id": "5b960219-5416-49fd-ab84-88de928e8022",
   "metadata": {},
   "outputs": [
    {
     "name": "stdout",
     "output_type": "stream",
     "text": [
      "===============>app_name: gaokx_high_620502111\n",
      "=====================>resource_lev: high\n"
     ]
    },
    {
     "name": "stderr",
     "output_type": "stream",
     "text": [
      "Warning: Ignoring non-Spark config property: yarn.executor.num\n",
      "Warning: Ignoring non-Spark config property: yarn.executor.cores\n",
      "23/07/24 01:27:32 WARN util.NativeCodeLoader: Unable to load native-hadoop library for your platform... using builtin-java classes where applicable\n",
      "Setting default log level to \"WARN\".\n",
      "To adjust logging level use sc.setLogLevel(newLevel). For SparkR, use setLogLevel(newLevel).\n",
      "23/07/24 01:27:33 WARN util.Utils: Service 'SparkUI' could not bind on port 4040. Attempting port 4041.\n",
      "23/07/24 01:27:34 WARN shortcircuit.DomainSocketFactory: The short-circuit local reads feature cannot be used because libhadoop cannot be loaded.\n",
      "23/07/24 01:27:34 WARN yarn.Client: Neither spark.yarn.jars nor spark.yarn.archive is set, falling back to uploading libraries under SPARK_HOME.\n",
      "23/07/24 01:27:46 WARN spark.ExecutorAllocationManager: Dynamic allocation without a shuffle service is an experimental feature.\n",
      "23/07/24 01:27:46 WARN cluster.YarnSchedulerBackend$YarnSchedulerEndpoint: Attempted to request executors before the AM has registered!\n"
     ]
    }
   ],
   "source": [
    "spark = GlodonSparkSession().getSparkSession(log_lev='ERROR',resource_lev='high')"
   ]
  },
  {
   "cell_type": "code",
   "execution_count": 38,
   "id": "c3b9a50c-5dc0-4a35-b226-5b28c5e6df2e",
   "metadata": {},
   "outputs": [
    {
     "data": {
      "text/plain": [
       "\u001b[0;31mType:\u001b[0m        XGBClassifier\n",
       "\u001b[0;31mString form:\u001b[0m\n",
       "XGBClassifier(base_score=0.5, booster='gbtree', callbacks=None,\n",
       "           colsample_bylevel=1 <...> _parallel_tree=1, predictor='auto',\n",
       "           random_state=0, reg_alpha=0, reg_lambda=1, ...)\n",
       "\u001b[0;31mFile:\u001b[0m        /opt/conda/lib/python3.7/site-packages/xgboost/sklearn.py\n",
       "\u001b[0;31mDocstring:\u001b[0m  \n",
       "Implementation of the scikit-learn API for XGBoost classification.\n",
       "\n",
       "\n",
       "Parameters\n",
       "----------\n",
       "\n",
       "    n_estimators : int\n",
       "        Number of boosting rounds.\n",
       "\n",
       "    max_depth :  Optional[int]\n",
       "        Maximum tree depth for base learners.\n",
       "    max_leaves :\n",
       "        Maximum number of leaves; 0 indicates no limit.\n",
       "    max_bin :\n",
       "        If using histogram-based algorithm, maximum number of bins per feature\n",
       "    grow_policy :\n",
       "        Tree growing policy. 0: favor splitting at nodes closest to the node, i.e. grow\n",
       "        depth-wise. 1: favor splitting at nodes with highest loss change.\n",
       "    learning_rate : Optional[float]\n",
       "        Boosting learning rate (xgb's \"eta\")\n",
       "    verbosity : Optional[int]\n",
       "        The degree of verbosity. Valid values are 0 (silent) - 3 (debug).\n",
       "    objective : typing.Union[str, typing.Callable[[numpy.ndarray, numpy.ndarray], typing.Tuple[numpy.ndarray, numpy.ndarray]], NoneType]\n",
       "        Specify the learning task and the corresponding learning objective or\n",
       "        a custom objective function to be used (see note below).\n",
       "    booster: Optional[str]\n",
       "        Specify which booster to use: gbtree, gblinear or dart.\n",
       "    tree_method: Optional[str]\n",
       "        Specify which tree method to use.  Default to auto.  If this parameter is set to\n",
       "        default, XGBoost will choose the most conservative option available.  It's\n",
       "        recommended to study this option from the parameters document :doc:`tree method\n",
       "        </treemethod>`\n",
       "    n_jobs : Optional[int]\n",
       "        Number of parallel threads used to run xgboost.  When used with other Scikit-Learn\n",
       "        algorithms like grid search, you may choose which algorithm to parallelize and\n",
       "        balance the threads.  Creating thread contention will significantly slow down both\n",
       "        algorithms.\n",
       "    gamma : Optional[float]\n",
       "        (min_split_loss) Minimum loss reduction required to make a further partition on a\n",
       "        leaf node of the tree.\n",
       "    min_child_weight : Optional[float]\n",
       "        Minimum sum of instance weight(hessian) needed in a child.\n",
       "    max_delta_step : Optional[float]\n",
       "        Maximum delta step we allow each tree's weight estimation to be.\n",
       "    subsample : Optional[float]\n",
       "        Subsample ratio of the training instance.\n",
       "    sampling_method :\n",
       "        Sampling method. Used only by `gpu_hist` tree method.\n",
       "          - `uniform`: select random training instances uniformly.\n",
       "          - `gradient_based` select random training instances with higher probability when\n",
       "            the gradient and hessian are larger. (cf. CatBoost)\n",
       "    colsample_bytree : Optional[float]\n",
       "        Subsample ratio of columns when constructing each tree.\n",
       "    colsample_bylevel : Optional[float]\n",
       "        Subsample ratio of columns for each level.\n",
       "    colsample_bynode : Optional[float]\n",
       "        Subsample ratio of columns for each split.\n",
       "    reg_alpha : Optional[float]\n",
       "        L1 regularization term on weights (xgb's alpha).\n",
       "    reg_lambda : Optional[float]\n",
       "        L2 regularization term on weights (xgb's lambda).\n",
       "    scale_pos_weight : Optional[float]\n",
       "        Balancing of positive and negative weights.\n",
       "    base_score : Optional[float]\n",
       "        The initial prediction score of all instances, global bias.\n",
       "    random_state : Optional[Union[numpy.random.RandomState, int]]\n",
       "        Random number seed.\n",
       "\n",
       "        .. note::\n",
       "\n",
       "           Using gblinear booster with shotgun updater is nondeterministic as\n",
       "           it uses Hogwild algorithm.\n",
       "\n",
       "    missing : float, default np.nan\n",
       "        Value in the data which needs to be present as a missing value.\n",
       "    num_parallel_tree: Optional[int]\n",
       "        Used for boosting random forest.\n",
       "    monotone_constraints : Optional[Union[Dict[str, int], str]]\n",
       "        Constraint of variable monotonicity.  See :doc:`tutorial </tutorials/monotonic>`\n",
       "        for more information.\n",
       "    interaction_constraints : Optional[Union[str, List[Tuple[str]]]]\n",
       "        Constraints for interaction representing permitted interactions.  The\n",
       "        constraints must be specified in the form of a nested list, e.g. ``[[0, 1], [2,\n",
       "        3, 4]]``, where each inner list is a group of indices of features that are\n",
       "        allowed to interact with each other.  See :doc:`tutorial\n",
       "        </tutorials/feature_interaction_constraint>` for more information\n",
       "    importance_type: Optional[str]\n",
       "        The feature importance type for the feature_importances\\_ property:\n",
       "\n",
       "        * For tree model, it's either \"gain\", \"weight\", \"cover\", \"total_gain\" or\n",
       "          \"total_cover\".\n",
       "        * For linear model, only \"weight\" is defined and it's the normalized coefficients\n",
       "          without bias.\n",
       "\n",
       "    gpu_id : Optional[int]\n",
       "        Device ordinal.\n",
       "    validate_parameters : Optional[bool]\n",
       "        Give warnings for unknown parameter.\n",
       "    predictor : Optional[str]\n",
       "        Force XGBoost to use specific predictor, available choices are [cpu_predictor,\n",
       "        gpu_predictor].\n",
       "    enable_categorical : bool\n",
       "\n",
       "        .. versionadded:: 1.5.0\n",
       "\n",
       "        .. note:: This parameter is experimental\n",
       "\n",
       "        Experimental support for categorical data.  When enabled, cudf/pandas.DataFrame\n",
       "        should be used to specify categorical data type.  Also, JSON/UBJSON\n",
       "        serialization format is required.\n",
       "\n",
       "    max_cat_to_onehot : Optional[int]\n",
       "\n",
       "        .. versionadded:: 1.6.0\n",
       "\n",
       "        .. note:: This parameter is experimental\n",
       "\n",
       "        A threshold for deciding whether XGBoost should use one-hot encoding based split\n",
       "        for categorical data.  When number of categories is lesser than the threshold\n",
       "        then one-hot encoding is chosen, otherwise the categories will be partitioned\n",
       "        into children nodes.  Only relevant for regression and binary classification.\n",
       "        See :doc:`Categorical Data </tutorials/categorical>` for details.\n",
       "\n",
       "    eval_metric : Optional[Union[str, List[str], Callable]]\n",
       "\n",
       "        .. versionadded:: 1.6.0\n",
       "\n",
       "        Metric used for monitoring the training result and early stopping.  It can be a\n",
       "        string or list of strings as names of predefined metric in XGBoost (See\n",
       "        doc/parameter.rst), one of the metrics in :py:mod:`sklearn.metrics`, or any other\n",
       "        user defined metric that looks like `sklearn.metrics`.\n",
       "\n",
       "        If custom objective is also provided, then custom metric should implement the\n",
       "        corresponding reverse link function.\n",
       "\n",
       "        Unlike the `scoring` parameter commonly used in scikit-learn, when a callable\n",
       "        object is provided, it's assumed to be a cost function and by default XGBoost will\n",
       "        minimize the result during early stopping.\n",
       "\n",
       "        For advanced usage on Early stopping like directly choosing to maximize instead of\n",
       "        minimize, see :py:obj:`xgboost.callback.EarlyStopping`.\n",
       "\n",
       "        See :doc:`Custom Objective and Evaluation Metric </tutorials/custom_metric_obj>`\n",
       "        for more.\n",
       "\n",
       "        .. note::\n",
       "\n",
       "             This parameter replaces `eval_metric` in :py:meth:`fit` method.  The old one\n",
       "             receives un-transformed prediction regardless of whether custom objective is\n",
       "             being used.\n",
       "\n",
       "        .. code-block:: python\n",
       "\n",
       "            from sklearn.datasets import load_diabetes\n",
       "            from sklearn.metrics import mean_absolute_error\n",
       "            X, y = load_diabetes(return_X_y=True)\n",
       "            reg = xgb.XGBRegressor(\n",
       "                tree_method=\"hist\",\n",
       "                eval_metric=mean_absolute_error,\n",
       "            )\n",
       "            reg.fit(X, y, eval_set=[(X, y)])\n",
       "\n",
       "    early_stopping_rounds : Optional[int]\n",
       "\n",
       "        .. versionadded:: 1.6.0\n",
       "\n",
       "        Activates early stopping. Validation metric needs to improve at least once in\n",
       "        every **early_stopping_rounds** round(s) to continue training.  Requires at least\n",
       "        one item in **eval_set** in :py:meth:`fit`.\n",
       "\n",
       "        The method returns the model from the last iteration (not the best one).  If\n",
       "        there's more than one item in **eval_set**, the last entry will be used for early\n",
       "        stopping.  If there's more than one metric in **eval_metric**, the last metric\n",
       "        will be used for early stopping.\n",
       "\n",
       "        If early stopping occurs, the model will have three additional fields:\n",
       "        :py:attr:`best_score`, :py:attr:`best_iteration` and\n",
       "        :py:attr:`best_ntree_limit`.\n",
       "\n",
       "        .. note::\n",
       "\n",
       "            This parameter replaces `early_stopping_rounds` in :py:meth:`fit` method.\n",
       "\n",
       "    callbacks : Optional[List[TrainingCallback]]\n",
       "        List of callback functions that are applied at end of each iteration.\n",
       "        It is possible to use predefined callbacks by using\n",
       "        :ref:`Callback API <callback_api>`.\n",
       "\n",
       "        .. note::\n",
       "\n",
       "           States in callback are not preserved during training, which means callback\n",
       "           objects can not be reused for multiple training sessions without\n",
       "           reinitialization or deepcopy.\n",
       "\n",
       "        .. code-block:: python\n",
       "\n",
       "            for params in parameters_grid:\n",
       "                # be sure to (re)initialize the callbacks before each run\n",
       "                callbacks = [xgb.callback.LearningRateScheduler(custom_rates)]\n",
       "                xgboost.train(params, Xy, callbacks=callbacks)\n",
       "\n",
       "    kwargs : dict, optional\n",
       "        Keyword arguments for XGBoost Booster object.  Full documentation of parameters\n",
       "        can be found :doc:`here </parameter>`.\n",
       "        Attempting to set a parameter via the constructor args and \\*\\*kwargs\n",
       "        dict simultaneously will result in a TypeError.\n",
       "\n",
       "        .. note:: \\*\\*kwargs unsupported by scikit-learn\n",
       "\n",
       "            \\*\\*kwargs is unsupported by scikit-learn.  We do not guarantee\n",
       "            that parameters passed via this argument will interact properly\n",
       "            with scikit-learn.\n",
       "\n",
       "        .. note::  Custom objective function\n",
       "\n",
       "            A custom objective function can be provided for the ``objective``\n",
       "            parameter. In this case, it should have the signature\n",
       "            ``objective(y_true, y_pred) -> grad, hess``:\n",
       "\n",
       "            y_true: array_like of shape [n_samples]\n",
       "                The target values\n",
       "            y_pred: array_like of shape [n_samples]\n",
       "                The predicted values\n",
       "\n",
       "            grad: array_like of shape [n_samples]\n",
       "                The value of the gradient for each sample point.\n",
       "            hess: array_like of shape [n_samples]\n",
       "                The value of the second derivative for each sample point\n"
      ]
     },
     "metadata": {},
     "output_type": "display_data"
    }
   ],
   "source": [
    "?clf1"
   ]
  },
  {
   "cell_type": "code",
   "execution_count": null,
   "id": "0d544aa9-892b-4606-bfd1-cc0aebe07f98",
   "metadata": {},
   "outputs": [],
   "source": []
  }
 ],
 "metadata": {
  "kernelspec": {
   "display_name": "Python 3 (ipykernel)",
   "language": "python",
   "name": "python3"
  },
  "language_info": {
   "codemirror_mode": {
    "name": "ipython",
    "version": 3
   },
   "file_extension": ".py",
   "mimetype": "text/x-python",
   "name": "python",
   "nbconvert_exporter": "python",
   "pygments_lexer": "ipython3",
   "version": "3.7.10"
  }
 },
 "nbformat": 4,
 "nbformat_minor": 5
}
